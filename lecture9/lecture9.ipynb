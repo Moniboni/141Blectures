{
 "cells": [
  {
   "cell_type": "markdown",
   "metadata": {
    "slideshow": {
     "slide_type": "slide"
    }
   },
   "source": [
    "# Data Munging\n",
    "\n",
    "## Stats 141B\n",
    "\n",
    "## Lecture 9\n",
    "\n",
    "## Prof. Sharpnack\n",
    "\n",
    "## Lecture slides at http://anson.ucdavis.edu/~jsharpna/141Blectures/\n",
    "\n",
    "## Lecture repository at https://github.com/jsharpna/141Blectures/"
   ]
  },
  {
   "cell_type": "markdown",
   "metadata": {
    "slideshow": {
     "slide_type": "slide"
    }
   },
   "source": [
    "## US College Scorecard data\n",
    "\n",
    "- national college scorecard dataset: https://collegescorecard.ed.gov/data/ \n",
    "- dataset is a large comparison of accredited colleges and universities in the U.S\n",
    "\n",
    "> The College Scorecard is designed to increase transparency, putting the power in the hands of the public — from those choosing colleges to those improving college quality — to see how well different schools are serving their students."
   ]
  },
  {
   "cell_type": "code",
   "execution_count": 1,
   "metadata": {
    "slideshow": {
     "slide_type": "slide"
    }
   },
   "outputs": [],
   "source": [
    "import pandas as pd\n",
    "import numpy as np\n",
    "\n",
    "datadir = \"../data/CollegeScorecard\""
   ]
  },
  {
   "cell_type": "code",
   "execution_count": 2,
   "metadata": {
    "slideshow": {
     "slide_type": "slide"
    }
   },
   "outputs": [
    {
     "name": "stdout",
     "output_type": "stream",
     "text": [
      "total 2370008\r\n",
      "drwxr-xr-x 2 jsharpna jsharpna      4096 Oct 15 08:02 .\r\n",
      "drwxr-xr-x 3 jsharpna jsharpna      4096 Oct 15 08:02 ..\r\n",
      "-rw-r--r-- 1 jsharpna jsharpna  33271238 Oct 15 08:02 Crosswalks.zip\r\n",
      "-rw-r--r-- 1 jsharpna jsharpna    442127 Oct 15 08:02 data.yaml\r\n",
      "-rwx------ 1 jsharpna jsharpna  58599202 Oct 15 08:02 MERGED1996_97_PP.csv\r\n",
      "-rwx------ 1 jsharpna jsharpna  62079475 Oct 15 08:02 MERGED1997_98_PP.csv\r\n",
      "-rwx------ 1 jsharpna jsharpna  72985266 Oct 15 08:02 MERGED1998_99_PP.csv\r\n",
      "-rwx------ 1 jsharpna jsharpna  87268878 Oct 15 08:02 MERGED1999_00_PP.csv\r\n",
      "-rwx------ 1 jsharpna jsharpna  99908706 Oct 15 08:02 MERGED2000_01_PP.csv\r\n",
      "-rwx------ 1 jsharpna jsharpna 102737387 Oct 15 08:02 MERGED2001_02_PP.csv\r\n",
      "-rwx------ 1 jsharpna jsharpna 113939888 Oct 15 08:02 MERGED2002_03_PP.csv\r\n",
      "-rwx------ 1 jsharpna jsharpna 115920943 Oct 15 08:02 MERGED2003_04_PP.csv\r\n",
      "-rwx------ 1 jsharpna jsharpna 128668572 Oct 15 08:02 MERGED2004_05_PP.csv\r\n",
      "-rwx------ 1 jsharpna jsharpna 132889783 Oct 15 08:02 MERGED2005_06_PP.csv\r\n",
      "-rwx------ 1 jsharpna jsharpna 131577190 Oct 15 08:02 MERGED2006_07_PP.csv\r\n",
      "-rwx------ 1 jsharpna jsharpna 134289466 Oct 15 08:02 MERGED2007_08_PP.csv\r\n",
      "-rwx------ 1 jsharpna jsharpna 134184320 Oct 15 08:02 MERGED2008_09_PP.csv\r\n",
      "-rwx------ 1 jsharpna jsharpna 139738532 Oct 15 08:02 MERGED2009_10_PP.csv\r\n",
      "-rwx------ 1 jsharpna jsharpna 142663863 Oct 15 08:02 MERGED2010_11_PP.csv\r\n",
      "-rwx------ 1 jsharpna jsharpna 149332133 Oct 15 08:02 MERGED2011_12_PP.csv\r\n",
      "-rwx------ 1 jsharpna jsharpna 151258579 Oct 15 08:02 MERGED2012_13_PP.csv\r\n",
      "-rwx------ 1 jsharpna jsharpna 151930807 Oct 15 08:02 MERGED2013_14_PP.csv\r\n",
      "-rwx------ 1 jsharpna jsharpna 148476792 Oct 15 08:02 MERGED2014_15_PP.csv\r\n",
      "-rwx------ 1 jsharpna jsharpna  72145674 Oct 15 08:02 MERGED2015_16_PP.csv\r\n",
      "-rwx------ 1 jsharpna jsharpna  62514654 Oct 15 08:02 MERGED2016_17_PP.csv\r\n"
     ]
    }
   ],
   "source": [
    "!ls -la ../data/CollegeScorecard #here are the number of years w data"
   ]
  },
  {
   "cell_type": "markdown",
   "metadata": {
    "slideshow": {
     "slide_type": "slide"
    }
   },
   "source": [
    "### Pandas I/O\n",
    "\n",
    "<table border=\"1\" class=\"colwidths-given docutils\">\n",
    "<colgroup>\n",
    "<col width=\"12%\" />\n",
    "<col width=\"40%\" />\n",
    "<col width=\"24%\" />\n",
    "<col width=\"24%\" />\n",
    "</colgroup>\n",
    "<thead valign=\"bottom\">\n",
    "<tr class=\"row-odd\"><th class=\"head\">Format Type</th>\n",
    "<th class=\"head\">Data Description</th>\n",
    "<th class=\"head\">Reader</th>\n",
    "<th class=\"head\">Writer</th>\n",
    "</tr>\n",
    "</thead>\n",
    "<tbody valign=\"top\">\n",
    "<tr class=\"row-even\"><td>text</td>\n",
    "<td><a class=\"reference external\" href=\"https://en.wikipedia.org/wiki/Comma-separated_values\">CSV</a></td>\n",
    "<td><a class=\"reference internal\" href=\"#io-read-csv-table\"><span class=\"std std-ref\">read_csv</span></a></td>\n",
    "<td><a class=\"reference internal\" href=\"#io-store-in-csv\"><span class=\"std std-ref\">to_csv</span></a></td>\n",
    "</tr>\n",
    "<tr class=\"row-odd\"><td>text</td>\n",
    "<td><a class=\"reference external\" href=\"http://www.json.org/\">JSON</a></td>\n",
    "<td><a class=\"reference internal\" href=\"#io-json-reader\"><span class=\"std std-ref\">read_json</span></a></td>\n",
    "<td><a class=\"reference internal\" href=\"#io-json-writer\"><span class=\"std std-ref\">to_json</span></a></td>\n",
    "</tr>\n",
    "<tr class=\"row-even\"><td>text</td>\n",
    "<td><a class=\"reference external\" href=\"https://en.wikipedia.org/wiki/HTML\">HTML</a></td>\n",
    "<td><a class=\"reference internal\" href=\"#io-read-html\"><span class=\"std std-ref\">read_html</span></a></td>\n",
    "<td><a class=\"reference internal\" href=\"#io-html\"><span class=\"std std-ref\">to_html</span></a></td>\n",
    "</tr>\n",
    "<tr class=\"row-odd\"><td>text</td>\n",
    "<td>Local clipboard</td>\n",
    "<td><a class=\"reference internal\" href=\"#io-clipboard\"><span class=\"std std-ref\">read_clipboard</span></a></td>\n",
    "<td><a class=\"reference internal\" href=\"#io-clipboard\"><span class=\"std std-ref\">to_clipboard</span></a></td>\n",
    "</tr>\n",
    "<tr class=\"row-even\"><td>binary</td>\n",
    "<td><a class=\"reference external\" href=\"https://en.wikipedia.org/wiki/Microsoft_Excel\">MS Excel</a></td>\n",
    "<td><a class=\"reference internal\" href=\"#io-excel-reader\"><span class=\"std std-ref\">read_excel</span></a></td>\n",
    "<td><a class=\"reference internal\" href=\"#io-excel-writer\"><span class=\"std std-ref\">to_excel</span></a></td>\n",
    "</tr>\n",
    "<tr class=\"row-odd\"><td>binary</td>\n",
    "<td><a class=\"reference external\" href=\"https://support.hdfgroup.org/HDF5/whatishdf5.html\">HDF5 Format</a></td>\n",
    "<td><a class=\"reference internal\" href=\"#io-hdf5\"><span class=\"std std-ref\">read_hdf</span></a></td>\n",
    "<td><a class=\"reference internal\" href=\"#io-hdf5\"><span class=\"std std-ref\">to_hdf</span></a></td>\n",
    "</tr>\n",
    "<tr class=\"row-even\"><td>binary</td>\n",
    "<td><a class=\"reference external\" href=\"https://github.com/wesm/feather\">Feather Format</a></td>\n",
    "<td><a class=\"reference internal\" href=\"#io-feather\"><span class=\"std std-ref\">read_feather</span></a></td>\n",
    "<td><a class=\"reference internal\" href=\"#io-feather\"><span class=\"std std-ref\">to_feather</span></a></td>\n",
    "</tr>\n",
    "<tr class=\"row-odd\"><td>binary</td>\n",
    "<td><a class=\"reference external\" href=\"https://parquet.apache.org/\">Parquet Format</a></td>\n",
    "<td><a class=\"reference internal\" href=\"#io-parquet\"><span class=\"std std-ref\">read_parquet</span></a></td>\n",
    "<td><a class=\"reference internal\" href=\"#io-parquet\"><span class=\"std std-ref\">to_parquet</span></a></td>\n",
    "</tr>\n",
    "<tr class=\"row-even\"><td>binary</td>\n",
    "<td><a class=\"reference external\" href=\"http://msgpack.org/index.html\">Msgpack</a></td>\n",
    "<td><a class=\"reference internal\" href=\"#io-msgpack\"><span class=\"std std-ref\">read_msgpack</span></a></td>\n",
    "<td><a class=\"reference internal\" href=\"#io-msgpack\"><span class=\"std std-ref\">to_msgpack</span></a></td>\n",
    "</tr>\n",
    "<tr class=\"row-odd\"><td>binary</td>\n",
    "<td><a class=\"reference external\" href=\"https://en.wikipedia.org/wiki/Stata\">Stata</a></td>\n",
    "<td><a class=\"reference internal\" href=\"#io-stata-reader\"><span class=\"std std-ref\">read_stata</span></a></td>\n",
    "<td><a class=\"reference internal\" href=\"#io-stata-writer\"><span class=\"std std-ref\">to_stata</span></a></td>\n",
    "</tr>\n",
    "<tr class=\"row-even\"><td>binary</td>\n",
    "<td><a class=\"reference external\" href=\"https://en.wikipedia.org/wiki/SAS_(software)\">SAS</a></td>\n",
    "<td><a class=\"reference internal\" href=\"#io-sas-reader\"><span class=\"std std-ref\">read_sas</span></a></td>\n",
    "<td>&#160;</td>\n",
    "</tr>\n",
    "<tr class=\"row-odd\"><td>binary</td>\n",
    "<td><a class=\"reference external\" href=\"https://docs.python.org/3/library/pickle.html\">Python Pickle Format</a></td>\n",
    "<td><a class=\"reference internal\" href=\"#io-pickle\"><span class=\"std std-ref\">read_pickle</span></a></td>\n",
    "<td><a class=\"reference internal\" href=\"#io-pickle\"><span class=\"std std-ref\">to_pickle</span></a></td>\n",
    "</tr>\n",
    "<tr class=\"row-even\"><td>SQL</td>\n",
    "<td><a class=\"reference external\" href=\"https://en.wikipedia.org/wiki/SQL\">SQL</a></td>\n",
    "<td><a class=\"reference internal\" href=\"#io-sql\"><span class=\"std std-ref\">read_sql</span></a></td>\n",
    "<td><a class=\"reference internal\" href=\"#io-sql\"><span class=\"std std-ref\">to_sql</span></a></td>\n",
    "</tr>\n",
    "<tr class=\"row-odd\"><td>SQL</td>\n",
    "<td><a class=\"reference external\" href=\"https://en.wikipedia.org/wiki/BigQuery\">Google Big Query</a></td>\n",
    "<td><a class=\"reference internal\" href=\"#io-bigquery\"><span class=\"std std-ref\">read_gbq</span></a></td>\n",
    "<td><a class=\"reference internal\" href=\"#io-bigquery\"><span class=\"std std-ref\">to_gbq</span></a></td>\n",
    "</tr>\n",
    "</tbody>\n",
    "</table>\n",
    "\n",
    "* from https://pandas.pydata.org/pandas-docs/stable/io.html"
   ]
  },
  {
   "cell_type": "markdown",
   "metadata": {
    "slideshow": {
     "slide_type": "slide"
    }
   },
   "source": [
    "### Practice munging on a subset of data\n",
    "\n",
    "- for multiple moderate data files, read in one practice munging\n",
    "- for a single large CSV, HDF5, SQL database, etc. read it in chunks (later).  \n",
    "- anticipate curveballs with linux tools"
   ]
  },
  {
   "cell_type": "code",
   "execution_count": 3,
   "metadata": {
    "slideshow": {
     "slide_type": "fragment"
    }
   },
   "outputs": [
    {
     "name": "stderr",
     "output_type": "stream",
     "text": [
      "/home/jsharpna/anaconda/lib/python3.7/site-packages/IPython/core/interactiveshell.py:2785: DtypeWarning: Columns (1) have mixed types. Specify dtype option on import or set low_memory=False.\n",
      "  interactivity=interactivity, compiler=compiler, result=result)\n"
     ]
    }
   ],
   "source": [
    "# read in the 2009 data\n",
    "COL = pd.read_csv(datadir + '/MERGED2009_10_PP.csv')"
   ]
  },
  {
   "cell_type": "code",
   "execution_count": 4,
   "metadata": {
    "slideshow": {
     "slide_type": "slide"
    }
   },
   "outputs": [
    {
     "data": {
      "text/html": [
       "<div>\n",
       "<style scoped>\n",
       "    .dataframe tbody tr th:only-of-type {\n",
       "        vertical-align: middle;\n",
       "    }\n",
       "\n",
       "    .dataframe tbody tr th {\n",
       "        vertical-align: top;\n",
       "    }\n",
       "\n",
       "    .dataframe thead th {\n",
       "        text-align: right;\n",
       "    }\n",
       "</style>\n",
       "<table border=\"1\" class=\"dataframe\">\n",
       "  <thead>\n",
       "    <tr style=\"text-align: right;\">\n",
       "      <th></th>\n",
       "      <th>UNITID</th>\n",
       "      <th>OPEID</th>\n",
       "      <th>OPEID6</th>\n",
       "      <th>INSTNM</th>\n",
       "      <th>CITY</th>\n",
       "      <th>STABBR</th>\n",
       "      <th>ZIP</th>\n",
       "      <th>ACCREDAGENCY</th>\n",
       "      <th>INSTURL</th>\n",
       "      <th>NPCURL</th>\n",
       "      <th>...</th>\n",
       "      <th>C150_L4_PELL</th>\n",
       "      <th>D150_L4_PELL</th>\n",
       "      <th>C150_4_LOANNOPELL</th>\n",
       "      <th>D150_4_LOANNOPELL</th>\n",
       "      <th>C150_L4_LOANNOPELL</th>\n",
       "      <th>D150_L4_LOANNOPELL</th>\n",
       "      <th>C150_4_NOLOANNOPELL</th>\n",
       "      <th>D150_4_NOLOANNOPELL</th>\n",
       "      <th>C150_L4_NOLOANNOPELL</th>\n",
       "      <th>D150_L4_NOLOANNOPELL</th>\n",
       "    </tr>\n",
       "  </thead>\n",
       "  <tbody>\n",
       "    <tr>\n",
       "      <th>0</th>\n",
       "      <td>100654</td>\n",
       "      <td>100200</td>\n",
       "      <td>1002</td>\n",
       "      <td>Alabama A &amp; M University</td>\n",
       "      <td>Normal</td>\n",
       "      <td>AL</td>\n",
       "      <td>35762</td>\n",
       "      <td>NaN</td>\n",
       "      <td>NaN</td>\n",
       "      <td>NaN</td>\n",
       "      <td>...</td>\n",
       "      <td>NaN</td>\n",
       "      <td>NaN</td>\n",
       "      <td>NaN</td>\n",
       "      <td>NaN</td>\n",
       "      <td>NaN</td>\n",
       "      <td>NaN</td>\n",
       "      <td>NaN</td>\n",
       "      <td>NaN</td>\n",
       "      <td>NaN</td>\n",
       "      <td>NaN</td>\n",
       "    </tr>\n",
       "    <tr>\n",
       "      <th>1</th>\n",
       "      <td>100663</td>\n",
       "      <td>105200</td>\n",
       "      <td>1052</td>\n",
       "      <td>University of Alabama at Birmingham</td>\n",
       "      <td>Birmingham</td>\n",
       "      <td>AL</td>\n",
       "      <td>35294-0110</td>\n",
       "      <td>NaN</td>\n",
       "      <td>NaN</td>\n",
       "      <td>NaN</td>\n",
       "      <td>...</td>\n",
       "      <td>NaN</td>\n",
       "      <td>NaN</td>\n",
       "      <td>NaN</td>\n",
       "      <td>NaN</td>\n",
       "      <td>NaN</td>\n",
       "      <td>NaN</td>\n",
       "      <td>NaN</td>\n",
       "      <td>NaN</td>\n",
       "      <td>NaN</td>\n",
       "      <td>NaN</td>\n",
       "    </tr>\n",
       "    <tr>\n",
       "      <th>2</th>\n",
       "      <td>100690</td>\n",
       "      <td>2503400</td>\n",
       "      <td>25034</td>\n",
       "      <td>Amridge University</td>\n",
       "      <td>Montgomery</td>\n",
       "      <td>AL</td>\n",
       "      <td>36117-3553</td>\n",
       "      <td>NaN</td>\n",
       "      <td>NaN</td>\n",
       "      <td>NaN</td>\n",
       "      <td>...</td>\n",
       "      <td>NaN</td>\n",
       "      <td>NaN</td>\n",
       "      <td>NaN</td>\n",
       "      <td>NaN</td>\n",
       "      <td>NaN</td>\n",
       "      <td>NaN</td>\n",
       "      <td>NaN</td>\n",
       "      <td>NaN</td>\n",
       "      <td>NaN</td>\n",
       "      <td>NaN</td>\n",
       "    </tr>\n",
       "    <tr>\n",
       "      <th>3</th>\n",
       "      <td>100706</td>\n",
       "      <td>105500</td>\n",
       "      <td>1055</td>\n",
       "      <td>University of Alabama in Huntsville</td>\n",
       "      <td>Huntsville</td>\n",
       "      <td>AL</td>\n",
       "      <td>35899</td>\n",
       "      <td>NaN</td>\n",
       "      <td>NaN</td>\n",
       "      <td>NaN</td>\n",
       "      <td>...</td>\n",
       "      <td>NaN</td>\n",
       "      <td>NaN</td>\n",
       "      <td>NaN</td>\n",
       "      <td>NaN</td>\n",
       "      <td>NaN</td>\n",
       "      <td>NaN</td>\n",
       "      <td>NaN</td>\n",
       "      <td>NaN</td>\n",
       "      <td>NaN</td>\n",
       "      <td>NaN</td>\n",
       "    </tr>\n",
       "    <tr>\n",
       "      <th>4</th>\n",
       "      <td>100724</td>\n",
       "      <td>100500</td>\n",
       "      <td>1005</td>\n",
       "      <td>Alabama State University</td>\n",
       "      <td>Montgomery</td>\n",
       "      <td>AL</td>\n",
       "      <td>36104-0271</td>\n",
       "      <td>NaN</td>\n",
       "      <td>NaN</td>\n",
       "      <td>NaN</td>\n",
       "      <td>...</td>\n",
       "      <td>NaN</td>\n",
       "      <td>NaN</td>\n",
       "      <td>NaN</td>\n",
       "      <td>NaN</td>\n",
       "      <td>NaN</td>\n",
       "      <td>NaN</td>\n",
       "      <td>NaN</td>\n",
       "      <td>NaN</td>\n",
       "      <td>NaN</td>\n",
       "      <td>NaN</td>\n",
       "    </tr>\n",
       "  </tbody>\n",
       "</table>\n",
       "<p>5 rows × 1844 columns</p>\n",
       "</div>"
      ],
      "text/plain": [
       "   UNITID    OPEID  OPEID6                               INSTNM        CITY  \\\n",
       "0  100654   100200    1002             Alabama A & M University      Normal   \n",
       "1  100663   105200    1052  University of Alabama at Birmingham  Birmingham   \n",
       "2  100690  2503400   25034                   Amridge University  Montgomery   \n",
       "3  100706   105500    1055  University of Alabama in Huntsville  Huntsville   \n",
       "4  100724   100500    1005             Alabama State University  Montgomery   \n",
       "\n",
       "  STABBR         ZIP  ACCREDAGENCY  INSTURL  NPCURL          ...           \\\n",
       "0     AL       35762           NaN      NaN     NaN          ...            \n",
       "1     AL  35294-0110           NaN      NaN     NaN          ...            \n",
       "2     AL  36117-3553           NaN      NaN     NaN          ...            \n",
       "3     AL       35899           NaN      NaN     NaN          ...            \n",
       "4     AL  36104-0271           NaN      NaN     NaN          ...            \n",
       "\n",
       "   C150_L4_PELL  D150_L4_PELL  C150_4_LOANNOPELL  D150_4_LOANNOPELL  \\\n",
       "0           NaN           NaN                NaN                NaN   \n",
       "1           NaN           NaN                NaN                NaN   \n",
       "2           NaN           NaN                NaN                NaN   \n",
       "3           NaN           NaN                NaN                NaN   \n",
       "4           NaN           NaN                NaN                NaN   \n",
       "\n",
       "   C150_L4_LOANNOPELL  D150_L4_LOANNOPELL  C150_4_NOLOANNOPELL  \\\n",
       "0                 NaN                 NaN                  NaN   \n",
       "1                 NaN                 NaN                  NaN   \n",
       "2                 NaN                 NaN                  NaN   \n",
       "3                 NaN                 NaN                  NaN   \n",
       "4                 NaN                 NaN                  NaN   \n",
       "\n",
       "   D150_4_NOLOANNOPELL  C150_L4_NOLOANNOPELL  D150_L4_NOLOANNOPELL  \n",
       "0                  NaN                   NaN                   NaN  \n",
       "1                  NaN                   NaN                   NaN  \n",
       "2                  NaN                   NaN                   NaN  \n",
       "3                  NaN                   NaN                   NaN  \n",
       "4                  NaN                   NaN                   NaN  \n",
       "\n",
       "[5 rows x 1844 columns]"
      ]
     },
     "execution_count": 4,
     "metadata": {},
     "output_type": "execute_result"
    }
   ],
   "source": [
    "COL.head() # look at the top 5 rows"
   ]
  },
  {
   "cell_type": "code",
   "execution_count": 5,
   "metadata": {
    "slideshow": {
     "slide_type": "slide"
    }
   },
   "outputs": [
    {
     "data": {
      "text/plain": [
       "pandas.core.frame.DataFrame"
      ]
     },
     "execution_count": 5,
     "metadata": {},
     "output_type": "execute_result"
    }
   ],
   "source": [
    "type(COL) # Pandas is built around DataFrame"
   ]
  },
  {
   "cell_type": "code",
   "execution_count": 6,
   "metadata": {
    "slideshow": {
     "slide_type": "fragment"
    }
   },
   "outputs": [
    {
     "data": {
      "text/plain": [
       "UNITID                    int64\n",
       "OPEID                    object\n",
       "OPEID6                    int64\n",
       "INSTNM                   object\n",
       "CITY                     object\n",
       "STABBR                   object\n",
       "ZIP                      object\n",
       "ACCREDAGENCY            float64\n",
       "INSTURL                 float64\n",
       "NPCURL                  float64\n",
       "SCH_DEG                 float64\n",
       "HCM2                    float64\n",
       "MAIN                      int64\n",
       "NUMBRANCH                 int64\n",
       "PREDDEG                   int64\n",
       "HIGHDEG                   int64\n",
       "CONTROL                   int64\n",
       "ST_FIPS                   int64\n",
       "REGION                    int64\n",
       "LOCALE                  float64\n",
       "LOCALE2                 float64\n",
       "LATITUDE                float64\n",
       "LONGITUDE               float64\n",
       "CCBASIC                 float64\n",
       "CCUGPROF                float64\n",
       "CCSIZSET                float64\n",
       "HBCU                    float64\n",
       "PBI                     float64\n",
       "ANNHI                   float64\n",
       "TRIBAL                  float64\n",
       "                         ...   \n",
       "POOLYRSRET_PT           float64\n",
       "RET_FT4_POOLED_SUPP     float64\n",
       "RET_FTL4_POOLED_SUPP    float64\n",
       "RET_PT4_POOLED_SUPP     float64\n",
       "RET_PTL4_POOLED_SUPP    float64\n",
       "TRANS_4_POOLED          float64\n",
       "TRANS_L4_POOLED         float64\n",
       "DTRANS_4_POOLED         float64\n",
       "DTRANS_L4_POOLED        float64\n",
       "TRANS_4_POOLED_SUPP     float64\n",
       "TRANS_L4_POOLED_SUPP    float64\n",
       "C100_4_POOLED           float64\n",
       "C100_L4_POOLED          float64\n",
       "D100_4_POOLED           float64\n",
       "D100_L4_POOLED          float64\n",
       "POOLYRS100              float64\n",
       "C100_4_POOLED_SUPP      float64\n",
       "C100_L4_POOLED_SUPP     float64\n",
       "C150_4_PELL             float64\n",
       "D150_4_PELL             float64\n",
       "C150_L4_PELL            float64\n",
       "D150_L4_PELL            float64\n",
       "C150_4_LOANNOPELL       float64\n",
       "D150_4_LOANNOPELL       float64\n",
       "C150_L4_LOANNOPELL      float64\n",
       "D150_L4_LOANNOPELL      float64\n",
       "C150_4_NOLOANNOPELL     float64\n",
       "D150_4_NOLOANNOPELL     float64\n",
       "C150_L4_NOLOANNOPELL    float64\n",
       "D150_L4_NOLOANNOPELL    float64\n",
       "Length: 1844, dtype: object"
      ]
     },
     "execution_count": 6,
     "metadata": {},
     "output_type": "execute_result"
    }
   ],
   "source": [
    "COL.dtypes # see the types of columns"
   ]
  },
  {
   "cell_type": "code",
   "execution_count": 7,
   "metadata": {
    "slideshow": {
     "slide_type": "slide"
    }
   },
   "outputs": [
    {
     "name": "stdout",
     "output_type": "stream",
     "text": [
      "<class 'pandas.core.frame.DataFrame'>\n",
      "RangeIndex: 7149 entries, 0 to 7148\n",
      "Columns: 1844 entries, UNITID to D150_L4_NOLOANNOPELL\n",
      "dtypes: float64(634), int64(10), object(1200)\n",
      "memory usage: 100.6+ MB\n"
     ]
    }
   ],
   "source": [
    "# Let's explore the DataFrame\n",
    "COL.info()"
   ]
  },
  {
   "cell_type": "code",
   "execution_count": 8,
   "metadata": {
    "slideshow": {
     "slide_type": "slide"
    }
   },
   "outputs": [
    {
     "data": {
      "text/html": [
       "<div>\n",
       "<style scoped>\n",
       "    .dataframe tbody tr th:only-of-type {\n",
       "        vertical-align: middle;\n",
       "    }\n",
       "\n",
       "    .dataframe tbody tr th {\n",
       "        vertical-align: top;\n",
       "    }\n",
       "\n",
       "    .dataframe thead th {\n",
       "        text-align: right;\n",
       "    }\n",
       "</style>\n",
       "<table border=\"1\" class=\"dataframe\">\n",
       "  <thead>\n",
       "    <tr style=\"text-align: right;\">\n",
       "      <th></th>\n",
       "      <th>UNITID</th>\n",
       "      <th>OPEID6</th>\n",
       "      <th>ACCREDAGENCY</th>\n",
       "      <th>INSTURL</th>\n",
       "      <th>NPCURL</th>\n",
       "      <th>SCH_DEG</th>\n",
       "      <th>HCM2</th>\n",
       "      <th>MAIN</th>\n",
       "      <th>NUMBRANCH</th>\n",
       "      <th>PREDDEG</th>\n",
       "      <th>...</th>\n",
       "      <th>C150_L4_PELL</th>\n",
       "      <th>D150_L4_PELL</th>\n",
       "      <th>C150_4_LOANNOPELL</th>\n",
       "      <th>D150_4_LOANNOPELL</th>\n",
       "      <th>C150_L4_LOANNOPELL</th>\n",
       "      <th>D150_L4_LOANNOPELL</th>\n",
       "      <th>C150_4_NOLOANNOPELL</th>\n",
       "      <th>D150_4_NOLOANNOPELL</th>\n",
       "      <th>C150_L4_NOLOANNOPELL</th>\n",
       "      <th>D150_L4_NOLOANNOPELL</th>\n",
       "    </tr>\n",
       "  </thead>\n",
       "  <tbody>\n",
       "    <tr>\n",
       "      <th>count</th>\n",
       "      <td>7.149000e+03</td>\n",
       "      <td>7149.000000</td>\n",
       "      <td>0.0</td>\n",
       "      <td>0.0</td>\n",
       "      <td>0.0</td>\n",
       "      <td>7038.000000</td>\n",
       "      <td>0.0</td>\n",
       "      <td>7149.000000</td>\n",
       "      <td>7149.000000</td>\n",
       "      <td>7149.000000</td>\n",
       "      <td>...</td>\n",
       "      <td>0.0</td>\n",
       "      <td>0.0</td>\n",
       "      <td>0.0</td>\n",
       "      <td>0.0</td>\n",
       "      <td>0.0</td>\n",
       "      <td>0.0</td>\n",
       "      <td>0.0</td>\n",
       "      <td>0.0</td>\n",
       "      <td>0.0</td>\n",
       "      <td>0.0</td>\n",
       "    </tr>\n",
       "    <tr>\n",
       "      <th>mean</th>\n",
       "      <td>8.797713e+05</td>\n",
       "      <td>14762.266051</td>\n",
       "      <td>NaN</td>\n",
       "      <td>NaN</td>\n",
       "      <td>NaN</td>\n",
       "      <td>1.965331</td>\n",
       "      <td>NaN</td>\n",
       "      <td>0.786264</td>\n",
       "      <td>4.050077</td>\n",
       "      <td>1.870471</td>\n",
       "      <td>...</td>\n",
       "      <td>NaN</td>\n",
       "      <td>NaN</td>\n",
       "      <td>NaN</td>\n",
       "      <td>NaN</td>\n",
       "      <td>NaN</td>\n",
       "      <td>NaN</td>\n",
       "      <td>NaN</td>\n",
       "      <td>NaN</td>\n",
       "      <td>NaN</td>\n",
       "      <td>NaN</td>\n",
       "    </tr>\n",
       "    <tr>\n",
       "      <th>std</th>\n",
       "      <td>3.727733e+06</td>\n",
       "      <td>12546.991787</td>\n",
       "      <td>NaN</td>\n",
       "      <td>NaN</td>\n",
       "      <td>NaN</td>\n",
       "      <td>0.886283</td>\n",
       "      <td>NaN</td>\n",
       "      <td>0.409971</td>\n",
       "      <td>11.221270</td>\n",
       "      <td>0.998604</td>\n",
       "      <td>...</td>\n",
       "      <td>NaN</td>\n",
       "      <td>NaN</td>\n",
       "      <td>NaN</td>\n",
       "      <td>NaN</td>\n",
       "      <td>NaN</td>\n",
       "      <td>NaN</td>\n",
       "      <td>NaN</td>\n",
       "      <td>NaN</td>\n",
       "      <td>NaN</td>\n",
       "      <td>NaN</td>\n",
       "    </tr>\n",
       "    <tr>\n",
       "      <th>min</th>\n",
       "      <td>1.006540e+05</td>\n",
       "      <td>1002.000000</td>\n",
       "      <td>NaN</td>\n",
       "      <td>NaN</td>\n",
       "      <td>NaN</td>\n",
       "      <td>1.000000</td>\n",
       "      <td>NaN</td>\n",
       "      <td>0.000000</td>\n",
       "      <td>1.000000</td>\n",
       "      <td>0.000000</td>\n",
       "      <td>...</td>\n",
       "      <td>NaN</td>\n",
       "      <td>NaN</td>\n",
       "      <td>NaN</td>\n",
       "      <td>NaN</td>\n",
       "      <td>NaN</td>\n",
       "      <td>NaN</td>\n",
       "      <td>NaN</td>\n",
       "      <td>NaN</td>\n",
       "      <td>NaN</td>\n",
       "      <td>NaN</td>\n",
       "    </tr>\n",
       "    <tr>\n",
       "      <th>25%</th>\n",
       "      <td>1.651670e+05</td>\n",
       "      <td>3285.000000</td>\n",
       "      <td>NaN</td>\n",
       "      <td>NaN</td>\n",
       "      <td>NaN</td>\n",
       "      <td>1.000000</td>\n",
       "      <td>NaN</td>\n",
       "      <td>1.000000</td>\n",
       "      <td>1.000000</td>\n",
       "      <td>1.000000</td>\n",
       "      <td>...</td>\n",
       "      <td>NaN</td>\n",
       "      <td>NaN</td>\n",
       "      <td>NaN</td>\n",
       "      <td>NaN</td>\n",
       "      <td>NaN</td>\n",
       "      <td>NaN</td>\n",
       "      <td>NaN</td>\n",
       "      <td>NaN</td>\n",
       "      <td>NaN</td>\n",
       "      <td>NaN</td>\n",
       "    </tr>\n",
       "    <tr>\n",
       "      <th>50%</th>\n",
       "      <td>2.154420e+05</td>\n",
       "      <td>10038.000000</td>\n",
       "      <td>NaN</td>\n",
       "      <td>NaN</td>\n",
       "      <td>NaN</td>\n",
       "      <td>2.000000</td>\n",
       "      <td>NaN</td>\n",
       "      <td>1.000000</td>\n",
       "      <td>1.000000</td>\n",
       "      <td>2.000000</td>\n",
       "      <td>...</td>\n",
       "      <td>NaN</td>\n",
       "      <td>NaN</td>\n",
       "      <td>NaN</td>\n",
       "      <td>NaN</td>\n",
       "      <td>NaN</td>\n",
       "      <td>NaN</td>\n",
       "      <td>NaN</td>\n",
       "      <td>NaN</td>\n",
       "      <td>NaN</td>\n",
       "      <td>NaN</td>\n",
       "    </tr>\n",
       "    <tr>\n",
       "      <th>75%</th>\n",
       "      <td>4.193140e+05</td>\n",
       "      <td>23610.000000</td>\n",
       "      <td>NaN</td>\n",
       "      <td>NaN</td>\n",
       "      <td>NaN</td>\n",
       "      <td>3.000000</td>\n",
       "      <td>NaN</td>\n",
       "      <td>1.000000</td>\n",
       "      <td>2.000000</td>\n",
       "      <td>3.000000</td>\n",
       "      <td>...</td>\n",
       "      <td>NaN</td>\n",
       "      <td>NaN</td>\n",
       "      <td>NaN</td>\n",
       "      <td>NaN</td>\n",
       "      <td>NaN</td>\n",
       "      <td>NaN</td>\n",
       "      <td>NaN</td>\n",
       "      <td>NaN</td>\n",
       "      <td>NaN</td>\n",
       "      <td>NaN</td>\n",
       "    </tr>\n",
       "    <tr>\n",
       "      <th>max</th>\n",
       "      <td>4.497000e+07</td>\n",
       "      <td>41552.000000</td>\n",
       "      <td>NaN</td>\n",
       "      <td>NaN</td>\n",
       "      <td>NaN</td>\n",
       "      <td>3.000000</td>\n",
       "      <td>NaN</td>\n",
       "      <td>1.000000</td>\n",
       "      <td>74.000000</td>\n",
       "      <td>4.000000</td>\n",
       "      <td>...</td>\n",
       "      <td>NaN</td>\n",
       "      <td>NaN</td>\n",
       "      <td>NaN</td>\n",
       "      <td>NaN</td>\n",
       "      <td>NaN</td>\n",
       "      <td>NaN</td>\n",
       "      <td>NaN</td>\n",
       "      <td>NaN</td>\n",
       "      <td>NaN</td>\n",
       "      <td>NaN</td>\n",
       "    </tr>\n",
       "  </tbody>\n",
       "</table>\n",
       "<p>8 rows × 644 columns</p>\n",
       "</div>"
      ],
      "text/plain": [
       "             UNITID        OPEID6  ACCREDAGENCY  INSTURL  NPCURL      SCH_DEG  \\\n",
       "count  7.149000e+03   7149.000000           0.0      0.0     0.0  7038.000000   \n",
       "mean   8.797713e+05  14762.266051           NaN      NaN     NaN     1.965331   \n",
       "std    3.727733e+06  12546.991787           NaN      NaN     NaN     0.886283   \n",
       "min    1.006540e+05   1002.000000           NaN      NaN     NaN     1.000000   \n",
       "25%    1.651670e+05   3285.000000           NaN      NaN     NaN     1.000000   \n",
       "50%    2.154420e+05  10038.000000           NaN      NaN     NaN     2.000000   \n",
       "75%    4.193140e+05  23610.000000           NaN      NaN     NaN     3.000000   \n",
       "max    4.497000e+07  41552.000000           NaN      NaN     NaN     3.000000   \n",
       "\n",
       "       HCM2         MAIN    NUMBRANCH      PREDDEG          ...           \\\n",
       "count   0.0  7149.000000  7149.000000  7149.000000          ...            \n",
       "mean    NaN     0.786264     4.050077     1.870471          ...            \n",
       "std     NaN     0.409971    11.221270     0.998604          ...            \n",
       "min     NaN     0.000000     1.000000     0.000000          ...            \n",
       "25%     NaN     1.000000     1.000000     1.000000          ...            \n",
       "50%     NaN     1.000000     1.000000     2.000000          ...            \n",
       "75%     NaN     1.000000     2.000000     3.000000          ...            \n",
       "max     NaN     1.000000    74.000000     4.000000          ...            \n",
       "\n",
       "       C150_L4_PELL  D150_L4_PELL  C150_4_LOANNOPELL  D150_4_LOANNOPELL  \\\n",
       "count           0.0           0.0                0.0                0.0   \n",
       "mean            NaN           NaN                NaN                NaN   \n",
       "std             NaN           NaN                NaN                NaN   \n",
       "min             NaN           NaN                NaN                NaN   \n",
       "25%             NaN           NaN                NaN                NaN   \n",
       "50%             NaN           NaN                NaN                NaN   \n",
       "75%             NaN           NaN                NaN                NaN   \n",
       "max             NaN           NaN                NaN                NaN   \n",
       "\n",
       "       C150_L4_LOANNOPELL  D150_L4_LOANNOPELL  C150_4_NOLOANNOPELL  \\\n",
       "count                 0.0                 0.0                  0.0   \n",
       "mean                  NaN                 NaN                  NaN   \n",
       "std                   NaN                 NaN                  NaN   \n",
       "min                   NaN                 NaN                  NaN   \n",
       "25%                   NaN                 NaN                  NaN   \n",
       "50%                   NaN                 NaN                  NaN   \n",
       "75%                   NaN                 NaN                  NaN   \n",
       "max                   NaN                 NaN                  NaN   \n",
       "\n",
       "       D150_4_NOLOANNOPELL  C150_L4_NOLOANNOPELL  D150_L4_NOLOANNOPELL  \n",
       "count                  0.0                   0.0                   0.0  \n",
       "mean                   NaN                   NaN                   NaN  \n",
       "std                    NaN                   NaN                   NaN  \n",
       "min                    NaN                   NaN                   NaN  \n",
       "25%                    NaN                   NaN                   NaN  \n",
       "50%                    NaN                   NaN                   NaN  \n",
       "75%                    NaN                   NaN                   NaN  \n",
       "max                    NaN                   NaN                   NaN  \n",
       "\n",
       "[8 rows x 644 columns]"
      ]
     },
     "execution_count": 8,
     "metadata": {},
     "output_type": "execute_result"
    }
   ],
   "source": [
    "COL.describe() # some stats"
   ]
  },
  {
   "cell_type": "code",
   "execution_count": 9,
   "metadata": {
    "slideshow": {
     "slide_type": "slide"
    }
   },
   "outputs": [
    {
     "data": {
      "text/plain": [
       "Index(['UNITID', 'OPEID', 'OPEID6', 'INSTNM', 'CITY', 'STABBR', 'ZIP',\n",
       "       'ACCREDAGENCY', 'INSTURL', 'NPCURL',\n",
       "       ...\n",
       "       'C150_L4_PELL', 'D150_L4_PELL', 'C150_4_LOANNOPELL',\n",
       "       'D150_4_LOANNOPELL', 'C150_L4_LOANNOPELL', 'D150_L4_LOANNOPELL',\n",
       "       'C150_4_NOLOANNOPELL', 'D150_4_NOLOANNOPELL', 'C150_L4_NOLOANNOPELL',\n",
       "       'D150_L4_NOLOANNOPELL'],\n",
       "      dtype='object', length=1844)"
      ]
     },
     "execution_count": 9,
     "metadata": {},
     "output_type": "execute_result"
    }
   ],
   "source": [
    "COL.columns # DataFrames have columns"
   ]
  },
  {
   "cell_type": "code",
   "execution_count": 10,
   "metadata": {
    "slideshow": {
     "slide_type": "fragment"
    }
   },
   "outputs": [
    {
     "data": {
      "text/plain": [
       "RangeIndex(start=0, stop=7149, step=1)"
      ]
     },
     "execution_count": 10,
     "metadata": {},
     "output_type": "execute_result"
    }
   ],
   "source": [
    "COL.index # and row indices"
   ]
  },
  {
   "cell_type": "code",
   "execution_count": 11,
   "metadata": {
    "slideshow": {
     "slide_type": "slide"
    }
   },
   "outputs": [
    {
     "data": {
      "text/html": [
       "<div>\n",
       "<style scoped>\n",
       "    .dataframe tbody tr th:only-of-type {\n",
       "        vertical-align: middle;\n",
       "    }\n",
       "\n",
       "    .dataframe tbody tr th {\n",
       "        vertical-align: top;\n",
       "    }\n",
       "\n",
       "    .dataframe thead th {\n",
       "        text-align: right;\n",
       "    }\n",
       "</style>\n",
       "<table border=\"1\" class=\"dataframe\">\n",
       "  <thead>\n",
       "    <tr style=\"text-align: right;\">\n",
       "      <th></th>\n",
       "      <th>OPEID</th>\n",
       "      <th>OPEID6</th>\n",
       "      <th>INSTNM</th>\n",
       "      <th>CITY</th>\n",
       "      <th>STABBR</th>\n",
       "      <th>ZIP</th>\n",
       "      <th>ACCREDAGENCY</th>\n",
       "      <th>INSTURL</th>\n",
       "      <th>NPCURL</th>\n",
       "      <th>SCH_DEG</th>\n",
       "      <th>...</th>\n",
       "      <th>C150_L4_PELL</th>\n",
       "      <th>D150_L4_PELL</th>\n",
       "      <th>C150_4_LOANNOPELL</th>\n",
       "      <th>D150_4_LOANNOPELL</th>\n",
       "      <th>C150_L4_LOANNOPELL</th>\n",
       "      <th>D150_L4_LOANNOPELL</th>\n",
       "      <th>C150_4_NOLOANNOPELL</th>\n",
       "      <th>D150_4_NOLOANNOPELL</th>\n",
       "      <th>C150_L4_NOLOANNOPELL</th>\n",
       "      <th>D150_L4_NOLOANNOPELL</th>\n",
       "    </tr>\n",
       "    <tr>\n",
       "      <th>UNITID</th>\n",
       "      <th></th>\n",
       "      <th></th>\n",
       "      <th></th>\n",
       "      <th></th>\n",
       "      <th></th>\n",
       "      <th></th>\n",
       "      <th></th>\n",
       "      <th></th>\n",
       "      <th></th>\n",
       "      <th></th>\n",
       "      <th></th>\n",
       "      <th></th>\n",
       "      <th></th>\n",
       "      <th></th>\n",
       "      <th></th>\n",
       "      <th></th>\n",
       "      <th></th>\n",
       "      <th></th>\n",
       "      <th></th>\n",
       "      <th></th>\n",
       "      <th></th>\n",
       "    </tr>\n",
       "  </thead>\n",
       "  <tbody>\n",
       "    <tr>\n",
       "      <th>100654</th>\n",
       "      <td>100200</td>\n",
       "      <td>1002</td>\n",
       "      <td>Alabama A &amp; M University</td>\n",
       "      <td>Normal</td>\n",
       "      <td>AL</td>\n",
       "      <td>35762</td>\n",
       "      <td>NaN</td>\n",
       "      <td>NaN</td>\n",
       "      <td>NaN</td>\n",
       "      <td>3.0</td>\n",
       "      <td>...</td>\n",
       "      <td>NaN</td>\n",
       "      <td>NaN</td>\n",
       "      <td>NaN</td>\n",
       "      <td>NaN</td>\n",
       "      <td>NaN</td>\n",
       "      <td>NaN</td>\n",
       "      <td>NaN</td>\n",
       "      <td>NaN</td>\n",
       "      <td>NaN</td>\n",
       "      <td>NaN</td>\n",
       "    </tr>\n",
       "    <tr>\n",
       "      <th>100663</th>\n",
       "      <td>105200</td>\n",
       "      <td>1052</td>\n",
       "      <td>University of Alabama at Birmingham</td>\n",
       "      <td>Birmingham</td>\n",
       "      <td>AL</td>\n",
       "      <td>35294-0110</td>\n",
       "      <td>NaN</td>\n",
       "      <td>NaN</td>\n",
       "      <td>NaN</td>\n",
       "      <td>3.0</td>\n",
       "      <td>...</td>\n",
       "      <td>NaN</td>\n",
       "      <td>NaN</td>\n",
       "      <td>NaN</td>\n",
       "      <td>NaN</td>\n",
       "      <td>NaN</td>\n",
       "      <td>NaN</td>\n",
       "      <td>NaN</td>\n",
       "      <td>NaN</td>\n",
       "      <td>NaN</td>\n",
       "      <td>NaN</td>\n",
       "    </tr>\n",
       "    <tr>\n",
       "      <th>100690</th>\n",
       "      <td>2503400</td>\n",
       "      <td>25034</td>\n",
       "      <td>Amridge University</td>\n",
       "      <td>Montgomery</td>\n",
       "      <td>AL</td>\n",
       "      <td>36117-3553</td>\n",
       "      <td>NaN</td>\n",
       "      <td>NaN</td>\n",
       "      <td>NaN</td>\n",
       "      <td>3.0</td>\n",
       "      <td>...</td>\n",
       "      <td>NaN</td>\n",
       "      <td>NaN</td>\n",
       "      <td>NaN</td>\n",
       "      <td>NaN</td>\n",
       "      <td>NaN</td>\n",
       "      <td>NaN</td>\n",
       "      <td>NaN</td>\n",
       "      <td>NaN</td>\n",
       "      <td>NaN</td>\n",
       "      <td>NaN</td>\n",
       "    </tr>\n",
       "    <tr>\n",
       "      <th>100706</th>\n",
       "      <td>105500</td>\n",
       "      <td>1055</td>\n",
       "      <td>University of Alabama in Huntsville</td>\n",
       "      <td>Huntsville</td>\n",
       "      <td>AL</td>\n",
       "      <td>35899</td>\n",
       "      <td>NaN</td>\n",
       "      <td>NaN</td>\n",
       "      <td>NaN</td>\n",
       "      <td>3.0</td>\n",
       "      <td>...</td>\n",
       "      <td>NaN</td>\n",
       "      <td>NaN</td>\n",
       "      <td>NaN</td>\n",
       "      <td>NaN</td>\n",
       "      <td>NaN</td>\n",
       "      <td>NaN</td>\n",
       "      <td>NaN</td>\n",
       "      <td>NaN</td>\n",
       "      <td>NaN</td>\n",
       "      <td>NaN</td>\n",
       "    </tr>\n",
       "    <tr>\n",
       "      <th>100724</th>\n",
       "      <td>100500</td>\n",
       "      <td>1005</td>\n",
       "      <td>Alabama State University</td>\n",
       "      <td>Montgomery</td>\n",
       "      <td>AL</td>\n",
       "      <td>36104-0271</td>\n",
       "      <td>NaN</td>\n",
       "      <td>NaN</td>\n",
       "      <td>NaN</td>\n",
       "      <td>3.0</td>\n",
       "      <td>...</td>\n",
       "      <td>NaN</td>\n",
       "      <td>NaN</td>\n",
       "      <td>NaN</td>\n",
       "      <td>NaN</td>\n",
       "      <td>NaN</td>\n",
       "      <td>NaN</td>\n",
       "      <td>NaN</td>\n",
       "      <td>NaN</td>\n",
       "      <td>NaN</td>\n",
       "      <td>NaN</td>\n",
       "    </tr>\n",
       "  </tbody>\n",
       "</table>\n",
       "<p>5 rows × 1843 columns</p>\n",
       "</div>"
      ],
      "text/plain": [
       "          OPEID  OPEID6                               INSTNM        CITY  \\\n",
       "UNITID                                                                     \n",
       "100654   100200    1002             Alabama A & M University      Normal   \n",
       "100663   105200    1052  University of Alabama at Birmingham  Birmingham   \n",
       "100690  2503400   25034                   Amridge University  Montgomery   \n",
       "100706   105500    1055  University of Alabama in Huntsville  Huntsville   \n",
       "100724   100500    1005             Alabama State University  Montgomery   \n",
       "\n",
       "       STABBR         ZIP  ACCREDAGENCY  INSTURL  NPCURL  SCH_DEG  \\\n",
       "UNITID                                                              \n",
       "100654     AL       35762           NaN      NaN     NaN      3.0   \n",
       "100663     AL  35294-0110           NaN      NaN     NaN      3.0   \n",
       "100690     AL  36117-3553           NaN      NaN     NaN      3.0   \n",
       "100706     AL       35899           NaN      NaN     NaN      3.0   \n",
       "100724     AL  36104-0271           NaN      NaN     NaN      3.0   \n",
       "\n",
       "                ...           C150_L4_PELL  D150_L4_PELL  C150_4_LOANNOPELL  \\\n",
       "UNITID          ...                                                           \n",
       "100654          ...                    NaN           NaN                NaN   \n",
       "100663          ...                    NaN           NaN                NaN   \n",
       "100690          ...                    NaN           NaN                NaN   \n",
       "100706          ...                    NaN           NaN                NaN   \n",
       "100724          ...                    NaN           NaN                NaN   \n",
       "\n",
       "        D150_4_LOANNOPELL  C150_L4_LOANNOPELL  D150_L4_LOANNOPELL  \\\n",
       "UNITID                                                              \n",
       "100654                NaN                 NaN                 NaN   \n",
       "100663                NaN                 NaN                 NaN   \n",
       "100690                NaN                 NaN                 NaN   \n",
       "100706                NaN                 NaN                 NaN   \n",
       "100724                NaN                 NaN                 NaN   \n",
       "\n",
       "        C150_4_NOLOANNOPELL  D150_4_NOLOANNOPELL  C150_L4_NOLOANNOPELL  \\\n",
       "UNITID                                                                   \n",
       "100654                  NaN                  NaN                   NaN   \n",
       "100663                  NaN                  NaN                   NaN   \n",
       "100690                  NaN                  NaN                   NaN   \n",
       "100706                  NaN                  NaN                   NaN   \n",
       "100724                  NaN                  NaN                   NaN   \n",
       "\n",
       "        D150_L4_NOLOANNOPELL  \n",
       "UNITID                        \n",
       "100654                   NaN  \n",
       "100663                   NaN  \n",
       "100690                   NaN  \n",
       "100706                   NaN  \n",
       "100724                   NaN  \n",
       "\n",
       "[5 rows x 1843 columns]"
      ]
     },
     "execution_count": 11,
     "metadata": {},
     "output_type": "execute_result"
    }
   ],
   "source": [
    "COL = COL.set_index('UNITID') # set index variable\n",
    "COL.head()"
   ]
  },
  {
   "cell_type": "code",
   "execution_count": 12,
   "metadata": {
    "slideshow": {
     "slide_type": "slide"
    }
   },
   "outputs": [
    {
     "data": {
      "text/plain": [
       "pandas.core.series.Series"
      ]
     },
     "execution_count": 12,
     "metadata": {},
     "output_type": "execute_result"
    }
   ],
   "source": [
    "enroll = COL['UGDS'] # DataFrame acts like dictionary from column names to columns\n",
    "type(enroll) # columns are Series"
   ]
  },
  {
   "cell_type": "code",
   "execution_count": 13,
   "metadata": {
    "slideshow": {
     "slide_type": "fragment"
    }
   },
   "outputs": [
    {
     "data": {
      "text/plain": [
       "dtype('float64')"
      ]
     },
     "execution_count": 13,
     "metadata": {},
     "output_type": "execute_result"
    }
   ],
   "source": [
    "enroll.dtypes # the dtype of the series"
   ]
  },
  {
   "cell_type": "code",
   "execution_count": 14,
   "metadata": {
    "slideshow": {
     "slide_type": "slide"
    }
   },
   "outputs": [
    {
     "data": {
      "text/plain": [
       "UNITID\n",
       "100654     4483.0\n",
       "100663    10265.0\n",
       "100690      389.0\n",
       "100706     5956.0\n",
       "100724     4638.0\n",
       "100751    23296.0\n",
       "Name: UGDS, dtype: float64"
      ]
     },
     "execution_count": 14,
     "metadata": {},
     "output_type": "execute_result"
    }
   ],
   "source": [
    "enroll[:6] # Series slices like an array"
   ]
  },
  {
   "cell_type": "code",
   "execution_count": 15,
   "metadata": {
    "slideshow": {
     "slide_type": "slide"
    }
   },
   "outputs": [
    {
     "data": {
      "text/plain": [
       "4483.0"
      ]
     },
     "execution_count": 15,
     "metadata": {},
     "output_type": "execute_result"
    }
   ],
   "source": [
    "enroll[100654] # Series acts like a dictionary from index to value"
   ]
  },
  {
   "cell_type": "code",
   "execution_count": 16,
   "metadata": {
    "slideshow": {
     "slide_type": "fragment"
    }
   },
   "outputs": [
    {
     "data": {
      "text/plain": [
       "UNITID\n",
       "100654     4483.0\n",
       "100751    23296.0\n",
       "Name: UGDS, dtype: float64"
      ]
     },
     "execution_count": 16,
     "metadata": {},
     "output_type": "execute_result"
    }
   ],
   "source": [
    "enroll[[100654,100751]] # list indices are keys"
   ]
  },
  {
   "cell_type": "code",
   "execution_count": 17,
   "metadata": {
    "slideshow": {
     "slide_type": "slide"
    }
   },
   "outputs": [
    {
     "data": {
      "text/plain": [
       "(7149,)"
      ]
     },
     "execution_count": 17,
     "metadata": {},
     "output_type": "execute_result"
    }
   ],
   "source": [
    "enroll.shape"
   ]
  },
  {
   "cell_type": "code",
   "execution_count": 18,
   "metadata": {
    "slideshow": {
     "slide_type": "fragment"
    }
   },
   "outputs": [
    {
     "data": {
      "text/plain": [
       "count      6596.000000\n",
       "mean       2500.305488\n",
       "std        5708.231896\n",
       "min           0.000000\n",
       "25%         139.000000\n",
       "50%         619.000000\n",
       "75%        2244.000000\n",
       "max      235028.000000\n",
       "Name: UGDS, dtype: float64"
      ]
     },
     "execution_count": 18,
     "metadata": {},
     "output_type": "execute_result"
    }
   ],
   "source": [
    "enroll.describe()"
   ]
  },
  {
   "cell_type": "markdown",
   "metadata": {
    "slideshow": {
     "slide_type": "slide"
    }
   },
   "source": [
    "### Series statistics\n",
    "\n",
    "- `mean, min, max, std, count`"
   ]
  },
  {
   "cell_type": "code",
   "execution_count": 19,
   "metadata": {
    "slideshow": {
     "slide_type": "fragment"
    }
   },
   "outputs": [
    {
     "data": {
      "text/plain": [
       "2500.305488174651"
      ]
     },
     "execution_count": 19,
     "metadata": {},
     "output_type": "execute_result"
    }
   ],
   "source": [
    "enroll.mean()"
   ]
  },
  {
   "cell_type": "code",
   "execution_count": 20,
   "metadata": {
    "slideshow": {
     "slide_type": "fragment"
    }
   },
   "outputs": [
    {
     "data": {
      "text/plain": [
       "6596"
      ]
     },
     "execution_count": 20,
     "metadata": {},
     "output_type": "execute_result"
    }
   ],
   "source": [
    "enroll.count()"
   ]
  },
  {
   "cell_type": "code",
   "execution_count": 21,
   "metadata": {
    "slideshow": {
     "slide_type": "slide"
    }
   },
   "outputs": [],
   "source": [
    "def read_enroll_data(year,datadir):\n",
    "    \"\"\"read a CollegeScorecard enrollment\"\"\"\n",
    "    nextyr = str(int(year) + 1)[-2:]\n",
    "    filename = datadir + '/MERGED{}_{}_PP.csv'.format(year,nextyr)\n",
    "    col = pd.read_csv(filename,dtype={'UNITID':np.int64,'UGDS':np.float64},usecols=['UNITID','UGDS'])\n",
    "    col = col.set_index('UNITID')\n",
    "    return col['UGDS']"
   ]
  },
  {
   "cell_type": "code",
   "execution_count": 22,
   "metadata": {
    "slideshow": {
     "slide_type": "fragment"
    }
   },
   "outputs": [],
   "source": [
    "ENR_list = [read_enroll_data(year,datadir) for year in range(2000,2010)] # read these years"
   ]
  },
  {
   "cell_type": "code",
   "execution_count": 23,
   "metadata": {
    "slideshow": {
     "slide_type": "slide"
    }
   },
   "outputs": [
    {
     "data": {
      "text/plain": [
       "[6478, 6619, 6546, 6585, 6660, 6824, 6848, 6890, 6975, 7149]"
      ]
     },
     "execution_count": 23,
     "metadata": {},
     "output_type": "execute_result"
    }
   ],
   "source": [
    "[len(enr) for enr in ENR_list] # amount of data"
   ]
  },
  {
   "cell_type": "code",
   "execution_count": 24,
   "metadata": {
    "slideshow": {
     "slide_type": "fragment"
    }
   },
   "outputs": [
    {
     "data": {
      "text/plain": [
       "[0, 6291, 6247, 6303, 6257, 6341, 6357, 6388, 6476, 6596]"
      ]
     },
     "execution_count": 24,
     "metadata": {},
     "output_type": "execute_result"
    }
   ],
   "source": [
    "[enr.count() for enr in ENR_list] # count the number of NAs"
   ]
  },
  {
   "cell_type": "code",
   "execution_count": 25,
   "metadata": {
    "slideshow": {
     "slide_type": "slide"
    }
   },
   "outputs": [],
   "source": [
    "enr_01_02, enr_02_03 = ENR_list[1:3] \n",
    "enr_01_03 = enr_01_02 + enr_02_03 # add two Series of different length and NAs"
   ]
  },
  {
   "cell_type": "code",
   "execution_count": 26,
   "metadata": {
    "slideshow": {
     "slide_type": "slide"
    }
   },
   "outputs": [],
   "source": [
    "enr_nna = enr_02_03[~enr_02_03.isna()] # common form of boolean indexing\n",
    "enr_nna2 = enr_02_03.dropna() # does the same"
   ]
  },
  {
   "cell_type": "markdown",
   "metadata": {
    "slideshow": {
     "slide_type": "slide"
    }
   },
   "source": [
    "### Series operations\n",
    "\n",
    "- Comparing elements of series is based on the index not the row number\n",
    "- `series.add, div, gt, lt, ne`\n",
    "- Time series index lets you do differencing (diff), rolling window transform (rolling)\n",
    "- Many other series operations: https://pandas.pydata.org/pandas-docs/version/0.22/api.html#series\n"
   ]
  },
  {
   "cell_type": "markdown",
   "metadata": {
    "slideshow": {
     "slide_type": "slide"
    }
   },
   "source": [
    "### DataFrames\n",
    "\n",
    "A DataFrame is...\n",
    "- a dictionary of Series,\n",
    "- an array (access positions with `.iloc`),\n",
    "- a dictionary of rows (access rows with `.loc`),\n",
    "- a time series (if indexing by Datetime) \n",
    "\n",
    "Tidy data principle: https://cran.r-project.org/web/packages/tidyr/vignettes/tidy-data.html\n",
    "- rows = observations\n",
    "- columns = variables"
   ]
  },
  {
   "cell_type": "code",
   "execution_count": 27,
   "metadata": {
    "slideshow": {
     "slide_type": "slide"
    }
   },
   "outputs": [
    {
     "name": "stdout",
     "output_type": "stream",
     "text": [
      "<class 'pandas.core.frame.DataFrame'>\n",
      "Int64Index: 7149 entries, 100654 to 44970003\n",
      "Data columns (total 14 columns):\n",
      "OPEID        7149 non-null object\n",
      "OPEID6       7149 non-null int64\n",
      "INSTNM       7149 non-null object\n",
      "CITY         7149 non-null object\n",
      "STABBR       7149 non-null object\n",
      "ZIP          7149 non-null object\n",
      "MAIN         7149 non-null int64\n",
      "NUMBRANCH    7149 non-null int64\n",
      "PREDDEG      7149 non-null int64\n",
      "HIGHDEG      7149 non-null int64\n",
      "CONTROL      7149 non-null int64\n",
      "ST_FIPS      7149 non-null int64\n",
      "REGION       7149 non-null int64\n",
      "ICLEVEL      7149 non-null int64\n",
      "dtypes: int64(9), object(5)\n",
      "memory usage: 1.1+ MB\n"
     ]
    }
   ],
   "source": [
    "# Which columns have no NAs\n",
    "col_dna = COL.dropna(axis=1)\n",
    "col_dna.info()"
   ]
  },
  {
   "cell_type": "code",
   "execution_count": 28,
   "metadata": {
    "slideshow": {
     "slide_type": "slide"
    }
   },
   "outputs": [
    {
     "data": {
      "text/html": [
       "<div>\n",
       "<style scoped>\n",
       "    .dataframe tbody tr th:only-of-type {\n",
       "        vertical-align: middle;\n",
       "    }\n",
       "\n",
       "    .dataframe tbody tr th {\n",
       "        vertical-align: top;\n",
       "    }\n",
       "\n",
       "    .dataframe thead th {\n",
       "        text-align: right;\n",
       "    }\n",
       "</style>\n",
       "<table border=\"1\" class=\"dataframe\">\n",
       "  <thead>\n",
       "    <tr style=\"text-align: right;\">\n",
       "      <th></th>\n",
       "      <th>INSTNM</th>\n",
       "      <th>HIGHDEG</th>\n",
       "    </tr>\n",
       "    <tr>\n",
       "      <th>UNITID</th>\n",
       "      <th></th>\n",
       "      <th></th>\n",
       "    </tr>\n",
       "  </thead>\n",
       "  <tbody>\n",
       "    <tr>\n",
       "      <th>100654</th>\n",
       "      <td>Alabama A &amp; M University</td>\n",
       "      <td>4</td>\n",
       "    </tr>\n",
       "    <tr>\n",
       "      <th>100663</th>\n",
       "      <td>University of Alabama at Birmingham</td>\n",
       "      <td>4</td>\n",
       "    </tr>\n",
       "    <tr>\n",
       "      <th>100690</th>\n",
       "      <td>Amridge University</td>\n",
       "      <td>4</td>\n",
       "    </tr>\n",
       "    <tr>\n",
       "      <th>100706</th>\n",
       "      <td>University of Alabama in Huntsville</td>\n",
       "      <td>4</td>\n",
       "    </tr>\n",
       "    <tr>\n",
       "      <th>100724</th>\n",
       "      <td>Alabama State University</td>\n",
       "      <td>4</td>\n",
       "    </tr>\n",
       "  </tbody>\n",
       "</table>\n",
       "</div>"
      ],
      "text/plain": [
       "                                     INSTNM  HIGHDEG\n",
       "UNITID                                              \n",
       "100654             Alabama A & M University        4\n",
       "100663  University of Alabama at Birmingham        4\n",
       "100690                   Amridge University        4\n",
       "100706  University of Alabama in Huntsville        4\n",
       "100724             Alabama State University        4"
      ]
     },
     "execution_count": 28,
     "metadata": {},
     "output_type": "execute_result"
    }
   ],
   "source": [
    "col_dna[['INSTNM','HIGHDEG']].head() # access columns"
   ]
  },
  {
   "cell_type": "code",
   "execution_count": 29,
   "metadata": {
    "slideshow": {
     "slide_type": "slide"
    }
   },
   "outputs": [
    {
     "data": {
      "text/html": [
       "<div>\n",
       "<style scoped>\n",
       "    .dataframe tbody tr th:only-of-type {\n",
       "        vertical-align: middle;\n",
       "    }\n",
       "\n",
       "    .dataframe tbody tr th {\n",
       "        vertical-align: top;\n",
       "    }\n",
       "\n",
       "    .dataframe thead th {\n",
       "        text-align: right;\n",
       "    }\n",
       "</style>\n",
       "<table border=\"1\" class=\"dataframe\">\n",
       "  <thead>\n",
       "    <tr style=\"text-align: right;\">\n",
       "      <th></th>\n",
       "      <th>OPEID</th>\n",
       "      <th>OPEID6</th>\n",
       "      <th>INSTNM</th>\n",
       "      <th>CITY</th>\n",
       "      <th>STABBR</th>\n",
       "      <th>ZIP</th>\n",
       "      <th>MAIN</th>\n",
       "      <th>NUMBRANCH</th>\n",
       "      <th>PREDDEG</th>\n",
       "      <th>HIGHDEG</th>\n",
       "      <th>CONTROL</th>\n",
       "      <th>ST_FIPS</th>\n",
       "      <th>REGION</th>\n",
       "      <th>ICLEVEL</th>\n",
       "    </tr>\n",
       "    <tr>\n",
       "      <th>UNITID</th>\n",
       "      <th></th>\n",
       "      <th></th>\n",
       "      <th></th>\n",
       "      <th></th>\n",
       "      <th></th>\n",
       "      <th></th>\n",
       "      <th></th>\n",
       "      <th></th>\n",
       "      <th></th>\n",
       "      <th></th>\n",
       "      <th></th>\n",
       "      <th></th>\n",
       "      <th></th>\n",
       "      <th></th>\n",
       "    </tr>\n",
       "  </thead>\n",
       "  <tbody>\n",
       "    <tr>\n",
       "      <th>100654</th>\n",
       "      <td>100200</td>\n",
       "      <td>1002</td>\n",
       "      <td>Alabama A &amp; M University</td>\n",
       "      <td>Normal</td>\n",
       "      <td>AL</td>\n",
       "      <td>35762</td>\n",
       "      <td>1</td>\n",
       "      <td>1</td>\n",
       "      <td>3</td>\n",
       "      <td>4</td>\n",
       "      <td>1</td>\n",
       "      <td>1</td>\n",
       "      <td>5</td>\n",
       "      <td>1</td>\n",
       "    </tr>\n",
       "    <tr>\n",
       "      <th>100830</th>\n",
       "      <td>831000</td>\n",
       "      <td>8310</td>\n",
       "      <td>Auburn University at Montgomery</td>\n",
       "      <td>Montgomery</td>\n",
       "      <td>AL</td>\n",
       "      <td>36117-3596</td>\n",
       "      <td>1</td>\n",
       "      <td>1</td>\n",
       "      <td>3</td>\n",
       "      <td>4</td>\n",
       "      <td>1</td>\n",
       "      <td>1</td>\n",
       "      <td>5</td>\n",
       "      <td>1</td>\n",
       "    </tr>\n",
       "  </tbody>\n",
       "</table>\n",
       "</div>"
      ],
      "text/plain": [
       "         OPEID  OPEID6                           INSTNM        CITY STABBR  \\\n",
       "UNITID                                                                       \n",
       "100654  100200    1002         Alabama A & M University      Normal     AL   \n",
       "100830  831000    8310  Auburn University at Montgomery  Montgomery     AL   \n",
       "\n",
       "               ZIP  MAIN  NUMBRANCH  PREDDEG  HIGHDEG  CONTROL  ST_FIPS  \\\n",
       "UNITID                                                                    \n",
       "100654       35762     1          1        3        4        1        1   \n",
       "100830  36117-3596     1          1        3        4        1        1   \n",
       "\n",
       "        REGION  ICLEVEL  \n",
       "UNITID                   \n",
       "100654       5        1  \n",
       "100830       5        1  "
      ]
     },
     "execution_count": 29,
     "metadata": {},
     "output_type": "execute_result"
    }
   ],
   "source": [
    "col_dna.loc[[100654,100830]] # access rows from indices with loc"
   ]
  },
  {
   "cell_type": "code",
   "execution_count": 30,
   "metadata": {
    "slideshow": {
     "slide_type": "slide"
    }
   },
   "outputs": [
    {
     "data": {
      "text/html": [
       "<div>\n",
       "<style scoped>\n",
       "    .dataframe tbody tr th:only-of-type {\n",
       "        vertical-align: middle;\n",
       "    }\n",
       "\n",
       "    .dataframe tbody tr th {\n",
       "        vertical-align: top;\n",
       "    }\n",
       "\n",
       "    .dataframe thead th {\n",
       "        text-align: right;\n",
       "    }\n",
       "</style>\n",
       "<table border=\"1\" class=\"dataframe\">\n",
       "  <thead>\n",
       "    <tr style=\"text-align: right;\">\n",
       "      <th></th>\n",
       "      <th>OPEID</th>\n",
       "      <th>OPEID6</th>\n",
       "      <th>INSTNM</th>\n",
       "      <th>CITY</th>\n",
       "      <th>STABBR</th>\n",
       "    </tr>\n",
       "    <tr>\n",
       "      <th>UNITID</th>\n",
       "      <th></th>\n",
       "      <th></th>\n",
       "      <th></th>\n",
       "      <th></th>\n",
       "      <th></th>\n",
       "    </tr>\n",
       "  </thead>\n",
       "  <tbody>\n",
       "    <tr>\n",
       "      <th>100654</th>\n",
       "      <td>100200</td>\n",
       "      <td>1002</td>\n",
       "      <td>Alabama A &amp; M University</td>\n",
       "      <td>Normal</td>\n",
       "      <td>AL</td>\n",
       "    </tr>\n",
       "    <tr>\n",
       "      <th>100663</th>\n",
       "      <td>105200</td>\n",
       "      <td>1052</td>\n",
       "      <td>University of Alabama at Birmingham</td>\n",
       "      <td>Birmingham</td>\n",
       "      <td>AL</td>\n",
       "    </tr>\n",
       "    <tr>\n",
       "      <th>100690</th>\n",
       "      <td>2503400</td>\n",
       "      <td>25034</td>\n",
       "      <td>Amridge University</td>\n",
       "      <td>Montgomery</td>\n",
       "      <td>AL</td>\n",
       "    </tr>\n",
       "    <tr>\n",
       "      <th>100706</th>\n",
       "      <td>105500</td>\n",
       "      <td>1055</td>\n",
       "      <td>University of Alabama in Huntsville</td>\n",
       "      <td>Huntsville</td>\n",
       "      <td>AL</td>\n",
       "    </tr>\n",
       "    <tr>\n",
       "      <th>100724</th>\n",
       "      <td>100500</td>\n",
       "      <td>1005</td>\n",
       "      <td>Alabama State University</td>\n",
       "      <td>Montgomery</td>\n",
       "      <td>AL</td>\n",
       "    </tr>\n",
       "    <tr>\n",
       "      <th>100751</th>\n",
       "      <td>105100</td>\n",
       "      <td>1051</td>\n",
       "      <td>The University of Alabama</td>\n",
       "      <td>Tuscaloosa</td>\n",
       "      <td>AL</td>\n",
       "    </tr>\n",
       "    <tr>\n",
       "      <th>100760</th>\n",
       "      <td>100700</td>\n",
       "      <td>1007</td>\n",
       "      <td>Central Alabama Community College</td>\n",
       "      <td>Alexander City</td>\n",
       "      <td>AL</td>\n",
       "    </tr>\n",
       "    <tr>\n",
       "      <th>100812</th>\n",
       "      <td>100800</td>\n",
       "      <td>1008</td>\n",
       "      <td>Athens State University</td>\n",
       "      <td>Athens</td>\n",
       "      <td>AL</td>\n",
       "    </tr>\n",
       "    <tr>\n",
       "      <th>100830</th>\n",
       "      <td>831000</td>\n",
       "      <td>8310</td>\n",
       "      <td>Auburn University at Montgomery</td>\n",
       "      <td>Montgomery</td>\n",
       "      <td>AL</td>\n",
       "    </tr>\n",
       "    <tr>\n",
       "      <th>100858</th>\n",
       "      <td>100900</td>\n",
       "      <td>1009</td>\n",
       "      <td>Auburn University</td>\n",
       "      <td>Auburn</td>\n",
       "      <td>AL</td>\n",
       "    </tr>\n",
       "  </tbody>\n",
       "</table>\n",
       "</div>"
      ],
      "text/plain": [
       "          OPEID  OPEID6                               INSTNM            CITY  \\\n",
       "UNITID                                                                         \n",
       "100654   100200    1002             Alabama A & M University          Normal   \n",
       "100663   105200    1052  University of Alabama at Birmingham      Birmingham   \n",
       "100690  2503400   25034                   Amridge University      Montgomery   \n",
       "100706   105500    1055  University of Alabama in Huntsville      Huntsville   \n",
       "100724   100500    1005             Alabama State University      Montgomery   \n",
       "100751   105100    1051            The University of Alabama      Tuscaloosa   \n",
       "100760   100700    1007    Central Alabama Community College  Alexander City   \n",
       "100812   100800    1008              Athens State University          Athens   \n",
       "100830   831000    8310      Auburn University at Montgomery      Montgomery   \n",
       "100858   100900    1009                    Auburn University          Auburn   \n",
       "\n",
       "       STABBR  \n",
       "UNITID         \n",
       "100654     AL  \n",
       "100663     AL  \n",
       "100690     AL  \n",
       "100706     AL  \n",
       "100724     AL  \n",
       "100751     AL  \n",
       "100760     AL  \n",
       "100812     AL  \n",
       "100830     AL  \n",
       "100858     AL  "
      ]
     },
     "execution_count": 30,
     "metadata": {},
     "output_type": "execute_result"
    }
   ],
   "source": [
    "## the following should be used only in an emergency!\n",
    "\n",
    "col_dna.iloc[:10,:5] # access elements like an array with iloc"
   ]
  },
  {
   "cell_type": "code",
   "execution_count": 31,
   "metadata": {
    "slideshow": {
     "slide_type": "slide"
    }
   },
   "outputs": [
    {
     "data": {
      "text/plain": [
       "OPEID        object\n",
       "OPEID6        int64\n",
       "INSTNM       object\n",
       "CITY         object\n",
       "STABBR       object\n",
       "ZIP          object\n",
       "MAIN          int64\n",
       "NUMBRANCH     int64\n",
       "PREDDEG       int64\n",
       "HIGHDEG       int64\n",
       "CONTROL       int64\n",
       "ST_FIPS       int64\n",
       "REGION        int64\n",
       "ICLEVEL       int64\n",
       "dtype: object"
      ]
     },
     "execution_count": 31,
     "metadata": {},
     "output_type": "execute_result"
    }
   ],
   "source": [
    "col_dna.dtypes # access dtypes"
   ]
  },
  {
   "cell_type": "code",
   "execution_count": 32,
   "metadata": {
    "slideshow": {
     "slide_type": "slide"
    }
   },
   "outputs": [
    {
     "data": {
      "text/plain": [
       "OPEID         object\n",
       "OPEID6       float64\n",
       "INSTNM        object\n",
       "CITY          object\n",
       "STABBR        object\n",
       "ZIP           object\n",
       "MAIN         float64\n",
       "NUMBRANCH    float64\n",
       "PREDDEG      float64\n",
       "HIGHDEG      float64\n",
       "CONTROL      float64\n",
       "ST_FIPS      float64\n",
       "REGION       float64\n",
       "ICLEVEL      float64\n",
       "dtype: object"
      ]
     },
     "execution_count": 32,
     "metadata": {},
     "output_type": "execute_result"
    }
   ],
   "source": [
    "col_dna.dtypes.replace(np.dtype('int64'),np.dtype('float64')) # dtypes is a Series!"
   ]
  },
  {
   "cell_type": "code",
   "execution_count": 33,
   "metadata": {
    "slideshow": {
     "slide_type": "slide"
    }
   },
   "outputs": [],
   "source": [
    "col_dtypes = dict(col_dna.dtypes.replace(np.dtype('int64'),np.dtype('float64'))) # make the dtypes floats\n",
    "col_dtypes['UNITID'] = np.dtype('int64') # convert the UNITID back to int\n",
    "vars_interest = ['ADM_RATE','UGDS','TUITIONFEE_IN','TUITIONFEE_OUT','MN_EARN_WNE_P10'] # Include these vars\n",
    "col_dtypes.update({a: np.dtype('float64') for a in vars_interest}) # make them floats"
   ]
  },
  {
   "cell_type": "code",
   "execution_count": 34,
   "metadata": {
    "slideshow": {
     "slide_type": "fragment"
    }
   },
   "outputs": [
    {
     "ename": "ValueError",
     "evalue": "could not convert string to float: 'PrivacySuppressed'",
     "output_type": "error",
     "traceback": [
      "\u001b[0;31m---------------------------------------------------------------------------\u001b[0m",
      "\u001b[0;31mTypeError\u001b[0m                                 Traceback (most recent call last)",
      "\u001b[0;32mpandas/_libs/parsers.pyx\u001b[0m in \u001b[0;36mpandas._libs.parsers.TextReader._convert_tokens\u001b[0;34m()\u001b[0m\n",
      "\u001b[0;31mTypeError\u001b[0m: Cannot cast array from dtype('O') to dtype('float64') according to the rule 'safe'",
      "\nDuring handling of the above exception, another exception occurred:\n",
      "\u001b[0;31mValueError\u001b[0m                                Traceback (most recent call last)",
      "\u001b[0;32m<ipython-input-34-6e04ece73eb1>\u001b[0m in \u001b[0;36m<module>\u001b[0;34m()\u001b[0m\n\u001b[1;32m      1\u001b[0m \u001b[0;31m## Try reading it with these dtypes\u001b[0m\u001b[0;34m\u001b[0m\u001b[0;34m\u001b[0m\u001b[0m\n\u001b[1;32m      2\u001b[0m col_try_again = pd.read_csv(datadir + '/MERGED2009_10_PP.csv',\n\u001b[0;32m----> 3\u001b[0;31m                             dtype=col_dtypes,usecols=col_dtypes.keys())\n\u001b[0m\u001b[1;32m      4\u001b[0m \u001b[0;34m\u001b[0m\u001b[0m\n\u001b[1;32m      5\u001b[0m \u001b[0;31m## ValueError: could not convert string to float: 'PrivacySuppressed'\u001b[0m\u001b[0;34m\u001b[0m\u001b[0;34m\u001b[0m\u001b[0m\n",
      "\u001b[0;32m~/anaconda/lib/python3.7/site-packages/pandas/io/parsers.py\u001b[0m in \u001b[0;36mparser_f\u001b[0;34m(filepath_or_buffer, sep, delimiter, header, names, index_col, usecols, squeeze, prefix, mangle_dupe_cols, dtype, engine, converters, true_values, false_values, skipinitialspace, skiprows, nrows, na_values, keep_default_na, na_filter, verbose, skip_blank_lines, parse_dates, infer_datetime_format, keep_date_col, date_parser, dayfirst, iterator, chunksize, compression, thousands, decimal, lineterminator, quotechar, quoting, escapechar, comment, encoding, dialect, tupleize_cols, error_bad_lines, warn_bad_lines, skipfooter, doublequote, delim_whitespace, low_memory, memory_map, float_precision)\u001b[0m\n\u001b[1;32m    676\u001b[0m                     skip_blank_lines=skip_blank_lines)\n\u001b[1;32m    677\u001b[0m \u001b[0;34m\u001b[0m\u001b[0m\n\u001b[0;32m--> 678\u001b[0;31m         \u001b[0;32mreturn\u001b[0m \u001b[0m_read\u001b[0m\u001b[0;34m(\u001b[0m\u001b[0mfilepath_or_buffer\u001b[0m\u001b[0;34m,\u001b[0m \u001b[0mkwds\u001b[0m\u001b[0;34m)\u001b[0m\u001b[0;34m\u001b[0m\u001b[0m\n\u001b[0m\u001b[1;32m    679\u001b[0m \u001b[0;34m\u001b[0m\u001b[0m\n\u001b[1;32m    680\u001b[0m     \u001b[0mparser_f\u001b[0m\u001b[0;34m.\u001b[0m\u001b[0m__name__\u001b[0m \u001b[0;34m=\u001b[0m \u001b[0mname\u001b[0m\u001b[0;34m\u001b[0m\u001b[0m\n",
      "\u001b[0;32m~/anaconda/lib/python3.7/site-packages/pandas/io/parsers.py\u001b[0m in \u001b[0;36m_read\u001b[0;34m(filepath_or_buffer, kwds)\u001b[0m\n\u001b[1;32m    444\u001b[0m \u001b[0;34m\u001b[0m\u001b[0m\n\u001b[1;32m    445\u001b[0m     \u001b[0;32mtry\u001b[0m\u001b[0;34m:\u001b[0m\u001b[0;34m\u001b[0m\u001b[0m\n\u001b[0;32m--> 446\u001b[0;31m         \u001b[0mdata\u001b[0m \u001b[0;34m=\u001b[0m \u001b[0mparser\u001b[0m\u001b[0;34m.\u001b[0m\u001b[0mread\u001b[0m\u001b[0;34m(\u001b[0m\u001b[0mnrows\u001b[0m\u001b[0;34m)\u001b[0m\u001b[0;34m\u001b[0m\u001b[0m\n\u001b[0m\u001b[1;32m    447\u001b[0m     \u001b[0;32mfinally\u001b[0m\u001b[0;34m:\u001b[0m\u001b[0;34m\u001b[0m\u001b[0m\n\u001b[1;32m    448\u001b[0m         \u001b[0mparser\u001b[0m\u001b[0;34m.\u001b[0m\u001b[0mclose\u001b[0m\u001b[0;34m(\u001b[0m\u001b[0;34m)\u001b[0m\u001b[0;34m\u001b[0m\u001b[0m\n",
      "\u001b[0;32m~/anaconda/lib/python3.7/site-packages/pandas/io/parsers.py\u001b[0m in \u001b[0;36mread\u001b[0;34m(self, nrows)\u001b[0m\n\u001b[1;32m   1034\u001b[0m                 \u001b[0;32mraise\u001b[0m \u001b[0mValueError\u001b[0m\u001b[0;34m(\u001b[0m\u001b[0;34m'skipfooter not supported for iteration'\u001b[0m\u001b[0;34m)\u001b[0m\u001b[0;34m\u001b[0m\u001b[0m\n\u001b[1;32m   1035\u001b[0m \u001b[0;34m\u001b[0m\u001b[0m\n\u001b[0;32m-> 1036\u001b[0;31m         \u001b[0mret\u001b[0m \u001b[0;34m=\u001b[0m \u001b[0mself\u001b[0m\u001b[0;34m.\u001b[0m\u001b[0m_engine\u001b[0m\u001b[0;34m.\u001b[0m\u001b[0mread\u001b[0m\u001b[0;34m(\u001b[0m\u001b[0mnrows\u001b[0m\u001b[0;34m)\u001b[0m\u001b[0;34m\u001b[0m\u001b[0m\n\u001b[0m\u001b[1;32m   1037\u001b[0m \u001b[0;34m\u001b[0m\u001b[0m\n\u001b[1;32m   1038\u001b[0m         \u001b[0;31m# May alter columns / col_dict\u001b[0m\u001b[0;34m\u001b[0m\u001b[0;34m\u001b[0m\u001b[0m\n",
      "\u001b[0;32m~/anaconda/lib/python3.7/site-packages/pandas/io/parsers.py\u001b[0m in \u001b[0;36mread\u001b[0;34m(self, nrows)\u001b[0m\n\u001b[1;32m   1846\u001b[0m     \u001b[0;32mdef\u001b[0m \u001b[0mread\u001b[0m\u001b[0;34m(\u001b[0m\u001b[0mself\u001b[0m\u001b[0;34m,\u001b[0m \u001b[0mnrows\u001b[0m\u001b[0;34m=\u001b[0m\u001b[0;32mNone\u001b[0m\u001b[0;34m)\u001b[0m\u001b[0;34m:\u001b[0m\u001b[0;34m\u001b[0m\u001b[0m\n\u001b[1;32m   1847\u001b[0m         \u001b[0;32mtry\u001b[0m\u001b[0;34m:\u001b[0m\u001b[0;34m\u001b[0m\u001b[0m\n\u001b[0;32m-> 1848\u001b[0;31m             \u001b[0mdata\u001b[0m \u001b[0;34m=\u001b[0m \u001b[0mself\u001b[0m\u001b[0;34m.\u001b[0m\u001b[0m_reader\u001b[0m\u001b[0;34m.\u001b[0m\u001b[0mread\u001b[0m\u001b[0;34m(\u001b[0m\u001b[0mnrows\u001b[0m\u001b[0;34m)\u001b[0m\u001b[0;34m\u001b[0m\u001b[0m\n\u001b[0m\u001b[1;32m   1849\u001b[0m         \u001b[0;32mexcept\u001b[0m \u001b[0mStopIteration\u001b[0m\u001b[0;34m:\u001b[0m\u001b[0;34m\u001b[0m\u001b[0m\n\u001b[1;32m   1850\u001b[0m             \u001b[0;32mif\u001b[0m \u001b[0mself\u001b[0m\u001b[0;34m.\u001b[0m\u001b[0m_first_chunk\u001b[0m\u001b[0;34m:\u001b[0m\u001b[0;34m\u001b[0m\u001b[0m\n",
      "\u001b[0;32mpandas/_libs/parsers.pyx\u001b[0m in \u001b[0;36mpandas._libs.parsers.TextReader.read\u001b[0;34m()\u001b[0m\n",
      "\u001b[0;32mpandas/_libs/parsers.pyx\u001b[0m in \u001b[0;36mpandas._libs.parsers.TextReader._read_low_memory\u001b[0;34m()\u001b[0m\n",
      "\u001b[0;32mpandas/_libs/parsers.pyx\u001b[0m in \u001b[0;36mpandas._libs.parsers.TextReader._read_rows\u001b[0;34m()\u001b[0m\n",
      "\u001b[0;32mpandas/_libs/parsers.pyx\u001b[0m in \u001b[0;36mpandas._libs.parsers.TextReader._convert_column_data\u001b[0;34m()\u001b[0m\n",
      "\u001b[0;32mpandas/_libs/parsers.pyx\u001b[0m in \u001b[0;36mpandas._libs.parsers.TextReader._convert_tokens\u001b[0;34m()\u001b[0m\n",
      "\u001b[0;31mValueError\u001b[0m: could not convert string to float: 'PrivacySuppressed'"
     ]
    }
   ],
   "source": [
    "## Try reading it with these dtypes\n",
    "col_try_again = pd.read_csv(datadir + '/MERGED2009_10_PP.csv',\n",
    "                            dtype=col_dtypes,usecols=col_dtypes.keys())\n",
    "\n",
    "## ValueError: could not convert string to float: 'PrivacySuppressed'"
   ]
  },
  {
   "cell_type": "code",
   "execution_count": 35,
   "metadata": {},
   "outputs": [
    {
     "name": "stdout",
     "output_type": "stream",
     "text": [
      "<class 'pandas.core.frame.DataFrame'>\n",
      "RangeIndex: 7149 entries, 0 to 7148\n",
      "Data columns (total 20 columns):\n",
      "UNITID             7149 non-null int64\n",
      "OPEID              7149 non-null object\n",
      "OPEID6             7149 non-null float64\n",
      "INSTNM             7149 non-null object\n",
      "CITY               7149 non-null object\n",
      "STABBR             7149 non-null object\n",
      "ZIP                7149 non-null object\n",
      "MAIN               7149 non-null float64\n",
      "NUMBRANCH          7149 non-null float64\n",
      "PREDDEG            7149 non-null float64\n",
      "HIGHDEG            7149 non-null float64\n",
      "CONTROL            7149 non-null float64\n",
      "ST_FIPS            7149 non-null float64\n",
      "REGION             7149 non-null float64\n",
      "ADM_RATE           2774 non-null float64\n",
      "UGDS               6596 non-null float64\n",
      "TUITIONFEE_IN      4263 non-null float64\n",
      "TUITIONFEE_OUT     4115 non-null float64\n",
      "MN_EARN_WNE_P10    5486 non-null float64\n",
      "ICLEVEL            7149 non-null float64\n",
      "dtypes: float64(14), int64(1), object(5)\n",
      "memory usage: 1.1+ MB\n"
     ]
    }
   ],
   "source": [
    "## Try reading it again\n",
    "col_try_again = pd.read_csv(datadir + '/MERGED2009_10_PP.csv',na_values='PrivacySuppressed',\n",
    "                            dtype=col_dtypes,usecols=col_dtypes.keys())\n",
    "col_try_again.info()"
   ]
  },
  {
   "cell_type": "code",
   "execution_count": 36,
   "metadata": {},
   "outputs": [],
   "source": [
    "col_try_again['Year'] = pd.Period('2010',freq='Y') # more discussion about time series in book"
   ]
  },
  {
   "cell_type": "code",
   "execution_count": 37,
   "metadata": {},
   "outputs": [
    {
     "data": {
      "text/html": [
       "<div>\n",
       "<style scoped>\n",
       "    .dataframe tbody tr th:only-of-type {\n",
       "        vertical-align: middle;\n",
       "    }\n",
       "\n",
       "    .dataframe tbody tr th {\n",
       "        vertical-align: top;\n",
       "    }\n",
       "\n",
       "    .dataframe thead th {\n",
       "        text-align: right;\n",
       "    }\n",
       "</style>\n",
       "<table border=\"1\" class=\"dataframe\">\n",
       "  <thead>\n",
       "    <tr style=\"text-align: right;\">\n",
       "      <th></th>\n",
       "      <th>UNITID</th>\n",
       "      <th>OPEID</th>\n",
       "      <th>OPEID6</th>\n",
       "      <th>INSTNM</th>\n",
       "      <th>CITY</th>\n",
       "      <th>STABBR</th>\n",
       "      <th>ZIP</th>\n",
       "      <th>MAIN</th>\n",
       "      <th>NUMBRANCH</th>\n",
       "      <th>PREDDEG</th>\n",
       "      <th>...</th>\n",
       "      <th>CONTROL</th>\n",
       "      <th>ST_FIPS</th>\n",
       "      <th>REGION</th>\n",
       "      <th>ADM_RATE</th>\n",
       "      <th>UGDS</th>\n",
       "      <th>TUITIONFEE_IN</th>\n",
       "      <th>TUITIONFEE_OUT</th>\n",
       "      <th>MN_EARN_WNE_P10</th>\n",
       "      <th>ICLEVEL</th>\n",
       "      <th>Year</th>\n",
       "    </tr>\n",
       "  </thead>\n",
       "  <tbody>\n",
       "    <tr>\n",
       "      <th>0</th>\n",
       "      <td>100654</td>\n",
       "      <td>00100200</td>\n",
       "      <td>1002.0</td>\n",
       "      <td>Alabama A &amp; M University</td>\n",
       "      <td>Normal</td>\n",
       "      <td>AL</td>\n",
       "      <td>35762</td>\n",
       "      <td>1.0</td>\n",
       "      <td>1.0</td>\n",
       "      <td>3.0</td>\n",
       "      <td>...</td>\n",
       "      <td>1.0</td>\n",
       "      <td>1.0</td>\n",
       "      <td>5.0</td>\n",
       "      <td>0.4726</td>\n",
       "      <td>4483.0</td>\n",
       "      <td>4692.0</td>\n",
       "      <td>8638.0</td>\n",
       "      <td>36600.0</td>\n",
       "      <td>1.0</td>\n",
       "      <td>2010</td>\n",
       "    </tr>\n",
       "    <tr>\n",
       "      <th>1</th>\n",
       "      <td>100663</td>\n",
       "      <td>00105200</td>\n",
       "      <td>1052.0</td>\n",
       "      <td>University of Alabama at Birmingham</td>\n",
       "      <td>Birmingham</td>\n",
       "      <td>AL</td>\n",
       "      <td>35294-0110</td>\n",
       "      <td>1.0</td>\n",
       "      <td>1.0</td>\n",
       "      <td>3.0</td>\n",
       "      <td>...</td>\n",
       "      <td>1.0</td>\n",
       "      <td>1.0</td>\n",
       "      <td>5.0</td>\n",
       "      <td>0.8357</td>\n",
       "      <td>10265.0</td>\n",
       "      <td>5096.0</td>\n",
       "      <td>11432.0</td>\n",
       "      <td>48500.0</td>\n",
       "      <td>1.0</td>\n",
       "      <td>2010</td>\n",
       "    </tr>\n",
       "    <tr>\n",
       "      <th>2</th>\n",
       "      <td>100690</td>\n",
       "      <td>02503400</td>\n",
       "      <td>25034.0</td>\n",
       "      <td>Amridge University</td>\n",
       "      <td>Montgomery</td>\n",
       "      <td>AL</td>\n",
       "      <td>36117-3553</td>\n",
       "      <td>1.0</td>\n",
       "      <td>1.0</td>\n",
       "      <td>3.0</td>\n",
       "      <td>...</td>\n",
       "      <td>2.0</td>\n",
       "      <td>1.0</td>\n",
       "      <td>5.0</td>\n",
       "      <td>0.8750</td>\n",
       "      <td>389.0</td>\n",
       "      <td>8000.0</td>\n",
       "      <td>8000.0</td>\n",
       "      <td>42800.0</td>\n",
       "      <td>1.0</td>\n",
       "      <td>2010</td>\n",
       "    </tr>\n",
       "    <tr>\n",
       "      <th>3</th>\n",
       "      <td>100706</td>\n",
       "      <td>00105500</td>\n",
       "      <td>1055.0</td>\n",
       "      <td>University of Alabama in Huntsville</td>\n",
       "      <td>Huntsville</td>\n",
       "      <td>AL</td>\n",
       "      <td>35899</td>\n",
       "      <td>1.0</td>\n",
       "      <td>1.0</td>\n",
       "      <td>3.0</td>\n",
       "      <td>...</td>\n",
       "      <td>1.0</td>\n",
       "      <td>1.0</td>\n",
       "      <td>5.0</td>\n",
       "      <td>0.7209</td>\n",
       "      <td>5956.0</td>\n",
       "      <td>6510.0</td>\n",
       "      <td>15628.0</td>\n",
       "      <td>51900.0</td>\n",
       "      <td>1.0</td>\n",
       "      <td>2010</td>\n",
       "    </tr>\n",
       "    <tr>\n",
       "      <th>4</th>\n",
       "      <td>100724</td>\n",
       "      <td>00100500</td>\n",
       "      <td>1005.0</td>\n",
       "      <td>Alabama State University</td>\n",
       "      <td>Montgomery</td>\n",
       "      <td>AL</td>\n",
       "      <td>36104-0271</td>\n",
       "      <td>1.0</td>\n",
       "      <td>1.0</td>\n",
       "      <td>3.0</td>\n",
       "      <td>...</td>\n",
       "      <td>1.0</td>\n",
       "      <td>1.0</td>\n",
       "      <td>5.0</td>\n",
       "      <td>0.4625</td>\n",
       "      <td>4638.0</td>\n",
       "      <td>6468.0</td>\n",
       "      <td>12084.0</td>\n",
       "      <td>30700.0</td>\n",
       "      <td>1.0</td>\n",
       "      <td>2010</td>\n",
       "    </tr>\n",
       "  </tbody>\n",
       "</table>\n",
       "<p>5 rows × 21 columns</p>\n",
       "</div>"
      ],
      "text/plain": [
       "   UNITID     OPEID   OPEID6                               INSTNM        CITY  \\\n",
       "0  100654  00100200   1002.0             Alabama A & M University      Normal   \n",
       "1  100663  00105200   1052.0  University of Alabama at Birmingham  Birmingham   \n",
       "2  100690  02503400  25034.0                   Amridge University  Montgomery   \n",
       "3  100706  00105500   1055.0  University of Alabama in Huntsville  Huntsville   \n",
       "4  100724  00100500   1005.0             Alabama State University  Montgomery   \n",
       "\n",
       "  STABBR         ZIP  MAIN  NUMBRANCH  PREDDEG  ...   CONTROL  ST_FIPS  \\\n",
       "0     AL       35762   1.0        1.0      3.0  ...       1.0      1.0   \n",
       "1     AL  35294-0110   1.0        1.0      3.0  ...       1.0      1.0   \n",
       "2     AL  36117-3553   1.0        1.0      3.0  ...       2.0      1.0   \n",
       "3     AL       35899   1.0        1.0      3.0  ...       1.0      1.0   \n",
       "4     AL  36104-0271   1.0        1.0      3.0  ...       1.0      1.0   \n",
       "\n",
       "   REGION  ADM_RATE     UGDS  TUITIONFEE_IN  TUITIONFEE_OUT  MN_EARN_WNE_P10  \\\n",
       "0     5.0    0.4726   4483.0         4692.0          8638.0          36600.0   \n",
       "1     5.0    0.8357  10265.0         5096.0         11432.0          48500.0   \n",
       "2     5.0    0.8750    389.0         8000.0          8000.0          42800.0   \n",
       "3     5.0    0.7209   5956.0         6510.0         15628.0          51900.0   \n",
       "4     5.0    0.4625   4638.0         6468.0         12084.0          30700.0   \n",
       "\n",
       "   ICLEVEL  Year  \n",
       "0      1.0  2010  \n",
       "1      1.0  2010  \n",
       "2      1.0  2010  \n",
       "3      1.0  2010  \n",
       "4      1.0  2010  \n",
       "\n",
       "[5 rows x 21 columns]"
      ]
     },
     "execution_count": 37,
     "metadata": {},
     "output_type": "execute_result"
    }
   ],
   "source": [
    "col_try_again.head()"
   ]
  },
  {
   "cell_type": "code",
   "execution_count": 38,
   "metadata": {
    "slideshow": {
     "slide_type": "slide"
    }
   },
   "outputs": [
    {
     "data": {
      "text/plain": [
       "Timestamp('2010-01-01 00:00:00')"
      ]
     },
     "execution_count": 38,
     "metadata": {},
     "output_type": "execute_result"
    }
   ],
   "source": [
    "y = col_try_again['Year'][0]\n",
    "y.to_timestamp() # convert Period to Timestamp"
   ]
  },
  {
   "cell_type": "code",
   "execution_count": 39,
   "metadata": {
    "slideshow": {
     "slide_type": "fragment"
    }
   },
   "outputs": [
    {
     "data": {
      "text/plain": [
       "Timestamp('2010-01-01 00:00:00')"
      ]
     },
     "execution_count": 39,
     "metadata": {},
     "output_type": "execute_result"
    }
   ],
   "source": [
    "y.start_time # Start time of period - not optimal"
   ]
  },
  {
   "cell_type": "code",
   "execution_count": 40,
   "metadata": {
    "slideshow": {
     "slide_type": "fragment"
    }
   },
   "outputs": [
    {
     "data": {
      "text/plain": [
       "Timestamp('2010-12-31 23:59:59.999999999')"
      ]
     },
     "execution_count": 40,
     "metadata": {},
     "output_type": "execute_result"
    }
   ],
   "source": [
    "y.end_time # End time of period - not optimal"
   ]
  },
  {
   "cell_type": "code",
   "execution_count": 41,
   "metadata": {
    "slideshow": {
     "slide_type": "slide"
    }
   },
   "outputs": [],
   "source": [
    "## Apply what we learned to all data files\n",
    "\n",
    "def read_cs_data(year,col_dtypes,datadir):\n",
    "    \"\"\"read a CollegeScorecard dataframe\"\"\"\n",
    "    nextyr = str(int(year) + 1)[-2:]\n",
    "    filename = datadir + '/MERGED{}_{}_PP.csv'.format(year,nextyr)\n",
    "    col = pd.read_csv(filename,na_values='PrivacySuppressed',\n",
    "                      dtype=col_dtypes,usecols=col_dtypes.keys())\n",
    "    col['Year'] = pd.Period(str(int(year) + 1),freq='Y')\n",
    "    return col"
   ]
  },
  {
   "cell_type": "code",
   "execution_count": 42,
   "metadata": {
    "slideshow": {
     "slide_type": "fragment"
    }
   },
   "outputs": [],
   "source": [
    "## pd.concat stacks DataFrames (append rows)\n",
    "\n",
    "col = pd.concat((read_cs_data(str(y),col_dtypes,datadir) for y in range(1996,2017))) # gen exp\n",
    "col = col.set_index(['UNITID','Year']) # set multi index"
   ]
  },
  {
   "cell_type": "code",
   "execution_count": 43,
   "metadata": {
    "slideshow": {
     "slide_type": "slide"
    }
   },
   "outputs": [
    {
     "data": {
      "text/html": [
       "<div>\n",
       "<style scoped>\n",
       "    .dataframe tbody tr th:only-of-type {\n",
       "        vertical-align: middle;\n",
       "    }\n",
       "\n",
       "    .dataframe tbody tr th {\n",
       "        vertical-align: top;\n",
       "    }\n",
       "\n",
       "    .dataframe thead th {\n",
       "        text-align: right;\n",
       "    }\n",
       "</style>\n",
       "<table border=\"1\" class=\"dataframe\">\n",
       "  <thead>\n",
       "    <tr style=\"text-align: right;\">\n",
       "      <th></th>\n",
       "      <th></th>\n",
       "      <th>OPEID</th>\n",
       "      <th>OPEID6</th>\n",
       "      <th>INSTNM</th>\n",
       "      <th>CITY</th>\n",
       "      <th>STABBR</th>\n",
       "      <th>ZIP</th>\n",
       "      <th>MAIN</th>\n",
       "      <th>NUMBRANCH</th>\n",
       "      <th>PREDDEG</th>\n",
       "      <th>HIGHDEG</th>\n",
       "      <th>CONTROL</th>\n",
       "      <th>ST_FIPS</th>\n",
       "      <th>REGION</th>\n",
       "      <th>ADM_RATE</th>\n",
       "      <th>UGDS</th>\n",
       "      <th>TUITIONFEE_IN</th>\n",
       "      <th>TUITIONFEE_OUT</th>\n",
       "      <th>MN_EARN_WNE_P10</th>\n",
       "      <th>ICLEVEL</th>\n",
       "    </tr>\n",
       "    <tr>\n",
       "      <th>UNITID</th>\n",
       "      <th>Year</th>\n",
       "      <th></th>\n",
       "      <th></th>\n",
       "      <th></th>\n",
       "      <th></th>\n",
       "      <th></th>\n",
       "      <th></th>\n",
       "      <th></th>\n",
       "      <th></th>\n",
       "      <th></th>\n",
       "      <th></th>\n",
       "      <th></th>\n",
       "      <th></th>\n",
       "      <th></th>\n",
       "      <th></th>\n",
       "      <th></th>\n",
       "      <th></th>\n",
       "      <th></th>\n",
       "      <th></th>\n",
       "      <th></th>\n",
       "    </tr>\n",
       "  </thead>\n",
       "  <tbody>\n",
       "    <tr>\n",
       "      <th>100636</th>\n",
       "      <th>1997</th>\n",
       "      <td>01230800</td>\n",
       "      <td>12308.0</td>\n",
       "      <td>Community College of the Air Force</td>\n",
       "      <td>Montgomery</td>\n",
       "      <td>AL</td>\n",
       "      <td>36114-3011</td>\n",
       "      <td>1.0</td>\n",
       "      <td>1.0</td>\n",
       "      <td>2.0</td>\n",
       "      <td>2.0</td>\n",
       "      <td>1.0</td>\n",
       "      <td>1.0</td>\n",
       "      <td>0.0</td>\n",
       "      <td>NaN</td>\n",
       "      <td>44141.0</td>\n",
       "      <td>NaN</td>\n",
       "      <td>NaN</td>\n",
       "      <td>NaN</td>\n",
       "      <td>2.0</td>\n",
       "    </tr>\n",
       "    <tr>\n",
       "      <th>100654</th>\n",
       "      <th>1997</th>\n",
       "      <td>00100200</td>\n",
       "      <td>1002.0</td>\n",
       "      <td>Alabama A &amp; M University</td>\n",
       "      <td>Normal</td>\n",
       "      <td>AL</td>\n",
       "      <td>35762</td>\n",
       "      <td>1.0</td>\n",
       "      <td>1.0</td>\n",
       "      <td>3.0</td>\n",
       "      <td>4.0</td>\n",
       "      <td>1.0</td>\n",
       "      <td>1.0</td>\n",
       "      <td>5.0</td>\n",
       "      <td>NaN</td>\n",
       "      <td>3852.0</td>\n",
       "      <td>NaN</td>\n",
       "      <td>NaN</td>\n",
       "      <td>NaN</td>\n",
       "      <td>1.0</td>\n",
       "    </tr>\n",
       "    <tr>\n",
       "      <th>100663</th>\n",
       "      <th>1997</th>\n",
       "      <td>00105200</td>\n",
       "      <td>1052.0</td>\n",
       "      <td>University of Alabama at Birmingham</td>\n",
       "      <td>Birmingham</td>\n",
       "      <td>AL</td>\n",
       "      <td>35294-0110</td>\n",
       "      <td>1.0</td>\n",
       "      <td>2.0</td>\n",
       "      <td>3.0</td>\n",
       "      <td>4.0</td>\n",
       "      <td>1.0</td>\n",
       "      <td>1.0</td>\n",
       "      <td>5.0</td>\n",
       "      <td>NaN</td>\n",
       "      <td>9889.0</td>\n",
       "      <td>NaN</td>\n",
       "      <td>NaN</td>\n",
       "      <td>NaN</td>\n",
       "      <td>1.0</td>\n",
       "    </tr>\n",
       "    <tr>\n",
       "      <th>100672</th>\n",
       "      <th>1997</th>\n",
       "      <td>00574900</td>\n",
       "      <td>5749.0</td>\n",
       "      <td>ALABAMA AVIATION AND TECHNICAL COLLEGE</td>\n",
       "      <td>OZARK</td>\n",
       "      <td>AL</td>\n",
       "      <td>36360</td>\n",
       "      <td>1.0</td>\n",
       "      <td>1.0</td>\n",
       "      <td>1.0</td>\n",
       "      <td>2.0</td>\n",
       "      <td>1.0</td>\n",
       "      <td>1.0</td>\n",
       "      <td>5.0</td>\n",
       "      <td>NaN</td>\n",
       "      <td>295.0</td>\n",
       "      <td>NaN</td>\n",
       "      <td>NaN</td>\n",
       "      <td>NaN</td>\n",
       "      <td>2.0</td>\n",
       "    </tr>\n",
       "    <tr>\n",
       "      <th>100690</th>\n",
       "      <th>1997</th>\n",
       "      <td>02503400</td>\n",
       "      <td>25034.0</td>\n",
       "      <td>Amridge University</td>\n",
       "      <td>Montgomery</td>\n",
       "      <td>AL</td>\n",
       "      <td>36117-3553</td>\n",
       "      <td>1.0</td>\n",
       "      <td>1.0</td>\n",
       "      <td>3.0</td>\n",
       "      <td>4.0</td>\n",
       "      <td>2.0</td>\n",
       "      <td>1.0</td>\n",
       "      <td>5.0</td>\n",
       "      <td>NaN</td>\n",
       "      <td>60.0</td>\n",
       "      <td>NaN</td>\n",
       "      <td>NaN</td>\n",
       "      <td>NaN</td>\n",
       "      <td>1.0</td>\n",
       "    </tr>\n",
       "  </tbody>\n",
       "</table>\n",
       "</div>"
      ],
      "text/plain": [
       "                OPEID   OPEID6                                  INSTNM  \\\n",
       "UNITID Year                                                              \n",
       "100636 1997  01230800  12308.0      Community College of the Air Force   \n",
       "100654 1997  00100200   1002.0                Alabama A & M University   \n",
       "100663 1997  00105200   1052.0     University of Alabama at Birmingham   \n",
       "100672 1997  00574900   5749.0  ALABAMA AVIATION AND TECHNICAL COLLEGE   \n",
       "100690 1997  02503400  25034.0                      Amridge University   \n",
       "\n",
       "                   CITY STABBR         ZIP  MAIN  NUMBRANCH  PREDDEG  HIGHDEG  \\\n",
       "UNITID Year                                                                     \n",
       "100636 1997  Montgomery     AL  36114-3011   1.0        1.0      2.0      2.0   \n",
       "100654 1997      Normal     AL       35762   1.0        1.0      3.0      4.0   \n",
       "100663 1997  Birmingham     AL  35294-0110   1.0        2.0      3.0      4.0   \n",
       "100672 1997       OZARK     AL       36360   1.0        1.0      1.0      2.0   \n",
       "100690 1997  Montgomery     AL  36117-3553   1.0        1.0      3.0      4.0   \n",
       "\n",
       "             CONTROL  ST_FIPS  REGION  ADM_RATE     UGDS  TUITIONFEE_IN  \\\n",
       "UNITID Year                                                               \n",
       "100636 1997      1.0      1.0     0.0       NaN  44141.0            NaN   \n",
       "100654 1997      1.0      1.0     5.0       NaN   3852.0            NaN   \n",
       "100663 1997      1.0      1.0     5.0       NaN   9889.0            NaN   \n",
       "100672 1997      1.0      1.0     5.0       NaN    295.0            NaN   \n",
       "100690 1997      2.0      1.0     5.0       NaN     60.0            NaN   \n",
       "\n",
       "             TUITIONFEE_OUT  MN_EARN_WNE_P10  ICLEVEL  \n",
       "UNITID Year                                            \n",
       "100636 1997             NaN              NaN      2.0  \n",
       "100654 1997             NaN              NaN      1.0  \n",
       "100663 1997             NaN              NaN      1.0  \n",
       "100672 1997             NaN              NaN      2.0  \n",
       "100690 1997             NaN              NaN      1.0  "
      ]
     },
     "execution_count": 43,
     "metadata": {},
     "output_type": "execute_result"
    }
   ],
   "source": [
    "col.head()"
   ]
  },
  {
   "cell_type": "code",
   "execution_count": 44,
   "metadata": {
    "slideshow": {
     "slide_type": "slide"
    }
   },
   "outputs": [],
   "source": [
    "## Find UC Davis\n",
    "\n",
    "col_large = col[col['UGDS'] > 1000] # Filter with boolean indexing\n",
    "davis = col_large.query('CITY==\"Davis\" and STABBR==\"CA\"') # .query finds rows satisfying expression\n",
    "davis = davis.reset_index(level=0) # access index via level"
   ]
  },
  {
   "cell_type": "code",
   "execution_count": 45,
   "metadata": {
    "slideshow": {
     "slide_type": "slide"
    }
   },
   "outputs": [
    {
     "data": {
      "text/plain": [
       "<Figure size 640x480 with 1 Axes>"
      ]
     },
     "metadata": {},
     "output_type": "display_data"
    }
   ],
   "source": [
    "## Plot davis\n",
    "import matplotlib.pyplot as plt\n",
    "\n",
    "ax = davis.plot(y='UGDS') # dataframe.plot()!\n",
    "ax.set_title('UC Davis undergraduate pop.')\n",
    "ax.set_ylabel('UG Enrollment')\n",
    "plt.show()"
   ]
  }
 ],
 "metadata": {
  "celltoolbar": "Slideshow",
  "kernelspec": {
   "display_name": "Python 3",
   "language": "python",
   "name": "python3"
  },
  "language_info": {
   "codemirror_mode": {
    "name": "ipython",
    "version": 3
   },
   "file_extension": ".py",
   "mimetype": "text/x-python",
   "name": "python",
   "nbconvert_exporter": "python",
   "pygments_lexer": "ipython3",
   "version": "3.7.0"
  }
 },
 "nbformat": 4,
 "nbformat_minor": 1
}
