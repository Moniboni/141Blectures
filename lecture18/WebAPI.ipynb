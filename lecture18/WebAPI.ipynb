{
 "cells": [
  {
   "cell_type": "markdown",
   "metadata": {},
   "source": [
    "## Getting data from the Web\n",
    "\n",
    "### The Internet and HTTP\n",
    "\n",
    "The internet (you may have heard of it) is a system of computer networks that uses internet protocols to link communicating devices.\n",
    "The internet is dictated by network protocols, which are rules by which computers communicate.\n",
    "Each protocol is designed for a certain task and is specific to a type of data, physical devices, or application.\n",
    "So for example, the Simple Mail Transfer Protocol (SMTP) and Post Office Protocol (POP), are agreements on how email clients and servers create and parse messages.\n",
    "These protocols are mostly open source, such as HTTP, but some are proprietary, like the Yahoo! Instant Messenger Protocol.\n",
    "  The cryptocurrency, Bitcoin, has an associated protocol that specifies how bitcoins are sent and recieved.\n",
    "  The internet protocol suite is a stack of interdependent protocols that power the internet, allowing for the routing of packets (IP), the interaction with physical components (MAC/Ethernet/etc.), the error-free transmission of data (TCP), and the application layer that standardizes communication (HTTP).\n",
    "  You can see a list of network protocols at <a href=\"https://en.wikipedia.org/wiki/Lists_of_network_protocols\">this wikipedia page</a>.\n",
    "\n",
    "Bob Kahn and Vinton Cerf developed TCP/IP for DARPA, the research arm of the Department of Defense.\n",
    "The computer network at the time was called ARPANET, and the protocols multiplied as TCP spawned IP, and other researchers joined the project.\n",
    "Later Tim Berners-Lee at the European Organization for Nuclear Research (CERN) developed the Hypertext Transfer Protocol (HTTP).\n",
    "HTTP is the application protocol that is the basis for the world wide web.\n",
    "We will discuss more about HTML, the hypertext markup language in another lesson, but for now, just know that it allows for nodes to be linked to one another (via URIs) and these nodes have structured text.\n",
    "HTTP standards are maintained and updated by the Internet Engineering Task Force (IETF) and the World Wide Web Consortium (W3C).\n",
    "A very interesting account of the development and implications of the internet can be found in the documentary, \"Lo and Behold, Reveries of the Connected World\" by Werner Herzog (available on Netflix as of Feb 2017).\n",
    "\n",
    "Network protocols that are maintained by the IETF are published in Request for Comment (RFC) documents.\n",
    "For example, we can see the first RFC for HTTP (<a href=\"https://tools.ietf.org/html/rfc1945\">RFC 1945</a>) has the following abstract.\n",
    "<center><pre>Network Working Group                                     T. Berners-Lee\n",
    "Request for Comments: 1945                                       MIT/LCS\n",
    "Category: Informational                                      R. Fielding\n",
    "                                                               UC Irvine\n",
    "                                                              H. Frystyk\n",
    "                                                                 MIT/LCS\n",
    "                                                                May 1996\n",
    "\n",
    "\n",
    "Hypertext Transfer Protocol -- HTTP/1.0\n",
    "    \n",
    "Abstract\n",
    "\n",
    "   The Hypertext Transfer Protocol (HTTP) is an application-level\n",
    "   protocol with the lightness and speed necessary for distributed,\n",
    "   collaborative, hypermedia information systems. It is a generic,\n",
    "   stateless, object-oriented protocol which can be used for many tasks,\n",
    "   such as name servers and distributed object management systems,\n",
    "   through extension of its request methods (commands). A feature of\n",
    "   HTTP is the typing of data representation, allowing systems to be\n",
    "   built independently of the data being transferred.\n",
    "</pre></center>\n",
    "\n",
    "HTTP is based on the client-server computing model, where a client, typically a web browser, and an application on a web server, communicate to serve web content.\n",
    "  One common open-source web server application is Apache (which is also the name of its parent organization that later developed the web browser Firefox).\n",
    "  HTTP is a request-response protocol, meaning that clients make requests for content and then the server makes a response.\n",
    "  There are several request methods to HTTP, notably GET which is used to retrieve data, and POST which asks the server to accept data at a URI.  \n"
   ]
  },
  {
   "cell_type": "markdown",
   "metadata": {},
   "source": [
    "The Request package is a main tool making requests to web servers.  Because we will focus on extracting data from the web, we will focus on GET requests, and ignore POST requests.  The basic GET request is what the browser does when you navigate to a URL.  As it turns out you can pass parameters to URLs as well.  The URLs follow a certain format according to other RFCs that specify how URLs should be written.  The basic idea is that the URL can be broken into the following components: scheme, network location, hierarchical path, parameters, query, and fragment identifier.  It follows the basic format: <code>scheme://netloc/path;parameters?query#fragment</code>. The scheme can be <code>file, ftp, http, https,...</code>, the netloc is typically the host root url, like <code>www.google.com</code>, the path is a typical relative path, then the parameters and query specify arguments for GET, POST, PUT, etc.  So if we take the url <code>http://api.petfinder.com/my.method?key=12345&arg1=foo&token=67890&sig=abcdef</code> then it has scheme <code>http</code>, netloc of <code>api.petfinder.com</code>, path of <code>my.method</code>, and query is <code>key=12345&arg1=foo&token=67890&sig=abcdef</code>.  The functions <code>urlparse, urlunparse</code> will let you go from a url to a iterable of these components and back again.  You can find the [Request quickstart documentation here](http://docs.python-requests.org/en/master/user/quickstart/)."
   ]
  },
  {
   "cell_type": "markdown",
   "metadata": {},
   "source": [
    "The basic use of the Requests package is through the GET method, as in the following."
   ]
  },
  {
   "cell_type": "code",
   "execution_count": 7,
   "metadata": {},
   "outputs": [],
   "source": [
    "import requests\n",
    "\n",
    "r = requests.get('https://api.github.com/events')"
   ]
  },
  {
   "cell_type": "markdown",
   "metadata": {},
   "source": [
    "This will establish a connection to github.com and then will make the get request.  This is the same as what your browser does when you type https://api.github.com/events into the url (go ahead and try it).  When we run this we are getting a summary of the public events in github through their web API, which we will discuss shortly.\n",
    "\n",
    "We can see the text of what was returned from github by accessing the ``text`` attribute.  This is what the browser receives and needs to parse to display something meaningful to you."
   ]
  },
  {
   "cell_type": "code",
   "execution_count": 8,
   "metadata": {},
   "outputs": [
    {
     "data": {
      "text/plain": [
       "'[{\"id\":\"8530767475\",\"type\":\"PushEvent\",\"actor\":{\"id\":324298,\"login\":\"jimkang\",\"display_login\":\"jimkang\",\"gravatar_id\":\"\",\"url\":\"https://api.github.com/users/jimkang\",\"avatar_url\":\"https://avatars.githubusercontent.com/u/324298?\"},\"repo\":{\"id\":129019986,\"name\":\"jimkang/self-tagging-bot\",\"url\":\"https:'"
      ]
     },
     "execution_count": 8,
     "metadata": {},
     "output_type": "execute_result"
    }
   ],
   "source": [
    "r.text[:300]"
   ]
  },
  {
   "cell_type": "markdown",
   "metadata": {},
   "source": [
    "We are seeing a serialization of JSON data from a web API, which we will discuss shortly."
   ]
  },
  {
   "cell_type": "markdown",
   "metadata": {},
   "source": [
    "**Note:** You can use requests to make an overwhelmingly large number of requests to a webserver in a very short period of time.  This is how denial of service attacks work, and it is an unkind thing to do.  Please use requests with care."
   ]
  },
  {
   "cell_type": "markdown",
   "metadata": {},
   "source": [
    "## Web APIs and JSON\n",
    "\n",
    "An application programming interface (API) is a set of methods by which software components communicate.\n",
    "Web APIs define how HTTP request methods can be used to access and modify data on the server.\n",
    "In modern web APIs you specify the URL of the API, such as <code>http://api.petfinder.com/subsystem.method</code> indicating the method, then specify arguments, and the desired data format (JSON, XML, etc.).\n",
    "The API will read the parameters in the url, and then return raw JSON.\n",
    "\n",
    "JSON, which is also specified by a request for comment (RFC 7159), is a simple data exchange format.  It is designed to efficiently parse complex data, but is not meant to be especially human readible and writtable like markup languages.  JSON is perfect for web APIs because they are meant to serve data to other applications and the occasional data scientist, and is not meant to be read as a webpage in your browser.\n",
    "\n",
    "You should think of JSON in the same way that you think of CSV, it determines a way to turn a python object into a string that can be sent via HTTP or written to a file.  This conversion is called serialization, and to convert back is called deserialization.  JSON is very flexible since it is based on dictionaries and lists (called objects and arrays in JSON), and you can nest these in complex ways.  So for example, a matrix could be written as a list of lists, a DataFrame is a dictionary with column names for keys and lists for values, etc.  You can see a detailed description of JSON at <a href=\"http://json.org\">json.org</a>.\n",
    "\n",
    "We can access the parsed json from the request with the ``json`` method, as in,"
   ]
  },
  {
   "cell_type": "code",
   "execution_count": 12,
   "metadata": {},
   "outputs": [],
   "source": [
    "gh_json = r.json()"
   ]
  },
  {
   "cell_type": "markdown",
   "metadata": {},
   "source": [
    "Because serialized JSON creates arrays by encapsulating the array with square brackets [] and items separated by commas.  The object (like the Python dictionary) is encapsulated in curly brackets {} and key value pairs are separated by colons.  All of these match the way that we create lists and dictionaries in Python.  Critically, along with strings and numerical types the array and object types can be used for the values in the array and object, meaning that they can be nested.  We saw that the response json starts with ``[{\"id\":\"8530767475\",`` which means that the json has an array at the outer layer and then the first value is an object.  We can see this first fact by looking at the type of the parsed json."
   ]
  },
  {
   "cell_type": "code",
   "execution_count": 13,
   "metadata": {},
   "outputs": [
    {
     "data": {
      "text/plain": [
       "list"
      ]
     },
     "execution_count": 13,
     "metadata": {},
     "output_type": "execute_result"
    }
   ],
   "source": [
    "type(gh_json)"
   ]
  },
  {
   "cell_type": "markdown",
   "metadata": {},
   "source": [
    "Arrays are interpretted as lists, and similarly, the object is interpretted as a dictionary."
   ]
  },
  {
   "cell_type": "code",
   "execution_count": 14,
   "metadata": {},
   "outputs": [
    {
     "data": {
      "text/plain": [
       "dict"
      ]
     },
     "execution_count": 14,
     "metadata": {},
     "output_type": "execute_result"
    }
   ],
   "source": [
    "type(gh_json[0])"
   ]
  },
  {
   "cell_type": "markdown",
   "metadata": {},
   "source": [
    "So for example, we could get the id of the first entry of the response with,"
   ]
  },
  {
   "cell_type": "code",
   "execution_count": 15,
   "metadata": {},
   "outputs": [
    {
     "data": {
      "text/plain": [
       "'8530767475'"
      ]
     },
     "execution_count": 15,
     "metadata": {},
     "output_type": "execute_result"
    }
   ],
   "source": [
    "gh_json[0]['id']"
   ]
  },
  {
   "cell_type": "markdown",
   "metadata": {},
   "source": [
    "Unfortunately, there is no standard format for the response of web APIs, except that they have to follow the grammar of json (or xml).  This means that reading the data from each will differ from API to API."
   ]
  },
  {
   "cell_type": "markdown",
   "metadata": {},
   "source": [
    "### Petfinder API\n",
    "\n",
    "We found our dog Emmy (a mixed breed herding dog named after the German mathematician Emmy Noether) on http://petfinder.com.  The website provides an API so that other sites can easily access the data on their databases.  We will also import requests_cache, so that we can cache the results of a request by default.  This is typically a kind thing to do so that if we make the same request then it will not overburden the webserver."
   ]
  },
  {
   "cell_type": "code",
   "execution_count": 2,
   "metadata": {},
   "outputs": [],
   "source": [
    "import requests_cache\n",
    "import pandas as pd\n",
    "from matplotlib import pyplot as plt\n",
    "\n",
    "plt.style.use('ggplot')\n",
    "requests_cache.install_cache('pet_cache')"
   ]
  },
  {
   "cell_type": "code",
   "execution_count": 152,
   "metadata": {},
   "outputs": [],
   "source": [
    "key = \"12345\" #get your own key!"
   ]
  },
  {
   "cell_type": "markdown",
   "metadata": {},
   "source": [
    "Let's get the dog breeds from petfinder.  The breed_uri variable specifies my key (you will need to request your own), the method that I want to use, breed.list, the species, and the format of the output (JSON).  This format is specific to the petfinder api (<a href=\"https://www.petfinder.com/developers/api-docs\">you can look at the documentation</a>)."
   ]
  },
  {
   "cell_type": "code",
   "execution_count": 4,
   "metadata": {},
   "outputs": [],
   "source": [
    "params = {'key': key, 'animal': 'dog', 'format': 'json'}"
   ]
  },
  {
   "cell_type": "markdown",
   "metadata": {},
   "source": [
    "We will store the parameters in the above dictionary and the root url in the string below."
   ]
  },
  {
   "cell_type": "code",
   "execution_count": 5,
   "metadata": {},
   "outputs": [],
   "source": [
    "breed_url = \"http://api.petfinder.com/breed.list\""
   ]
  },
  {
   "cell_type": "markdown",
   "metadata": {},
   "source": [
    "These are combined to make the request using ``requests.get``.  "
   ]
  },
  {
   "cell_type": "code",
   "execution_count": 8,
   "metadata": {},
   "outputs": [],
   "source": [
    "req = requests.get(breed_url,params=params)"
   ]
  },
  {
   "cell_type": "markdown",
   "metadata": {},
   "source": [
    "What this does is make the request to the webserver and pass those parameters.  You can see the url that this constructs with the parameters."
   ]
  },
  {
   "cell_type": "code",
   "execution_count": 156,
   "metadata": {},
   "outputs": [
    {
     "data": {
      "text/plain": [
       "'http://api.petfinder.com/breed.list?animal=dog&format=json&key=12345'"
      ]
     },
     "execution_count": 156,
     "metadata": {},
     "output_type": "execute_result"
    }
   ],
   "source": [
    "req.url"
   ]
  },
  {
   "cell_type": "markdown",
   "metadata": {},
   "source": [
    "We can extract the json that the request received."
   ]
  },
  {
   "cell_type": "code",
   "execution_count": 9,
   "metadata": {},
   "outputs": [
    {
     "name": "stdout",
     "output_type": "stream",
     "text": [
      "{'@encoding': 'iso-8859-1', '@version': '1.0', 'petfinder': {'@xmlns:xsi': 'http://www.w3.org/2001/XMLSchema-instance', 'breeds': {'breed': [{'$t': 'Affenpinscher'}, {'$t': 'Afghan Hound'}, {'$t': 'Airedale Terrier'}, {'$t': 'Akbash'}, {'$t': 'Akita'}, {'$t': 'Alaskan Malamute'}, {'$t': 'American Bu\n"
     ]
    }
   ],
   "source": [
    "js = req.json()\n",
    "\n",
    "print(js.__repr__()[0:300])"
   ]
  },
  {
   "cell_type": "markdown",
   "metadata": {},
   "source": [
    "We see that at the top is a dictionary (object in json) and most of the content is in the 'petfinder' key.  Then there is a list (array) of breeds which are dictionaries with the 'dollart' key.  Each API has its own idiosyncracies and this one has that all of the data has the key 'dollart'."
   ]
  },
  {
   "cell_type": "code",
   "execution_count": 25,
   "metadata": {},
   "outputs": [
    {
     "data": {
      "text/plain": [
       "200"
      ]
     },
     "execution_count": 25,
     "metadata": {},
     "output_type": "execute_result"
    }
   ],
   "source": [
    "req.status_code"
   ]
  },
  {
   "cell_type": "markdown",
   "metadata": {},
   "source": [
    "We can also check the status code of the request which tell us that it was successful (200 is a successful code as opposed to codes in the 400's)."
   ]
  },
  {
   "cell_type": "markdown",
   "metadata": {},
   "source": [
    "You can explore the tree structure of the data by looking at the keys and descending."
   ]
  },
  {
   "cell_type": "code",
   "execution_count": 27,
   "metadata": {},
   "outputs": [
    {
     "name": "stdout",
     "output_type": "stream",
     "text": [
      "dict_keys(['@encoding', '@version', 'petfinder'])\n"
     ]
    }
   ],
   "source": [
    "print(js.keys())"
   ]
  },
  {
   "cell_type": "code",
   "execution_count": 28,
   "metadata": {},
   "outputs": [
    {
     "data": {
      "text/plain": [
       "dict_keys(['@xmlns:xsi', 'breeds', 'header', '@xsi:noNamespaceSchemaLocation'])"
      ]
     },
     "execution_count": 28,
     "metadata": {},
     "output_type": "execute_result"
    }
   ],
   "source": [
    "js['petfinder'].keys()"
   ]
  },
  {
   "cell_type": "code",
   "execution_count": 10,
   "metadata": {},
   "outputs": [
    {
     "data": {
      "text/plain": [
       "dict_keys(['breed', '@animal'])"
      ]
     },
     "execution_count": 10,
     "metadata": {},
     "output_type": "execute_result"
    }
   ],
   "source": [
    "js['petfinder']['breeds'].keys()"
   ]
  },
  {
   "cell_type": "markdown",
   "metadata": {},
   "source": [
    "Now we know how to extract the dog breeds."
   ]
  },
  {
   "cell_type": "code",
   "execution_count": 12,
   "metadata": {},
   "outputs": [],
   "source": [
    "breeds = [b['$t'] for b in js['petfinder']['breeds']['breed']]"
   ]
  },
  {
   "cell_type": "code",
   "execution_count": 13,
   "metadata": {},
   "outputs": [
    {
     "name": "stdout",
     "output_type": "stream",
     "text": [
      "Affenpinscher, Afghan Hound, Airedale Terrier, Akbash, Akita, Alaskan Malamute, American Bulldog, American Eskimo Dog, American Foxhound, American Hairless Terrier, American Staffordshire Terrier, American Water Spaniel, Anatolian Shepherd, Appenzell Mountain Dog, Australian Cattle Dog / Blue Heeler, Australian Kelpie, Australian Shepherd, Australian Terrier, Basenji, Basset Hound, Beagle, Bearded Collie, Beauceron, Bedlington Terrier, Belgian Shepherd / Laekenois, Belgian Shepherd / Malinois, Belgian Shepherd / Sheepdog, Belgian Shepherd / Tervuren, Bernese Mountain Dog, Bichon Frise\n"
     ]
    }
   ],
   "source": [
    "print(\", \".join(breeds[:30]))"
   ]
  },
  {
   "cell_type": "code",
   "execution_count": 14,
   "metadata": {},
   "outputs": [
    {
     "data": {
      "text/plain": [
       "257"
      ]
     },
     "execution_count": 14,
     "metadata": {},
     "output_type": "execute_result"
    }
   ],
   "source": [
    "len(breeds)"
   ]
  },
  {
   "cell_type": "markdown",
   "metadata": {},
   "source": [
    "We can see that there are 257 breeds of dogs in their database.  These include for example, the 'Bedlington Terrier'."
   ]
  },
  {
   "cell_type": "markdown",
   "metadata": {},
   "source": [
    "The Petfinder API also includes a ``pet.getRandom`` method which allows one to randomly sample the database for a pet with a specific breed."
   ]
  },
  {
   "cell_type": "code",
   "execution_count": 16,
   "metadata": {},
   "outputs": [],
   "source": [
    "pet_url_ex = \"http://api.petfinder.com/pet.getRandom\"\n",
    "randomparms = {'key':key,'animal':'dog','format':'json','output':'basic'}\n",
    "randreq = requests.get(pet_url_ex,params = randomparms)\n",
    "js = randreq.json()"
   ]
  },
  {
   "cell_type": "code",
   "execution_count": 18,
   "metadata": {},
   "outputs": [
    {
     "name": "stdout",
     "output_type": "stream",
     "text": [
      "{'pet': {'options': {'option': [{'$t': 'altered'}, {'$t': 'hasShots'}, {'$t': 'housetrained'}]}, 'status': {'$t': 'A'}, 'contact': {'phone': {'$t': '210-535-5480'}, 'state': {'$t': 'TX'}, 'address2': {'$t': 'P.O. Box 743'}, 'email': {'$t': 'teresakopacki@gmail.com'}, 'city': {'$t': 'Lytle'}, 'zip': {'$t': '78052'}, 'fax': {}, 'address1': {'$t': '17971 W. FM 2790 S.'}}, 'age': {'$t': 'Adult'}, 'size': {'$t': 'S'}, 'media': {'photos': {'photo': [{'@size': 'pnt', '$t': 'http://photos.petfinder.com/photos/pets/40700638/1/?bust=1516246159&width=60&-pnt.jpg', '@id': '1'}, {'@size': 'fpm', '$t': 'http://photos.petfinder.com/photos/pets/40700638/1/?bust=1516246159&width=95&-fpm.jpg', '@id': '1'}, {'\n"
     ]
    }
   ],
   "source": [
    "print(js['petfinder'].__repr__()[0:700])"
   ]
  },
  {
   "cell_type": "markdown",
   "metadata": {},
   "source": [
    "We can see some of the information that the getRandom method returns above, including the state, age, size, etc.  By examining this we can get some sense of the pet.  We can for example, print the following,"
   ]
  },
  {
   "cell_type": "code",
   "execution_count": 24,
   "metadata": {},
   "outputs": [],
   "source": [
    "def print_pet(js):\n",
    "    \"\"\"\n",
    "    Input: Petfinder JSON object from getRandom method\n",
    "    Output: String describing the pet\n",
    "    \"\"\"\n",
    "    breed_obj = js[u'petfinder'][u'pet'][u'breeds'][u'breed']\n",
    "    if type(breed_obj) == list:\n",
    "        breeds = [a[u'$t'] for a in breed_obj]\n",
    "        breed = \", \".join(breeds) + \" mix\"\n",
    "    else:\n",
    "        breed = breed_obj[u'$t']\n",
    "    name = js[u'petfinder'][u'pet'][u'name'][u'$t']\n",
    "    desc = js[u'petfinder'][u'pet'][u'description'][u'$t']\n",
    "    return \"{} is a {}. {}\".format(name,breed,desc)"
   ]
  },
  {
   "cell_type": "code",
   "execution_count": 40,
   "metadata": {},
   "outputs": [
    {
     "name": "stdout",
     "output_type": "stream",
     "text": [
      "Murray is a Rat Terrier. Meet MURRAY!!\n",
      "\n",
      "Murray is an approximately 2 year old, 18-20 pound, neutered, male terrier mix breed. Possibly a Rat Terrier blend.\n",
      "\n",
      "Murray was originally found as a stray and was in a semi-rural outdoor shelter near Lytle. The ACO reached out to us and we happily brought Murray into our program.\n",
      "\n",
      "Murray is a gentlemanly little guy. He is very social, but generally minds his own business, and likes to be active. Murray is a chunky guy and needs an active person to help get him fit. He does well with the other dogs in his foster home, but does not like other pushy or bossy males picking on him. He has not shown alot of interest in cats, but as a typical terrier may give chase. He is crate trained and does his business outside when kept on a consistent schedule. Murray is loyal and loves his people.\n",
      "\n",
      "Murray is heartworm negative, up to date on vaccinations, is current on flea and heartworm preventive, and is micro-chipped. He comes with a health certificate if transported.\n",
      "\n",
      "Murray's preferred home has a secure fenced in yard he can play in supervised (no wireless or electric please), a canine friend to hang with, and an active person to keep him exercised. No children under 6 please.\n",
      "\n",
      "Murray is currently in a foster home in San Antonio TX and can be transported once adopted. All adopters must meet all requirements.\n",
      "\n",
      "Murray is available thru the City of Lytle Animal Care and Control. Adoption fee is $185, and transport fee to the East coast via Rescue Road Trips is $185.\n",
      "\n",
      "*****SERIOUS INQUIRIES ONLY PLEASE\n",
      "Please CONTACT Teresa at teresakopacki@gmail.com for an application or for additional information.\n"
     ]
    }
   ],
   "source": [
    "print(print_pet(js))"
   ]
  },
  {
   "cell_type": "markdown",
   "metadata": {},
   "source": [
    "It turns out that we can also see the image url's for the dog, in the following branch."
   ]
  },
  {
   "cell_type": "code",
   "execution_count": 20,
   "metadata": {},
   "outputs": [
    {
     "data": {
      "text/plain": [
       "{'@size': 'pnt',\n",
       " '$t': 'http://photos.petfinder.com/photos/pets/40700638/1/?bust=1516246159&width=60&-pnt.jpg',\n",
       " '@id': '1'}"
      ]
     },
     "execution_count": 20,
     "metadata": {},
     "output_type": "execute_result"
    }
   ],
   "source": [
    "image_recs = js[u'petfinder'][u'pet'][u'media'][u'photos'][u'photo']\n",
    "image_recs[0]"
   ]
  },
  {
   "cell_type": "markdown",
   "metadata": {},
   "source": [
    "I will display the pet and description with the following code."
   ]
  },
  {
   "cell_type": "code",
   "execution_count": 21,
   "metadata": {},
   "outputs": [],
   "source": [
    "from IPython.display import HTML"
   ]
  },
  {
   "cell_type": "code",
   "execution_count": 22,
   "metadata": {},
   "outputs": [],
   "source": [
    "def display_pet(js):\n",
    "    \"\"\"\n",
    "    Input: petfinder json object\n",
    "    Output: html string with image\n",
    "    \"\"\"\n",
    "    try:\n",
    "        image_recs = js[u'petfinder'][u'pet'][u'media'][u'photos'][u'photo']\n",
    "    except KeyError:\n",
    "        return \"\"\n",
    "    for rec in image_recs:\n",
    "        image_uri = rec['$t']\n",
    "        if rec['@size'] == u'x':\n",
    "            break\n",
    "    return \"<center><img src='{}'></center>\".format(image_uri)"
   ]
  },
  {
   "cell_type": "code",
   "execution_count": 25,
   "metadata": {},
   "outputs": [
    {
     "data": {
      "text/html": [
       "<center><img src='http://photos.petfinder.com/photos/pets/40700638/1/?bust=1516246159&width=500&-x.jpg'></center><pre>Murray is a Rat Terrier. Meet MURRAY!!\n",
       "\n",
       "Murray is an approximately 2 year old, 18-20 pound, neutered, male terrier mix breed. Possibly a Rat Terrier blend.\n",
       "\n",
       "Murray was originally found as a stray and was in a semi-rural outdoor shelter near Lytle. The ACO reached out to us and we happily brought Murray into our program.\n",
       "\n",
       "Murray is a gentlemanly little guy. He is very social, but generally minds his own business, and likes to be active. Murray is a chunky guy and needs an active person to help get him fit. He does well with the other dogs in his foster home, but does not like other pushy or bossy males picking on him. He has not shown alot of interest in cats, but as a typical terrier may give chase. He is crate trained and does his business outside when kept on a consistent schedule. Murray is loyal and loves his people.\n",
       "\n",
       "Murray is heartworm negative, up to date on vaccinations, is current on flea and heartworm preventive, and is micro-chipped. He comes with a health certificate if transported.\n",
       "\n",
       "Murray's preferred home has a secure fenced in yard he can play in supervised (no wireless or electric please), a canine friend to hang with, and an active person to keep him exercised. No children under 6 please.\n",
       "\n",
       "Murray is currently in a foster home in San Antonio TX and can be transported once adopted. All adopters must meet all requirements.\n",
       "\n",
       "Murray is available thru the City of Lytle Animal Care and Control. Adoption fee is $185, and transport fee to the East coast via Rescue Road Trips is $185.\n",
       "\n",
       "*****SERIOUS INQUIRIES ONLY PLEASE\n",
       "Please CONTACT Teresa at teresakopacki@gmail.com for an application or for additional information.</pre>"
      ],
      "text/plain": [
       "<IPython.core.display.HTML object>"
      ]
     },
     "execution_count": 25,
     "metadata": {},
     "output_type": "execute_result"
    }
   ],
   "source": [
    "HTML(display_pet(js) + \"<pre>\" + print_pet(js) + \"</pre>\") "
   ]
  },
  {
   "cell_type": "markdown",
   "metadata": {},
   "source": [
    "Let's streamline this process with the following function."
   ]
  },
  {
   "cell_type": "code",
   "execution_count": 26,
   "metadata": {},
   "outputs": [],
   "source": [
    "def random_dog(key):\n",
    "    \"\"\"\n",
    "    Input: api key\n",
    "    Output: HTML description of the dog\n",
    "    \"\"\"\n",
    "    pet_url_ex = \"http://api.petfinder.com/pet.getRandom\"\n",
    "    randomparms = {'key':key,'animal':'dog','format':'json','output':'basic'}\n",
    "    randreq = requests.get(pet_url_ex,params = randomparms)\n",
    "    js = randreq.json()\n",
    "    return js"
   ]
  },
  {
   "cell_type": "markdown",
   "metadata": {},
   "source": [
    "If we want to make the same request then we will need to disable requests_cache, since it will just find the previous return."
   ]
  },
  {
   "cell_type": "code",
   "execution_count": 27,
   "metadata": {},
   "outputs": [
    {
     "data": {
      "text/html": [
       "<center><img src='http://photos.petfinder.com/photos/pets/43203450/1/?bust=1541352696&width=500&-x.jpg'></center><pre>Snowman is a Great Pyrenees. This is Snowman he is a 10 month old Great  Pyrenees that now needs a new home through no fault of his. He is house trained current on shots and still does dumb puppy things. Snowman needs a home that will continue his training and be able to provide lots of hugs and belly rubs.</pre>"
      ],
      "text/plain": [
       "<IPython.core.display.HTML object>"
      ]
     },
     "execution_count": 27,
     "metadata": {},
     "output_type": "execute_result"
    }
   ],
   "source": [
    "with requests_cache.disabled():\n",
    "    js = random_dog(key)\n",
    "HTML(display_pet(js) + \"<pre>\" + print_pet(js) + \"</pre>\") "
   ]
  },
  {
   "cell_type": "markdown",
   "metadata": {},
   "source": [
    "Now we are ready to get a random sample of the dataset.  This should only be done sparingly because it will make many requests to the webserver in a short period of time.  Many APIs including the petfinder API have rate limits that restrict the number of queries a single key can make."
   ]
  },
  {
   "cell_type": "code",
   "execution_count": 30,
   "metadata": {},
   "outputs": [],
   "source": [
    "## Make 500 requests to the petfinder API of random dogs\n",
    "samp_size = 500\n",
    "\n",
    "with requests_cache.disabled():\n",
    "    dog_data = [random_dog(key) for s in range(samp_size)]"
   ]
  },
  {
   "cell_type": "markdown",
   "metadata": {},
   "source": [
    "In order to help us extract the data and handle missingness, we will make the following helper functions."
   ]
  },
  {
   "cell_type": "code",
   "execution_count": 31,
   "metadata": {},
   "outputs": [],
   "source": [
    "def extract_breeds(pet):\n",
    "    \"\"\"Extract the breed information for petfinder json\"\"\"\n",
    "    try:\n",
    "        breed_obj = pet[u'breeds'][u'breed']\n",
    "        if type(breed_obj) == list:\n",
    "            breeds = [a[u'$t'] for a in breed_obj]\n",
    "        else:\n",
    "            breeds = [breed_obj[u'$t']]\n",
    "        return breeds\n",
    "    except KeyError:\n",
    "        return None"
   ]
  },
  {
   "cell_type": "code",
   "execution_count": 32,
   "metadata": {},
   "outputs": [],
   "source": [
    "def catch_missing(var_dict,key):\n",
    "    \"\"\"Catch missingness in a variable and return None\"\"\"\n",
    "    try:\n",
    "        var = var_dict[key]['$t']\n",
    "        return var\n",
    "    except KeyError:\n",
    "        return None"
   ]
  },
  {
   "cell_type": "code",
   "execution_count": 33,
   "metadata": {},
   "outputs": [],
   "source": [
    "def extract_pet_vars(js):\n",
    "    \"\"\"Extract the desired variables from petfinder json\"\"\"\n",
    "    pet = js['petfinder']['pet']\n",
    "    pet_breeds = extract_breeds(pet)\n",
    "    pet_cont = pet['contact']\n",
    "    pet_state = catch_missing(pet_cont,'state')\n",
    "    pet_age = catch_missing(pet,'age')\n",
    "    pet_size = catch_missing(pet,'size')\n",
    "    pet_id = int(catch_missing(pet,'id'))\n",
    "    pet_desc = catch_missing(pet,'description')\n",
    "    pet_shelterId = catch_missing(pet,'shelterId')\n",
    "    return {'breeds':pet_breeds, 'state':pet_state, 'age':pet_age, 'size':pet_size, 'id':pet_id, \n",
    "           'desc': pet_desc, 'shelter_id': pet_shelterId}"
   ]
  },
  {
   "cell_type": "markdown",
   "metadata": {},
   "source": [
    "For example, for the following single json below we can see what these variables return."
   ]
  },
  {
   "cell_type": "code",
   "execution_count": 34,
   "metadata": {},
   "outputs": [
    {
     "data": {
      "text/plain": [
       "{'breeds': ['Great Pyrenees'],\n",
       " 'state': 'NC',\n",
       " 'age': 'Baby',\n",
       " 'size': 'L',\n",
       " 'id': 43203450,\n",
       " 'desc': 'This is Snowman he is a 10 month old Great  Pyrenees that now needs a new home through no fault of his. He is house trained current on shots and still does dumb puppy things. Snowman needs a home that will continue his training and be able to provide lots of hugs and belly rubs.',\n",
       " 'shelter_id': 'NC820'}"
      ]
     },
     "execution_count": 34,
     "metadata": {},
     "output_type": "execute_result"
    }
   ],
   "source": [
    "extract_pet_vars(js)"
   ]
  },
  {
   "cell_type": "markdown",
   "metadata": {},
   "source": [
    "All variables are strings other than ID (integer) and breeds (list).  We will come back to breeds.  First, let's create a dataframe and set the dog id as the index."
   ]
  },
  {
   "cell_type": "code",
   "execution_count": 35,
   "metadata": {},
   "outputs": [],
   "source": [
    "dog_df = pd.DataFrame(extract_pet_vars(js) for js in dog_data)\n",
    "\n",
    "dog_df = dog_df.set_index('id')"
   ]
  },
  {
   "cell_type": "markdown",
   "metadata": {},
   "source": [
    "We can describe these variables and find that the most common age is 'adult', and the most common state is Texas.  Not all dogs have a description."
   ]
  },
  {
   "cell_type": "code",
   "execution_count": 36,
   "metadata": {},
   "outputs": [
    {
     "data": {
      "text/html": [
       "<div>\n",
       "<style scoped>\n",
       "    .dataframe tbody tr th:only-of-type {\n",
       "        vertical-align: middle;\n",
       "    }\n",
       "\n",
       "    .dataframe tbody tr th {\n",
       "        vertical-align: top;\n",
       "    }\n",
       "\n",
       "    .dataframe thead th {\n",
       "        text-align: right;\n",
       "    }\n",
       "</style>\n",
       "<table border=\"1\" class=\"dataframe\">\n",
       "  <thead>\n",
       "    <tr style=\"text-align: right;\">\n",
       "      <th></th>\n",
       "      <th>age</th>\n",
       "      <th>breeds</th>\n",
       "      <th>desc</th>\n",
       "      <th>shelter_id</th>\n",
       "      <th>size</th>\n",
       "      <th>state</th>\n",
       "    </tr>\n",
       "  </thead>\n",
       "  <tbody>\n",
       "    <tr>\n",
       "      <th>count</th>\n",
       "      <td>500</td>\n",
       "      <td>500</td>\n",
       "      <td>447</td>\n",
       "      <td>500</td>\n",
       "      <td>500</td>\n",
       "      <td>500</td>\n",
       "    </tr>\n",
       "    <tr>\n",
       "      <th>unique</th>\n",
       "      <td>4</td>\n",
       "      <td>215</td>\n",
       "      <td>438</td>\n",
       "      <td>440</td>\n",
       "      <td>4</td>\n",
       "      <td>49</td>\n",
       "    </tr>\n",
       "    <tr>\n",
       "      <th>top</th>\n",
       "      <td>Adult</td>\n",
       "      <td>[Pit Bull Terrier]</td>\n",
       "      <td>No Notes</td>\n",
       "      <td>IL192</td>\n",
       "      <td>M</td>\n",
       "      <td>TX</td>\n",
       "    </tr>\n",
       "    <tr>\n",
       "      <th>freq</th>\n",
       "      <td>236</td>\n",
       "      <td>51</td>\n",
       "      <td>4</td>\n",
       "      <td>4</td>\n",
       "      <td>245</td>\n",
       "      <td>74</td>\n",
       "    </tr>\n",
       "  </tbody>\n",
       "</table>\n",
       "</div>"
      ],
      "text/plain": [
       "          age              breeds      desc shelter_id size state\n",
       "count     500                 500       447        500  500   500\n",
       "unique      4                 215       438        440    4    49\n",
       "top     Adult  [Pit Bull Terrier]  No Notes      IL192    M    TX\n",
       "freq      236                  51         4          4  245    74"
      ]
     },
     "execution_count": 36,
     "metadata": {},
     "output_type": "execute_result"
    }
   ],
   "source": [
    "dog_df.describe()"
   ]
  },
  {
   "cell_type": "markdown",
   "metadata": {},
   "source": [
    "It seems that a common adult dog is a Pit Bull, and a common baby is a Labrador Retriever."
   ]
  },
  {
   "cell_type": "code",
   "execution_count": 37,
   "metadata": {},
   "outputs": [
    {
     "data": {
      "text/html": [
       "<div>\n",
       "<style scoped>\n",
       "    .dataframe tbody tr th:only-of-type {\n",
       "        vertical-align: middle;\n",
       "    }\n",
       "\n",
       "    .dataframe tbody tr th {\n",
       "        vertical-align: top;\n",
       "    }\n",
       "\n",
       "    .dataframe thead tr th {\n",
       "        text-align: left;\n",
       "    }\n",
       "\n",
       "    .dataframe thead tr:last-of-type th {\n",
       "        text-align: right;\n",
       "    }\n",
       "</style>\n",
       "<table border=\"1\" class=\"dataframe\">\n",
       "  <thead>\n",
       "    <tr>\n",
       "      <th></th>\n",
       "      <th colspan=\"4\" halign=\"left\">breeds</th>\n",
       "      <th colspan=\"4\" halign=\"left\">desc</th>\n",
       "      <th colspan=\"4\" halign=\"left\">shelter_id</th>\n",
       "      <th colspan=\"4\" halign=\"left\">size</th>\n",
       "      <th colspan=\"4\" halign=\"left\">state</th>\n",
       "    </tr>\n",
       "    <tr>\n",
       "      <th></th>\n",
       "      <th>count</th>\n",
       "      <th>unique</th>\n",
       "      <th>top</th>\n",
       "      <th>freq</th>\n",
       "      <th>count</th>\n",
       "      <th>unique</th>\n",
       "      <th>top</th>\n",
       "      <th>freq</th>\n",
       "      <th>count</th>\n",
       "      <th>unique</th>\n",
       "      <th>top</th>\n",
       "      <th>freq</th>\n",
       "      <th>count</th>\n",
       "      <th>unique</th>\n",
       "      <th>top</th>\n",
       "      <th>freq</th>\n",
       "      <th>count</th>\n",
       "      <th>unique</th>\n",
       "      <th>top</th>\n",
       "      <th>freq</th>\n",
       "    </tr>\n",
       "    <tr>\n",
       "      <th>age</th>\n",
       "      <th></th>\n",
       "      <th></th>\n",
       "      <th></th>\n",
       "      <th></th>\n",
       "      <th></th>\n",
       "      <th></th>\n",
       "      <th></th>\n",
       "      <th></th>\n",
       "      <th></th>\n",
       "      <th></th>\n",
       "      <th></th>\n",
       "      <th></th>\n",
       "      <th></th>\n",
       "      <th></th>\n",
       "      <th></th>\n",
       "      <th></th>\n",
       "      <th></th>\n",
       "      <th></th>\n",
       "      <th></th>\n",
       "      <th></th>\n",
       "    </tr>\n",
       "  </thead>\n",
       "  <tbody>\n",
       "    <tr>\n",
       "      <th>Adult</th>\n",
       "      <td>236</td>\n",
       "      <td>113</td>\n",
       "      <td>[Pit Bull Terrier]</td>\n",
       "      <td>28</td>\n",
       "      <td>213</td>\n",
       "      <td>208</td>\n",
       "      <td>No Notes</td>\n",
       "      <td>4</td>\n",
       "      <td>236</td>\n",
       "      <td>223</td>\n",
       "      <td>TN75</td>\n",
       "      <td>2</td>\n",
       "      <td>236</td>\n",
       "      <td>4</td>\n",
       "      <td>M</td>\n",
       "      <td>100</td>\n",
       "      <td>236</td>\n",
       "      <td>43</td>\n",
       "      <td>TX</td>\n",
       "      <td>31</td>\n",
       "    </tr>\n",
       "    <tr>\n",
       "      <th>Baby</th>\n",
       "      <td>80</td>\n",
       "      <td>60</td>\n",
       "      <td>[Labrador Retriever]</td>\n",
       "      <td>8</td>\n",
       "      <td>73</td>\n",
       "      <td>73</td>\n",
       "      <td>Meet Cosmo! Cosmo is a 6 month old Beagle/Houn...</td>\n",
       "      <td>1</td>\n",
       "      <td>80</td>\n",
       "      <td>77</td>\n",
       "      <td>MN289</td>\n",
       "      <td>2</td>\n",
       "      <td>80</td>\n",
       "      <td>4</td>\n",
       "      <td>M</td>\n",
       "      <td>47</td>\n",
       "      <td>80</td>\n",
       "      <td>31</td>\n",
       "      <td>TX</td>\n",
       "      <td>10</td>\n",
       "    </tr>\n",
       "    <tr>\n",
       "      <th>Senior</th>\n",
       "      <td>48</td>\n",
       "      <td>32</td>\n",
       "      <td>[Chihuahua]</td>\n",
       "      <td>9</td>\n",
       "      <td>45</td>\n",
       "      <td>45</td>\n",
       "      <td>HIGHLY ADOPTABLE!!! ROSIE is a Jack Russell Te...</td>\n",
       "      <td>1</td>\n",
       "      <td>48</td>\n",
       "      <td>45</td>\n",
       "      <td>NV200</td>\n",
       "      <td>2</td>\n",
       "      <td>48</td>\n",
       "      <td>4</td>\n",
       "      <td>S</td>\n",
       "      <td>22</td>\n",
       "      <td>48</td>\n",
       "      <td>23</td>\n",
       "      <td>CA</td>\n",
       "      <td>7</td>\n",
       "    </tr>\n",
       "    <tr>\n",
       "      <th>Young</th>\n",
       "      <td>136</td>\n",
       "      <td>79</td>\n",
       "      <td>[Pit Bull Terrier]</td>\n",
       "      <td>15</td>\n",
       "      <td>116</td>\n",
       "      <td>114</td>\n",
       "      <td>Craigie D Boss came to us from a kill shelter ...</td>\n",
       "      <td>3</td>\n",
       "      <td>136</td>\n",
       "      <td>129</td>\n",
       "      <td>IN434</td>\n",
       "      <td>3</td>\n",
       "      <td>136</td>\n",
       "      <td>3</td>\n",
       "      <td>M</td>\n",
       "      <td>84</td>\n",
       "      <td>136</td>\n",
       "      <td>31</td>\n",
       "      <td>TX</td>\n",
       "      <td>27</td>\n",
       "    </tr>\n",
       "  </tbody>\n",
       "</table>\n",
       "</div>"
      ],
      "text/plain": [
       "       breeds                                    desc         \\\n",
       "        count unique                   top freq count unique   \n",
       "age                                                            \n",
       "Adult     236    113    [Pit Bull Terrier]   28   213    208   \n",
       "Baby       80     60  [Labrador Retriever]    8    73     73   \n",
       "Senior     48     32           [Chihuahua]    9    45     45   \n",
       "Young     136     79    [Pit Bull Terrier]   15   116    114   \n",
       "\n",
       "                                                               shelter_id  \\\n",
       "                                                      top freq      count   \n",
       "age                                                                         \n",
       "Adult                                            No Notes    4        236   \n",
       "Baby    Meet Cosmo! Cosmo is a 6 month old Beagle/Houn...    1         80   \n",
       "Senior  HIGHLY ADOPTABLE!!! ROSIE is a Jack Russell Te...    1         48   \n",
       "Young   Craigie D Boss came to us from a kill shelter ...    3        136   \n",
       "\n",
       "                           size                 state                  \n",
       "       unique    top freq count unique top freq count unique top freq  \n",
       "age                                                                    \n",
       "Adult     223   TN75    2   236      4   M  100   236     43  TX   31  \n",
       "Baby       77  MN289    2    80      4   M   47    80     31  TX   10  \n",
       "Senior     45  NV200    2    48      4   S   22    48     23  CA    7  \n",
       "Young     129  IN434    3   136      3   M   84   136     31  TX   27  "
      ]
     },
     "execution_count": 37,
     "metadata": {},
     "output_type": "execute_result"
    }
   ],
   "source": [
    "dog_df.groupby('age').describe()"
   ]
  },
  {
   "cell_type": "markdown",
   "metadata": {},
   "source": [
    "Each breed is a list of breeds (for when the dog is mixed).  We can see which breeds are the most common when we consider a dog to possibly count for multiple breeds at once."
   ]
  },
  {
   "cell_type": "code",
   "execution_count": 109,
   "metadata": {},
   "outputs": [],
   "source": [
    "from collections import Counter\n",
    "\n",
    "all_breeds = Counter(sum(dog_df['breeds'].values,[]))"
   ]
  },
  {
   "cell_type": "code",
   "execution_count": 113,
   "metadata": {},
   "outputs": [
    {
     "data": {
      "text/plain": [
       "[('Labrador Retriever', 89),\n",
       " ('Pit Bull Terrier', 76),\n",
       " ('Mixed Breed', 67),\n",
       " ('Chihuahua', 37),\n",
       " ('Shepherd', 26)]"
      ]
     },
     "execution_count": 113,
     "metadata": {},
     "output_type": "execute_result"
    }
   ],
   "source": [
    "all_breeds.most_common()[:5]"
   ]
  },
  {
   "cell_type": "markdown",
   "metadata": {},
   "source": [
    "Labrador Retriever and Pit Bull are the most numerous."
   ]
  },
  {
   "cell_type": "markdown",
   "metadata": {},
   "source": [
    "It is informative to check what the maximum number of breeds are, which turns out to be two.  This is likely imposed by when the users enter in a dog's information."
   ]
  },
  {
   "cell_type": "code",
   "execution_count": 116,
   "metadata": {},
   "outputs": [
    {
     "data": {
      "text/plain": [
       "2"
      ]
     },
     "execution_count": 116,
     "metadata": {},
     "output_type": "execute_result"
    }
   ],
   "source": [
    "max(len(br) for br in dog_df['breeds'].values)"
   ]
  },
  {
   "cell_type": "markdown",
   "metadata": {},
   "source": [
    "Let's encode these breeds as variables breed1 and breed2, and if there is only one breed then these will have the same value.  "
   ]
  },
  {
   "cell_type": "code",
   "execution_count": 117,
   "metadata": {},
   "outputs": [],
   "source": [
    "dog_df['breed1'] = [br[0] for br in dog_df['breeds'].values]\n",
    "dog_df['breed2'] = [br[-1] for br in dog_df['breeds'].values]"
   ]
  },
  {
   "cell_type": "markdown",
   "metadata": {},
   "source": [
    "Now we can make more detailed queries, such as for a pure-bred Lab."
   ]
  },
  {
   "cell_type": "code",
   "execution_count": 126,
   "metadata": {},
   "outputs": [],
   "source": [
    "lab_dogs = dog_df.query('breed1 == \"{0}\" or breed2 == \"{0}\"'.format(\"Labrador Retriever\"))\n",
    "lab_dog = lab_dogs.iloc[0,:]"
   ]
  },
  {
   "cell_type": "code",
   "execution_count": 127,
   "metadata": {},
   "outputs": [
    {
     "data": {
      "text/plain": [
       "age                                                       Adult\n",
       "breeds                                     [Labrador Retriever]\n",
       "desc          This is the Animal Description Header\\nRover i...\n",
       "shelter_id                                                CA387\n",
       "size                                                          L\n",
       "state                                                        CA\n",
       "breed1                                       Labrador Retriever\n",
       "breed2                                       Labrador Retriever\n",
       "Name: 42874092, dtype: object"
      ]
     },
     "execution_count": 127,
     "metadata": {},
     "output_type": "execute_result"
    }
   ],
   "source": [
    "lab_dog"
   ]
  },
  {
   "cell_type": "code",
   "execution_count": 129,
   "metadata": {},
   "outputs": [
    {
     "name": "stdout",
     "output_type": "stream",
     "text": [
      "This is the Animal Description Header\n",
      "Rover is all dog, hence the name! He loves people and is very confident and playful in his surroundings. He will need some training since he can be mouthy in play and is jumpy with excitement when meeting new people. Rover is a hunting stock kind of Lab mix, lanky and energetic - he needs space and adventures!; This is a high energy boy who will need and love lots of exercise. He will make an excellent dog for outdoorsy folks who have the time and sense of adventure to go on long hikes, to do some training and recall work - he'll likely be really good and he does want to please - but he needs an outlet for his enthusiasm!This is the Animal Description Footer\n",
      "10/23/18 2:49 AM\n"
     ]
    }
   ],
   "source": [
    "print(lab_dog['desc'])"
   ]
  },
  {
   "cell_type": "markdown",
   "metadata": {},
   "source": [
    "This process allows us to prototype the dogs, by selecting some examples and looking at their data.\n",
    "\n",
    "Let's also look at the most common states."
   ]
  },
  {
   "cell_type": "code",
   "execution_count": 132,
   "metadata": {},
   "outputs": [
    {
     "data": {
      "text/plain": [
       "state\n",
       "TX    75\n",
       "CA    55\n",
       "FL    30\n",
       "GA    28\n",
       "OH    19\n",
       "Name: age, dtype: int64"
      ]
     },
     "execution_count": 132,
     "metadata": {},
     "output_type": "execute_result"
    }
   ],
   "source": [
    "dog_df.groupby('state').count().sort_values('age',ascending=False).iloc[:5,0]"
   ]
  },
  {
   "cell_type": "markdown",
   "metadata": {},
   "source": [
    "Let's look for a Pitt Bull in Texas,"
   ]
  },
  {
   "cell_type": "code",
   "execution_count": 136,
   "metadata": {},
   "outputs": [],
   "source": [
    "pitt_dog = dog_df.query('state == \"TX\" and breed1 == \"Pit Bull Terrier\"').iloc[0,:]"
   ]
  },
  {
   "cell_type": "code",
   "execution_count": 137,
   "metadata": {},
   "outputs": [
    {
     "data": {
      "text/plain": [
       "age                                                       Adult\n",
       "breeds                                       [Pit Bull Terrier]\n",
       "desc          I'm a petite little lady who loves to give kis...\n",
       "shelter_id                                                TX198\n",
       "size                                                          M\n",
       "state                                                        TX\n",
       "breed1                                         Pit Bull Terrier\n",
       "breed2                                         Pit Bull Terrier\n",
       "Name: 41596889, dtype: object"
      ]
     },
     "execution_count": 137,
     "metadata": {},
     "output_type": "execute_result"
    }
   ],
   "source": [
    "pitt_dog"
   ]
  },
  {
   "cell_type": "code",
   "execution_count": 139,
   "metadata": {},
   "outputs": [
    {
     "data": {
      "text/plain": [
       "\"I'm a petite little lady who loves to give kisses! I'm sweet and enjoy lots of belly rubs, and I'm also a pretty amazing athlete! I like playing with toys, going for runs, and sleeping next you once I'm all tuckered out. I would prefer to have all your attention to myself, so I'd do best an only pet - I'm such a good girl, I'm the only companion you need! Primary Color: Black Secondary Color: White Weight: 43.4lbs Age: 3yrs 11mths 1wks Animal has been Spayed\""
      ]
     },
     "execution_count": 139,
     "metadata": {},
     "output_type": "execute_result"
    }
   ],
   "source": [
    "pitt_dog['desc']"
   ]
  }
 ],
 "metadata": {
  "kernelspec": {
   "display_name": "Python 3",
   "language": "python",
   "name": "python3"
  },
  "language_info": {
   "codemirror_mode": {
    "name": "ipython",
    "version": 3
   },
   "file_extension": ".py",
   "mimetype": "text/x-python",
   "name": "python",
   "nbconvert_exporter": "python",
   "pygments_lexer": "ipython3",
   "version": "3.7.0"
  }
 },
 "nbformat": 4,
 "nbformat_minor": 2
}
