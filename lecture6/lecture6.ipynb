{
 "cells": [
  {
   "cell_type": "markdown",
   "metadata": {
    "slideshow": {
     "slide_type": "slide"
    }
   },
   "source": [
    "# Vectorization and Numpy\n",
    "\n",
    "## Stats 141B\n",
    "\n",
    "## Lecture 6\n",
    "\n",
    "## Prof. Sharpnack\n",
    "\n",
    "## Lecture slides at http://anson.ucdavis.edu/~jsharpna/141Blectures/\n",
    "\n",
    "## Lecture repository at https://github.com/jsharpna/141Blectures/"
   ]
  },
  {
   "cell_type": "markdown",
   "metadata": {
    "slideshow": {
     "slide_type": "slide"
    }
   },
   "source": [
    "## Vectorization\n",
    "\n",
    "- Numpy is matrix algebra package in Python\n",
    "- Vectorization means converting an algorithm into matrix operations to speed it up\n",
    " - Python is slow: it is Just-in-time compiled (JIT)\n",
    " - C is fast: it is compiled and variables have static type\n",
    " - Vectorization just means that we notice that an operation has a recognizable form and we use the precompiled code for that operation\n",
    "- basic operation: dot product between $n \\times n$ matrices $A,B$\n",
    "\n",
    "$$ (A B)_{i,j} = \\sum_{k=1}^n A_{i,k} B_{k,j} $$\n",
    "\n",
    "Pseudocode take $O(n^3)$ time:\n",
    "```\n",
    "For i = 1,...,n:\n",
    "  For j = 1,...,n:\n",
    "    Init C[i,j] = 0\n",
    "    For k = 1,...,n::\n",
    "      C[i,j] += A[i,k] B[k,j]\n",
    "```\n",
    "* In Python nested for loops are slow, in C they are faster - implement operation in C and import in Python"
   ]
  },
  {
   "cell_type": "code",
   "execution_count": 18,
   "metadata": {
    "slideshow": {
     "slide_type": "slide"
    }
   },
   "outputs": [
    {
     "data": {
      "text/plain": [
       "(numpy.ndarray, (10,), array([0, 1, 2, 3, 4, 5, 6, 7, 8, 9]))"
      ]
     },
     "execution_count": 18,
     "metadata": {},
     "output_type": "execute_result"
    }
   ],
   "source": [
    "import numpy as np # our linear alg package\n",
    "\n",
    "k=10\n",
    "a = np.arange(k) # built in arrays\n",
    "type(a), a.shape, a"
   ]
  },
  {
   "cell_type": "code",
   "execution_count": 19,
   "metadata": {
    "slideshow": {
     "slide_type": "fragment"
    }
   },
   "outputs": [
    {
     "data": {
      "text/plain": [
       "array([ 1,  2,  3,  4,  5,  6,  7,  8,  9, 10])"
      ]
     },
     "execution_count": 19,
     "metadata": {},
     "output_type": "execute_result"
    }
   ],
   "source": [
    "a = a+1 # elementwise operation\n",
    "a"
   ]
  },
  {
   "cell_type": "code",
   "execution_count": 20,
   "metadata": {
    "slideshow": {
     "slide_type": "fragment"
    }
   },
   "outputs": [
    {
     "data": {
      "text/plain": [
       "array([2.71828183e+00, 7.38905610e+00, 2.00855369e+01, 5.45981500e+01,\n",
       "       1.48413159e+02, 4.03428793e+02, 1.09663316e+03, 2.98095799e+03,\n",
       "       8.10308393e+03, 2.20264658e+04])"
      ]
     },
     "execution_count": 20,
     "metadata": {},
     "output_type": "execute_result"
    }
   ],
   "source": [
    "np.exp(a) # elementwise operation"
   ]
  },
  {
   "cell_type": "code",
   "execution_count": 21,
   "metadata": {
    "slideshow": {
     "slide_type": "slide"
    }
   },
   "outputs": [
    {
     "data": {
      "text/plain": [
       "True"
      ]
     },
     "execution_count": 21,
     "metadata": {},
     "output_type": "execute_result"
    }
   ],
   "source": [
    "## Hypothesis: sum of 1,...,k = k*(k+1) / 2 \n",
    "## check with array operations\n",
    "s1 = np.sum(a) # sum the elements\n",
    "s1 == k * (k+1) / 2"
   ]
  },
  {
   "cell_type": "code",
   "execution_count": 22,
   "metadata": {
    "slideshow": {
     "slide_type": "fragment"
    }
   },
   "outputs": [
    {
     "data": {
      "text/plain": [
       "True"
      ]
     },
     "execution_count": 22,
     "metadata": {},
     "output_type": "execute_result"
    }
   ],
   "source": [
    "## Hypothesis: sum of 1,...,k = k*(k+1) / 2 \n",
    "## check with only dot products\n",
    "s1 = a @ np.ones(k) # same as sum\n",
    "s1 == k * (k+1) / 2"
   ]
  },
  {
   "cell_type": "markdown",
   "metadata": {
    "slideshow": {
     "slide_type": "fragment"
    }
   },
   "source": [
    "$$ \\sum_{k=1}^n a_k = \\sum_{k=1}^n a_k \\cdot 1 = a \\bullet \\mathbf 1 $$"
   ]
  },
  {
   "cell_type": "code",
   "execution_count": 31,
   "metadata": {
    "slideshow": {
     "slide_type": "slide"
    }
   },
   "outputs": [
    {
     "name": "stdout",
     "output_type": "stream",
     "text": [
      "[[1. 1. 1. 1.]\n",
      " [1. 1. 1. 1.]\n",
      " [1. 1. 1. 1.]\n",
      " [1. 1. 1. 1.]]\n",
      "[[0. 0. 0. 0.]\n",
      " [0. 0. 0. 0.]\n",
      " [0. 0. 0. 0.]\n",
      " [0. 0. 0. 0.]]\n",
      "[[1. 0. 0. 0.]\n",
      " [0. 1. 0. 0.]\n",
      " [0. 0. 1. 0.]\n",
      " [0. 0. 0. 1.]]\n",
      "[[1 2 3]\n",
      " [5 4 3]]\n",
      "(2, 3)\n"
     ]
    }
   ],
   "source": [
    "## Special arrays\n",
    "onesmat = np.ones((4,4))\n",
    "zerosmat = np.zeros((4,4))\n",
    "ident = np.eye(4)\n",
    "\n",
    "print(onesmat)\n",
    "print(zerosmat)\n",
    "print(ident)\n",
    "\n",
    "## Init with lists of lists\n",
    "A = np.array([[1,2,3],[5,4,3]])\n",
    "print(A)\n",
    "print(A.shape) # shape attribute"
   ]
  },
  {
   "cell_type": "code",
   "execution_count": 43,
   "metadata": {
    "slideshow": {
     "slide_type": "slide"
    }
   },
   "outputs": [
    {
     "name": "stdout",
     "output_type": "stream",
     "text": [
      "3\n",
      "[3 4]\n",
      "[[4 3 2]\n",
      " [3 4 5]]\n",
      "[[5 4 3 2]\n",
      " [2 3 4 5]]\n",
      "[[1 2 3 4]\n",
      " [0 0 0 0]\n",
      " [0 0 0 0]]\n"
     ]
    }
   ],
   "source": [
    "## Slicing arrays\n",
    "\n",
    "A = np.array([[1,2,3,4],[5,4,3,2],[2,3,4,5]])\n",
    "print(A[0,2]) # select element\n",
    "print(A[1:,2]) # select column\n",
    "print(A[1:,1:]) # select subarray\n",
    "booind = A[:,0] > 1 # boolean selection\n",
    "print(A[booind, :])\n",
    "A[booind,:] = 0. # assignment\n",
    "print(A)"
   ]
  },
  {
   "cell_type": "code",
   "execution_count": 46,
   "metadata": {
    "slideshow": {
     "slide_type": "slide"
    }
   },
   "outputs": [],
   "source": [
    "A_1stk = np.zeros((10,20))\n",
    "for i,k in enumerate(range(10,20)):\n",
    "    A_1stk[i,(20-k):] = np.arange(k) + 1"
   ]
  },
  {
   "cell_type": "code",
   "execution_count": 47,
   "metadata": {
    "slideshow": {
     "slide_type": "fragment"
    }
   },
   "outputs": [
    {
     "name": "stdout",
     "output_type": "stream",
     "text": [
      "[[ 0.  0.  0.  0.  0.  0.  0.  0.  0.  0.  1.  2.  3.  4.  5.  6.  7.  8.\n",
      "   9. 10.]\n",
      " [ 0.  0.  0.  0.  0.  0.  0.  0.  0.  1.  2.  3.  4.  5.  6.  7.  8.  9.\n",
      "  10. 11.]\n",
      " [ 0.  0.  0.  0.  0.  0.  0.  0.  1.  2.  3.  4.  5.  6.  7.  8.  9. 10.\n",
      "  11. 12.]\n",
      " [ 0.  0.  0.  0.  0.  0.  0.  1.  2.  3.  4.  5.  6.  7.  8.  9. 10. 11.\n",
      "  12. 13.]\n",
      " [ 0.  0.  0.  0.  0.  0.  1.  2.  3.  4.  5.  6.  7.  8.  9. 10. 11. 12.\n",
      "  13. 14.]\n",
      " [ 0.  0.  0.  0.  0.  1.  2.  3.  4.  5.  6.  7.  8.  9. 10. 11. 12. 13.\n",
      "  14. 15.]\n",
      " [ 0.  0.  0.  0.  1.  2.  3.  4.  5.  6.  7.  8.  9. 10. 11. 12. 13. 14.\n",
      "  15. 16.]\n",
      " [ 0.  0.  0.  1.  2.  3.  4.  5.  6.  7.  8.  9. 10. 11. 12. 13. 14. 15.\n",
      "  16. 17.]\n",
      " [ 0.  0.  1.  2.  3.  4.  5.  6.  7.  8.  9. 10. 11. 12. 13. 14. 15. 16.\n",
      "  17. 18.]\n",
      " [ 0.  1.  2.  3.  4.  5.  6.  7.  8.  9. 10. 11. 12. 13. 14. 15. 16. 17.\n",
      "  18. 19.]]\n"
     ]
    }
   ],
   "source": [
    "print(A_1stk)"
   ]
  },
  {
   "cell_type": "code",
   "execution_count": 57,
   "metadata": {
    "slideshow": {
     "slide_type": "slide"
    }
   },
   "outputs": [
    {
     "data": {
      "text/plain": [
       "True"
      ]
     },
     "execution_count": 57,
     "metadata": {},
     "output_type": "execute_result"
    }
   ],
   "source": [
    "s1 = A_1stk.sum(axis=1) # axis to sum along\n",
    "Ks = np.arange(10,20) # Ks = [10,...,19]\n",
    "s2 = Ks * (Ks + 1) / 2 # hypothesis\n",
    "np.array_equal(s1, s2) # testing equality of arrays requires this"
   ]
  },
  {
   "cell_type": "code",
   "execution_count": 58,
   "metadata": {
    "slideshow": {
     "slide_type": "slide"
    }
   },
   "outputs": [
    {
     "name": "stdout",
     "output_type": "stream",
     "text": [
      ">SPAC1002.01:pep\r\n",
      "MLPPTIRISGLAKTLHIPSRSPLQALKGSFILLNKRKFHYSPFILQEKVQSSNHTIRSDT\r\n",
      "KLWKRLLKITGKQAHQFKDKPFSHIFAFLFLHELSAILPLPIFFFIFHSLDWTPTGLPGE\r\n",
      "YLQKGSHVAASIFAKLGYNLPLEKVSKTLLDGAAAYAVVKVSYFVENNMVSSTRPFVSN*\r\n",
      ">SPAC1002.02:pep\r\n",
      "MASTFSQSVFARSLYEDSAENKVDSSKNTEANFPITLPKVLPTDPKASSLHKPQEQQPNI\r\n",
      "IPSKEEDKKPVINSMKLPSIPAPGTDNINESHIPRGYWKHPAVDKIAKRLHDQAPSDRTW\r\n",
      "SRMVSNLFAFISIQFLNRYLPNTTAVKVVSWILQALLLFNLLESVWQFVRPQPTFDDLQL\r\n",
      "TPLQRKLMGLPEGGSTSGKHLTPPRYRPNFSPSRKAENVKSPVRSTTWA*\r\n",
      ">SPAC1002.03c:pep\r\n"
     ]
    }
   ],
   "source": [
    "# The following data is from https://www.pombase.org/downloads/protein-datasets\n",
    "# It contains the amino acid sequences for proteins in fission yeast\n",
    "\n",
    "! head ../data/peptide.fa"
   ]
  },
  {
   "cell_type": "code",
   "execution_count": 59,
   "metadata": {
    "slideshow": {
     "slide_type": "skip"
    }
   },
   "outputs": [],
   "source": [
    "def pep_reader(filename='../data/peptide.fa'):\n",
    "    with open(filename,'r') as pepfile:\n",
    "        pepname = False # start of file\n",
    "        for line in pepfile: \n",
    "            if line[0] == '>': # check for prot id line\n",
    "                if pepname:\n",
    "                    yield (pepname,pepseq) # if not first output protein\n",
    "                pepname = line.split(':')[0][1:] # get the id\n",
    "                pepseq = \"\" # init seq\n",
    "            else:\n",
    "                pepseq += line.strip() # append to seq"
   ]
  },
  {
   "cell_type": "code",
   "execution_count": 60,
   "metadata": {
    "slideshow": {
     "slide_type": "skip"
    }
   },
   "outputs": [],
   "source": [
    "pep = pep_reader() # init the iterator\n",
    "pepdict = {k:v for k,v in enumerate(pep)} # make dictionary with gen expression"
   ]
  },
  {
   "cell_type": "code",
   "execution_count": 5,
   "metadata": {
    "slideshow": {
     "slide_type": "skip"
    }
   },
   "outputs": [],
   "source": [
    "def seq_to_set(seq):\n",
    "    \"\"\"Protein sequence to a set\"\"\"\n",
    "    return set(p for p in seq)"
   ]
  },
  {
   "cell_type": "code",
   "execution_count": 7,
   "metadata": {
    "slideshow": {
     "slide_type": "skip"
    }
   },
   "outputs": [],
   "source": [
    "prot_sets = [seq_to_set(seq) for seq in pepdict.values()] # create sets database"
   ]
  },
  {
   "cell_type": "code",
   "execution_count": 64,
   "metadata": {
    "slideshow": {
     "slide_type": "skip"
    }
   },
   "outputs": [],
   "source": [
    "## Creating the alphabet of all amino acids in dataset\n",
    "\n",
    "alphabet = set()\n",
    "for seq in prot_sets:\n",
    "    alphabet |= seq"
   ]
  },
  {
   "cell_type": "code",
   "execution_count": 65,
   "metadata": {
    "slideshow": {
     "slide_type": "skip"
    }
   },
   "outputs": [],
   "source": [
    "alphadict = {a:i for i,a in enumerate(alphabet)}\n",
    "pepnames = [k for k in pepdict.keys()]"
   ]
  },
  {
   "cell_type": "code",
   "execution_count": 99,
   "metadata": {
    "slideshow": {
     "slide_type": "slide"
    }
   },
   "outputs": [
    {
     "name": "stdout",
     "output_type": "stream",
     "text": [
      "{'H': 0, 'S': 1, 'G': 2, 'N': 3, 'E': 4, 'W': 5, 'T': 6, 'Q': 7, 'I': 8, 'C': 9, 'Y': 10, 'P': 11, 'V': 12, 'R': 13, 'A': 14, 'K': 15, 'D': 16, '*': 17, 'M': 18, 'L': 19, 'F': 20}\n",
      "['SPAC1002.01', 'SPAC1002.02', 'SPAC1002.03c']\n",
      "['MLPPTIRISGLAKTLHIPSRSPLQALKGSFILLNKRKFHYSPFILQEKVQSSNHTIRSDTKLWKRLLKITGKQAHQFKDKPFSHIFAFLFLHELSAILPLPIFFFIFHSLDWTPTGLPGEYLQKGSHVAASIFAKLGYNLPLEKVSKTLLDGAAAYAVVKVSYFVENNMVSSTRPFVSN*', 'MASTFSQSVFARSLYEDSAENKVDSSKNTEANFPITLPKVLPTDPKASSLHKPQEQQPNIIPSKEEDKKPVINSMKLPSIPAPGTDNINESHIPRGYWKHPAVDKIAKRLHDQAPSDRTWSRMVSNLFAFISIQFLNRYLPNTTAVKVVSWILQALLLFNLLESVWQFVRPQPTFDDLQLTPLQRKLMGLPEGGSTSGKHLTPPRYRPNFSPSRKAENVKSPVRSTTWA*', 'MRYHGICWFIFQAAIIFAIFGSCQGAFRHQFKTAEQDGFARRNRDLAKFQKENLNWNGLFQLNSISYNSGVVSGVFEQQSENGENQHLFPFSISFLKNDVVRFQMDEKSRLEGTVEYEKNILTKRRFDASTELGFNERAEVYGKDAHLLEQTSTSLTIRYGSHGRFTVIVTFSPFKVEFQRDGEPQVVLNERHLLNMEYYRPKSSRTPEQEANGMWDETFDNFHDSKPKGPESVGLDIKFVDYGNVYGVPEHTSSLSLKETNNSDAGYTEPYRLYNVDLFEYEVDSPMSQYGAIPFMQAHKPNSDVAVFWSNAAATWIDVEKESGPSPHSQSTSTHWYSESGTLDLFIFLGPKASDVYESYSALVGRPLLPPLFSIGYHQCRWNYVSEEDVLNVDAKFDEVDMPYDTIWLDIEYASKRRYFTWDKATFPNPKAMLEKLDSKSRKLIVILDPHIKNDPNYFVSKELIDYNYAVKDKSGVDNYNADCWPGNSVWVDFFNPEAQAWWGSLYEFDRFESDKNLWIWNDMNEPSVFRGPETSMHRDAIHYGGWEHRDIHNIYGHKCINGTYNGLIKRGEGAVRPFILTRSFFAGTSALAANWIGDTMTTWEHLRGSIPTVLTNGISGMAFSGADVAGFFGNPDAELFVRWYETAIFYPFFRAHAHIDTKRREPWLYGEPYTSLVRELLRIRYRLLPTWYTAFYNSHTHGFPILYPQFLMHPEDEEGFAIDDQFYVGDSGLLVKPVTHPSIDKITIYLADDEVYFDLHDHTEYAGKGHQVVPAPLGRVPVLLRGGNILITRERIRRAAELTRNDPFTLTIAVSKIGKNASGFLYLDDGVTFNYKKGEYLIRHFSYENGILTMKDSHSNPPVSPKYSSSQKHLKVERINIYGEQTRKSIKIRKIIDSEVTEWDVSVDDSGCIRNPQLFLV*']\n"
     ]
    }
   ],
   "source": [
    "print(alphadict) # alphabet - dict\n",
    "print(pepnames[:3]) # protein names - list\n",
    "print([pepdict[n] for n in pepnames[:3]]) # sequences - dict"
   ]
  },
  {
   "cell_type": "code",
   "execution_count": 100,
   "metadata": {
    "slideshow": {
     "slide_type": "slide"
    }
   },
   "outputs": [],
   "source": [
    "from collections import Counter \n",
    "\n",
    "def seq_to_vec(seq,alphadict): \n",
    "    \"\"\"convert amino-acid sequence into array of AA counts\"\"\"\n",
    "    seq_vec = np.zeros(len(alphadict)) # init vector\n",
    "    seq_count = Counter(seq) # create counter\n",
    "    for aa, num in seq_count.items(): # amino-acid and count\n",
    "        seq_vec[alphadict[aa]] = num # store the count in the vector\n",
    "    return seq_vec"
   ]
  },
  {
   "cell_type": "code",
   "execution_count": 101,
   "metadata": {
    "slideshow": {
     "slide_type": "slide"
    }
   },
   "outputs": [],
   "source": [
    "## Build the matrix\n",
    "\n",
    "AA = np.zeros((len(pepdict), len(alphadict))) # init all zeros\n",
    "pepind = {} # let's make a reverse lookup dict also\n",
    "for i,(k,v) in enumerate(pepdict.items()): # i - index, k - name, v - seq\n",
    "    AA[i,:] = seq_to_vec(v,alphadict) # compute count vector\n",
    "    pepind[k] = i # update lookup dict"
   ]
  },
  {
   "cell_type": "code",
   "execution_count": 102,
   "metadata": {
    "slideshow": {
     "slide_type": "fragment"
    }
   },
   "outputs": [
    {
     "name": "stdout",
     "output_type": "stream",
     "text": [
      "(5136, 21)\n"
     ]
    },
    {
     "data": {
      "text/plain": [
       "array([[ 8., 18.,  8., ...,  2., 24., 15.],\n",
       "       [ 5., 25.,  6., ...,  4., 21., 10.],\n",
       "       [31., 70., 62., ..., 14., 67., 59.],\n",
       "       ...,\n",
       "       [ 5.,  8.,  5., ...,  2., 16.,  3.],\n",
       "       [ 4., 11.,  5., ...,  7., 19.,  5.],\n",
       "       [ 0.,  3.,  0., ...,  1.,  7.,  1.]])"
      ]
     },
     "execution_count": 102,
     "metadata": {},
     "output_type": "execute_result"
    }
   ],
   "source": [
    "print(AA.shape)\n",
    "AA"
   ]
  },
  {
   "cell_type": "code",
   "execution_count": 103,
   "metadata": {
    "slideshow": {
     "slide_type": "fragment"
    }
   },
   "outputs": [
    {
     "data": {
      "text/plain": [
       "6.0"
      ]
     },
     "execution_count": 103,
     "metadata": {},
     "output_type": "execute_result"
    }
   ],
   "source": [
    "AA[pepind['SPBC16H5.14c'], alphadict['M']]"
   ]
  },
  {
   "cell_type": "markdown",
   "metadata": {
    "slideshow": {
     "slide_type": "slide"
    }
   },
   "source": [
    "### Similarity between proteins\n",
    "\n",
    "- how similar are the amino acid distribution?\n",
    "- define the AA proportions (string s, amino acid a):\n",
    "$$\\hat p_s(a) = \\frac{\\textrm{ # a in s}}{\\textrm{ length of s }}$$\n",
    "- define total variation distance between seqs:\n",
    "$$ d_T(s_0, s_1) := \\sum_{a} |\\hat p_{s_0}(a) - \\hat p_{s_1}(a)|$$\n",
    "- define Hellinger distance between seqs:\n",
    "$$ d_H(s_0, s_1) := \\sqrt{ \\sum_{a} \\left(\\sqrt{\\hat p_{s_0}(a)} - \\sqrt{\\hat p_{s_1}(a)}\\right)^2 }$$"
   ]
  },
  {
   "cell_type": "code",
   "execution_count": 98,
   "metadata": {
    "slideshow": {
     "slide_type": "slide"
    }
   },
   "outputs": [
    {
     "data": {
      "text/plain": [
       "((5136,), (5136, 21))"
      ]
     },
     "execution_count": 98,
     "metadata": {},
     "output_type": "execute_result"
    }
   ],
   "source": [
    "## compute proportions\n",
    "seq_lens = AA.sum(axis=1)\n",
    "AAP = AA / seq_lens.reshape((len(pepind),1)) # broadcasting - replicates the matrix\n",
    "seq_lens.shape, AA.shape"
   ]
  },
  {
   "cell_type": "markdown",
   "metadata": {
    "slideshow": {
     "slide_type": "fragment"
    }
   },
   "source": [
    "### Broadcasting rules\n",
    "\n",
    "- add 1s to shape (left or right) until match\n",
    "- replicate right axis until match\n",
    "\n",
    "``AA / seq_lens.reshape((len(pepind),1))`` - (5136, 21) array / (5136,1) array"
   ]
  },
  {
   "cell_type": "code",
   "execution_count": 85,
   "metadata": {
    "slideshow": {
     "slide_type": "slide"
    }
   },
   "outputs": [
    {
     "data": {
      "text/plain": [
       "array([[0.04444444, 0.1       , 0.04444444, ..., 0.01111111, 0.13333333,\n",
       "        0.08333333],\n",
       "       [0.02173913, 0.10869565, 0.02608696, ..., 0.0173913 , 0.09130435,\n",
       "        0.04347826],\n",
       "       [0.03354978, 0.07575758, 0.06709957, ..., 0.01515152, 0.07251082,\n",
       "        0.06385281],\n",
       "       ...,\n",
       "       [0.04201681, 0.06722689, 0.04201681, ..., 0.01680672, 0.13445378,\n",
       "        0.02521008],\n",
       "       [0.025     , 0.06875   , 0.03125   , ..., 0.04375   , 0.11875   ,\n",
       "        0.03125   ],\n",
       "       [0.        , 0.06976744, 0.        , ..., 0.02325581, 0.1627907 ,\n",
       "        0.02325581]])"
      ]
     },
     "execution_count": 85,
     "metadata": {},
     "output_type": "execute_result"
    }
   ],
   "source": [
    "AAP"
   ]
  },
  {
   "cell_type": "markdown",
   "metadata": {
    "slideshow": {
     "slide_type": "slide"
    }
   },
   "source": [
    "## Computing Hellinger distance\n",
    "\\begin{align*}\n",
    "d_H(s_0, s_1)^2 &:= \\sum_{a} \\left(\\sqrt{\\hat p_{s_0}(a)} - \\sqrt{\\hat p_{s_1}(a)}\\right)^2 \\\\\n",
    " &= \\sum_a \\hat p_{s_0}(a) + \\sum_a \\hat p_{s_1}(a) - 2 \\sum_a \\sqrt{ \\hat p_{s_0}(a) \\hat p_{s_1}(a) } \\\\\n",
    " &= 2 - 2 \\sum_a \\sqrt{ \\hat p_{s_0}(a) \\hat p_{s_1}(a) }\n",
    "\\end{align*}\n",
    "- can be done with matrix multiply $S_{i_0,j} = \\sqrt{p_{s_0}(a)}$ for $i_0$th sequence $s_0$ and jth amino acid $a$\n",
    "$$ \\sum_a \\sqrt{ \\hat p_{s_0}(a) \\hat p_{s_1}(a) } =  (S S^\\top)_{i_0,i_1}$$"
   ]
  },
  {
   "cell_type": "code",
   "execution_count": 86,
   "metadata": {
    "slideshow": {
     "slide_type": "fragment"
    }
   },
   "outputs": [],
   "source": [
    "S = AAP**0.5 # sqrt matrix\n",
    "Hdist = 2 - 2 * S @ S.T # Hellinger dist matrix"
   ]
  },
  {
   "cell_type": "code",
   "execution_count": 87,
   "metadata": {
    "slideshow": {
     "slide_type": "slide"
    }
   },
   "outputs": [
    {
     "data": {
      "text/plain": [
       "array([[ 0.00000000e+00,  3.98268445e-02,  6.28791263e-02, ...,\n",
       "         6.01263096e-02,  1.42239616e-01,  3.08573795e-01],\n",
       "       [ 3.98268445e-02,  0.00000000e+00,  5.44276215e-02, ...,\n",
       "         6.59920672e-02,  1.23972206e-01,  3.05000147e-01],\n",
       "       [ 6.28791263e-02,  5.44276215e-02, -4.44089210e-16, ...,\n",
       "         7.36722970e-02,  9.04807557e-02,  3.66334820e-01],\n",
       "       ...,\n",
       "       [ 6.01263096e-02,  6.59920672e-02,  7.36722970e-02, ...,\n",
       "         0.00000000e+00,  5.86273341e-02,  2.42683778e-01],\n",
       "       [ 1.42239616e-01,  1.23972206e-01,  9.04807557e-02, ...,\n",
       "         5.86273341e-02,  0.00000000e+00,  2.64502164e-01],\n",
       "       [ 3.08573795e-01,  3.05000147e-01,  3.66334820e-01, ...,\n",
       "         2.42683778e-01,  2.64502164e-01,  0.00000000e+00]])"
      ]
     },
     "execution_count": 87,
     "metadata": {},
     "output_type": "execute_result"
    }
   ],
   "source": [
    "Hdist # Hellinger distance matrix"
   ]
  },
  {
   "cell_type": "code",
   "execution_count": 89,
   "metadata": {
    "slideshow": {
     "slide_type": "fragment"
    }
   },
   "outputs": [],
   "source": [
    "Hsind = Hdist.argsort() # sort each row; return indices"
   ]
  },
  {
   "cell_type": "code",
   "execution_count": 93,
   "metadata": {
    "slideshow": {
     "slide_type": "slide"
    }
   },
   "outputs": [],
   "source": [
    "## Build the k-Nearest Neighbor graph for Hellinger dist\n",
    "\n",
    "kNN = {}\n",
    "k = 10 # k nearest neighbors in Hellinger dist\n",
    "for pepn, hs in zip(pepnames,Hsind[:,1:k+1]): # zip the protein name with kNNs \n",
    "    kNN[pepn] = [pepnames[j] for j in hs] "
   ]
  },
  {
   "cell_type": "code",
   "execution_count": 95,
   "metadata": {
    "slideshow": {
     "slide_type": "fragment"
    }
   },
   "outputs": [
    {
     "data": {
      "text/plain": [
       "['SPBC30D10.16',\n",
       " 'SPBC56F2.08c',\n",
       " 'SPAC139.01c',\n",
       " 'SPAC824.02',\n",
       " 'SPBC336.01',\n",
       " 'SPAC19G12.12',\n",
       " 'SPBC776.04',\n",
       " 'SPBC32H8.03',\n",
       " 'SPAC1610.02c',\n",
       " 'SPBC3D6.03c']"
      ]
     },
     "execution_count": 95,
     "metadata": {},
     "output_type": "execute_result"
    }
   ],
   "source": [
    "kNN['SPBC16H5.14c'] # network as a graph"
   ]
  },
  {
   "cell_type": "markdown",
   "metadata": {
    "slideshow": {
     "slide_type": "slide"
    }
   },
   "source": [
    "## Inference vs. Prediction\n",
    "\n",
    "- statistical inference: is this effect significant? is the model correct? etc.\n",
    "- prediction: does this algorithm predict the response variable well?\n",
    "\n",
    "### terms\n",
    "\n",
    "- *supervised learning*: predicting one variable from many others\n",
    "- *predictor* variables: X variables\n",
    "- *response* variable: Y variable\n",
    "- ``X``: $n \\times p$ design matrix / features\n",
    "- ``Y``: $n$ label vector\n"
   ]
  },
  {
   "cell_type": "code",
   "execution_count": 104,
   "metadata": {
    "slideshow": {
     "slide_type": "slide"
    }
   },
   "outputs": [
    {
     "name": "stdout",
     "output_type": "stream",
     "text": [
      "-rw-r--r-- 1 jsharpna jsharpna 84199 Oct  8 10:28 ../data/winequality-red.csv\r\n"
     ]
    }
   ],
   "source": [
    "!ls -l ../data/winequality-red.csv"
   ]
  },
  {
   "cell_type": "code",
   "execution_count": 105,
   "metadata": {
    "slideshow": {
     "slide_type": "fragment"
    }
   },
   "outputs": [
    {
     "name": "stdout",
     "output_type": "stream",
     "text": [
      "\"fixed acidity\";\"volatile acidity\";\"citric acid\";\"residual sugar\";\"chlorides\";\"free sulfur dioxide\";\"total sulfur dioxide\";\"density\";\"pH\";\"sulphates\";\"alcohol\";\"quality\"\r\n",
      "7.4;0.7;0;1.9;0.076;11;34;0.9978;3.51;0.56;9.4;5\r\n",
      "7.8;0.88;0;2.6;0.098;25;67;0.9968;3.2;0.68;9.8;5\r\n",
      "7.8;0.76;0.04;2.3;0.092;15;54;0.997;3.26;0.65;9.8;5\r\n",
      "11.2;0.28;0.56;1.9;0.075;17;60;0.998;3.16;0.58;9.8;6\r\n",
      "7.4;0.7;0;1.9;0.076;11;34;0.9978;3.51;0.56;9.4;5\r\n",
      "7.4;0.66;0;1.8;0.075;13;40;0.9978;3.51;0.56;9.4;5\r\n",
      "7.9;0.6;0.06;1.6;0.069;15;59;0.9964;3.3;0.46;9.4;5\r\n",
      "7.3;0.65;0;1.2;0.065;15;21;0.9946;3.39;0.47;10;7\r\n",
      "7.8;0.58;0.02;2;0.073;9;18;0.9968;3.36;0.57;9.5;7\r\n"
     ]
    }
   ],
   "source": [
    "!head ../data/winequality-red.csv"
   ]
  },
  {
   "cell_type": "markdown",
   "metadata": {
    "slideshow": {
     "slide_type": "slide"
    }
   },
   "source": [
    "Wine dataset description\n",
    "- 84199 bytes (not large, feel free to load into memory)\n",
    "- header with quotations \" in the text\n",
    "- each line has floats without quotations\n",
    "- each datum separated by ;"
   ]
  },
  {
   "cell_type": "code",
   "execution_count": 107,
   "metadata": {
    "slideshow": {
     "slide_type": "fragment"
    }
   },
   "outputs": [],
   "source": [
    "with open('../data/winequality-red.csv','r') as winefile:\n",
    "    header = winefile.readline()\n",
    "    wine_list = [line.strip().split(';') for line in winefile]"
   ]
  },
  {
   "cell_type": "code",
   "execution_count": 108,
   "metadata": {
    "slideshow": {
     "slide_type": "fragment"
    }
   },
   "outputs": [],
   "source": [
    "wine_ar = np.array(wine_list,dtype=np.float64)"
   ]
  },
  {
   "cell_type": "code",
   "execution_count": 109,
   "metadata": {
    "slideshow": {
     "slide_type": "skip"
    }
   },
   "outputs": [
    {
     "data": {
      "text/plain": [
       "'\"fixed acidity\";\"volatile acidity\";\"citric acid\";\"residual sugar\";\"chlorides\";\"free sulfur dioxide\";\"total sulfur dioxide\";\"density\";\"pH\";\"sulphates\";\"alcohol\";\"quality\"\\n'"
      ]
     },
     "execution_count": 109,
     "metadata": {},
     "output_type": "execute_result"
    }
   ],
   "source": [
    "header"
   ]
  },
  {
   "cell_type": "code",
   "execution_count": 110,
   "metadata": {
    "slideshow": {
     "slide_type": "skip"
    }
   },
   "outputs": [
    {
     "name": "stdout",
     "output_type": "stream",
     "text": [
      "['fixed acidity', 'volatile acidity', 'citric acid', 'residual sugar', 'chlorides', 'free sulfur dioxide', 'total sulfur dioxide', 'density', 'pH', 'sulphates', 'alcohol', 'quality']\n"
     ]
    }
   ],
   "source": [
    "names = [name.strip('\"') for name in header.strip().split(';')]\n",
    "print(names)"
   ]
  },
  {
   "cell_type": "code",
   "execution_count": 111,
   "metadata": {
    "slideshow": {
     "slide_type": "slide"
    }
   },
   "outputs": [],
   "source": [
    "#Subselect the predictor X and response y\n",
    "y = wine_ar[:,-1]\n",
    "X = wine_ar[:,:-1]\n",
    "n,p = X.shape"
   ]
  },
  {
   "cell_type": "code",
   "execution_count": 112,
   "metadata": {
    "slideshow": {
     "slide_type": "fragment"
    }
   },
   "outputs": [
    {
     "data": {
      "text/plain": [
       "((1599,), (1599, 11))"
      ]
     },
     "execution_count": 112,
     "metadata": {},
     "output_type": "execute_result"
    }
   ],
   "source": [
    "y.shape, X.shape #just checking"
   ]
  },
  {
   "cell_type": "code",
   "execution_count": 113,
   "metadata": {
    "slideshow": {
     "slide_type": "slide"
    }
   },
   "outputs": [
    {
     "name": "stdout",
     "output_type": "stream",
     "text": [
      "                            OLS Regression Results                            \n",
      "==============================================================================\n",
      "Dep. Variable:                      y   R-squared:                       0.361\n",
      "Model:                            OLS   Adj. R-squared:                  0.356\n",
      "Method:                 Least Squares   F-statistic:                     81.35\n",
      "Date:                Mon, 08 Oct 2018   Prob (F-statistic):          1.79e-145\n",
      "Time:                        10:33:48   Log-Likelihood:                -1569.1\n",
      "No. Observations:                1599   AIC:                             3162.\n",
      "Df Residuals:                    1587   BIC:                             3227.\n",
      "Df Model:                          11                                         \n",
      "Covariance Type:            nonrobust                                         \n",
      "==============================================================================\n",
      "                 coef    std err          t      P>|t|      [0.025      0.975]\n",
      "------------------------------------------------------------------------------\n",
      "const         21.9652     21.195      1.036      0.300     -19.607      63.538\n",
      "x1             0.0250      0.026      0.963      0.336      -0.026       0.076\n",
      "x2            -1.0836      0.121     -8.948      0.000      -1.321      -0.846\n",
      "x3            -0.1826      0.147     -1.240      0.215      -0.471       0.106\n",
      "x4             0.0163      0.015      1.089      0.276      -0.013       0.046\n",
      "x5            -1.8742      0.419     -4.470      0.000      -2.697      -1.052\n",
      "x6             0.0044      0.002      2.009      0.045       0.000       0.009\n",
      "x7            -0.0033      0.001     -4.480      0.000      -0.005      -0.002\n",
      "x8           -17.8812     21.633     -0.827      0.409     -60.314      24.551\n",
      "x9            -0.4137      0.192     -2.159      0.031      -0.789      -0.038\n",
      "x10            0.9163      0.114      8.014      0.000       0.692       1.141\n",
      "x11            0.2762      0.026     10.429      0.000       0.224       0.328\n",
      "==============================================================================\n",
      "Omnibus:                       27.376   Durbin-Watson:                   1.757\n",
      "Prob(Omnibus):                  0.000   Jarque-Bera (JB):               40.965\n",
      "Skew:                          -0.168   Prob(JB):                     1.27e-09\n",
      "Kurtosis:                       3.708   Cond. No.                     1.13e+05\n",
      "==============================================================================\n",
      "\n",
      "Warnings:\n",
      "[1] Standard Errors assume that the covariance matrix of the errors is correctly specified.\n",
      "[2] The condition number is large, 1.13e+05. This might indicate that there are\n",
      "strong multicollinearity or other numerical problems.\n"
     ]
    }
   ],
   "source": [
    "import statsmodels.api as sm\n",
    "\n",
    "X = np.hstack((np.ones((n,1)),X)) #add intercept\n",
    "wine_ols = sm.OLS(y,X) #Initialize the OLS \n",
    "wine_res = wine_ols.fit()\n",
    "\n",
    "print(wine_res.summary())"
   ]
  },
  {
   "cell_type": "markdown",
   "metadata": {
    "slideshow": {
     "slide_type": "slide"
    }
   },
   "source": [
    "### Linear model\n",
    "\n",
    "$$\\hat y_i = \\beta_0 + \\sum_{j=1}^p \\beta_j x_{i,j}$$\n",
    "\n",
    "### Inference in linear models\n",
    "\n",
    "- statistically test for significance of effects\n",
    "- requires normality assumptions, homoscedasticity, linear model is correct\n",
    "- hard to obtain significance for individual effect under colinearity\n",
    "\n",
    "### Prediction perspective\n",
    "\n",
    "- think of OLS as a black-box model for predicting $Y | X$\n",
    "- how do we evaluate performance of prediction?\n",
    "- how do we choose between multiple OLS models?"
   ]
  }
 ],
 "metadata": {
  "celltoolbar": "Slideshow",
  "kernelspec": {
   "display_name": "Python 3",
   "language": "python",
   "name": "python3"
  },
  "language_info": {
   "codemirror_mode": {
    "name": "ipython",
    "version": 3
   },
   "file_extension": ".py",
   "mimetype": "text/x-python",
   "name": "python",
   "nbconvert_exporter": "python",
   "pygments_lexer": "ipython3",
   "version": "3.7.0"
  }
 },
 "nbformat": 4,
 "nbformat_minor": 2
}
