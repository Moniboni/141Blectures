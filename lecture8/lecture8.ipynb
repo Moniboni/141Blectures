{
 "cells": [
  {
   "cell_type": "markdown",
   "metadata": {
    "slideshow": {
     "slide_type": "slide"
    }
   },
   "source": [
    "# Learning Machines\n",
    "\n",
    "## Stats 141B\n",
    "\n",
    "## Lecture 8\n",
    "\n",
    "## Prof. Sharpnack\n",
    "\n",
    "## Lecture slides at http://anson.ucdavis.edu/~jsharpna/141Blectures/\n",
    "\n",
    "## Lecture repository at https://github.com/jsharpna/141Blectures/"
   ]
  },
  {
   "cell_type": "markdown",
   "metadata": {
    "slideshow": {
     "slide_type": "slide"
    }
   },
   "source": [
    "### Linear model\n",
    "\n",
    "$$\\hat y_i = \\beta_0 + \\sum_{j=1}^p \\beta_j x_{i,j}$$\n",
    "\n",
    "### Inference in linear models\n",
    "\n",
    "- statistically test for significance of effects\n",
    "- requires normality assumptions, homoscedasticity, linear model is correct\n",
    "- hard to obtain significance for individual effect under colinearity\n",
    "\n",
    "### Prediction perspective\n",
    "\n",
    "- think of OLS as a black-box model for predicting $Y | X$\n",
    "- how do we evaluate performance of prediction?\n",
    "- how do we choose between multiple OLS models?"
   ]
  },
  {
   "cell_type": "markdown",
   "metadata": {
    "slideshow": {
     "slide_type": "slide"
    }
   },
   "source": [
    "### Linear Regression\n",
    "\n",
    "- **Fit**: Compute $\\hat \\beta$ from OLS with training data $\\{x_i,y_i\\}_{i=1}^{n_0}$\n",
    "- **Predict**: For a new predictor $x_{n+1}$ predict $$\\hat y = \\hat \\beta_0 + \\sum_{j=1}^p \\hat \\beta_j x_j = $$\n",
    "- **Loss**: Observe new response $y_{n+1}$ and see loss $$\\ell(\\hat y,y_{n+1}) = (\\hat y - y_{n+1})^2$$"
   ]
  },
  {
   "cell_type": "markdown",
   "metadata": {},
   "source": [
    "### Moving $\\beta$\n",
    "\n",
    "$$\\hat y = \\beta_0 + \\sum_{j=1}^p \\beta_j x_{j} = \\beta_0 + \\beta^\\top x$$\n",
    "\n",
    "- **Loss**: Loss $$\\ell(\\hat y,y) = (\\beta_0 + \\beta^\\top x - y)^2$$\n",
    "- **Gradient**: $$\\frac{\\partial}{\\partial \\beta_j} \\ell(\\hat y, y) = 2 ()"
   ]
  },
  {
   "cell_type": "code",
   "execution_count": null,
   "metadata": {
    "collapsed": true
   },
   "outputs": [],
   "source": []
  }
 ],
 "metadata": {
  "celltoolbar": "Slideshow",
  "kernelspec": {
   "display_name": "Python 3",
   "language": "python",
   "name": "python3"
  },
  "language_info": {
   "codemirror_mode": {
    "name": "ipython",
    "version": 3
   },
   "file_extension": ".py",
   "mimetype": "text/x-python",
   "name": "python",
   "nbconvert_exporter": "python",
   "pygments_lexer": "ipython3",
   "version": "3.6.4"
  }
 },
 "nbformat": 4,
 "nbformat_minor": 2
}
