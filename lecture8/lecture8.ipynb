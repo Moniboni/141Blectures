{
 "cells": [
  {
   "cell_type": "markdown",
   "metadata": {
    "slideshow": {
     "slide_type": "slide"
    }
   },
   "source": [
    "# Learning Machines\n",
    "\n",
    "## Stats 141B\n",
    "\n",
    "## Lecture 8\n",
    "\n",
    "## Prof. Sharpnack\n",
    "\n",
    "## Lecture slides at http://anson.ucdavis.edu/~jsharpna/141Blectures/\n",
    "\n",
    "## Lecture repository at https://github.com/jsharpna/141Blectures/"
   ]
  },
  {
   "cell_type": "markdown",
   "metadata": {
    "slideshow": {
     "slide_type": "slide"
    }
   },
   "source": [
    "### Linear model\n",
    "\n",
    "$$\\hat y_i = \\beta_0 + \\sum_{j=1}^p \\beta_j x_{i,j}$$\n",
    "\n",
    "### Inference in linear models\n",
    "\n",
    "- statistically test for significance of effects\n",
    "- requires normality assumptions, homoscedasticity, linear model is correct\n",
    "- hard to obtain significance for individual effect under colinearity\n",
    "\n",
    "### Prediction perspective\n",
    "\n",
    "- think of OLS as a black-box model for predicting $Y | X$\n",
    "- how do we evaluate performance of prediction?\n",
    "- how do we choose between multiple OLS models?"
   ]
  },
  {
   "cell_type": "markdown",
   "metadata": {
    "slideshow": {
     "slide_type": "slide"
    }
   },
   "source": [
    "### Linear Regression\n",
    "\n",
    "- **Fit**: Compute $\\hat \\beta$ from OLS with training data $\\{x_i,y_i\\}_{i=1}^{n_0}$\n",
    "- **Predict**: For a new predictor $x_{n+1}$ predict $$\\hat y = \\hat \\beta_0 + \\sum_{j=1}^p \\hat \\beta_j x_j$$\n",
    "- **Loss**: Observe new response $y_{n+1}$ and see loss $$\\ell(\\hat y,y_{n+1}) = (\\hat y - y_{n+1})^2$$"
   ]
  },
  {
   "cell_type": "markdown",
   "metadata": {
    "slideshow": {
     "slide_type": "slide"
    }
   },
   "source": [
    "### Online learning\n",
    "\n",
    "\"you are a website that serves free content, and you want to get people to donate ... you want to strategically ask for these donations, so you monitor someone’s session all the while extracting possible predictor variables.\"  Will they donate?\n",
    "\n",
    "- Player 2 (the user) shows the predictor variables (the session behavior of the user) to player 1;\n",
    "- Player 1 (the website) then predicts the response variable (whether they donate or not), and then acts accordingly;\n",
    "- Player 2 (the user) reveals the response variable;\n",
    "- Player 1 then incurs some reward/loss;\n",
    "- Repeat 1-4 for the next session.\n"
   ]
  },
  {
   "cell_type": "markdown",
   "metadata": {
    "slideshow": {
     "slide_type": "slide"
    }
   },
   "source": [
    "### How do we move $\\beta$ to reduce the loss?\n",
    "\n",
    "$$\\hat y_i = \\beta_0 + \\sum_{j=1}^p \\beta_j x_{i,j} = \\beta_0 + \\beta^\\top x_i$$\n",
    "\n",
    "- **Loss**: $$\\ell(\\hat y_i,y) = \\left(\\beta_0 + \\sum_j \\beta_j x_{i,j} - y_i \\right)^2$$"
   ]
  },
  {
   "cell_type": "code",
   "execution_count": 1,
   "metadata": {
    "slideshow": {
     "slide_type": "skip"
    }
   },
   "outputs": [],
   "source": [
    "import numpy as np\n",
    "import matplotlib.pyplot as plt"
   ]
  },
  {
   "cell_type": "code",
   "execution_count": 2,
   "metadata": {
    "slideshow": {
     "slide_type": "slide"
    }
   },
   "outputs": [],
   "source": [
    "def sim_linmod(p = 2, sigma = .5):\n",
    "    \"\"\"Simulate and draw a single sample from a linear model\"\"\"\n",
    "    beta = np.array([1,.5,2])\n",
    "    x = np.random.normal(0,1,p)\n",
    "    y = beta[0] + beta[1:] @ x + np.random.normal(0,sigma)\n",
    "    plt.arrow(0,0,x[0],x[1],color='r',width=.05)\n",
    "    plt.arrow(0,0,beta[1],beta[2],color='b',width=.05)\n",
    "    plt.xlim([-2,2])\n",
    "    plt.ylim([-3,3])\n",
    "    plt.show()\n",
    "    return \"beta (blue): {}, x (red): {}, y: {}\".format(beta,x,y)"
   ]
  },
  {
   "cell_type": "code",
   "execution_count": 26,
   "metadata": {
    "slideshow": {
     "slide_type": "slide"
    }
   },
   "outputs": [
    {
     "data": {
      "image/png": "[encoded data removed]",
      "text/plain": [
       "<Figure size 432x288 with 1 Axes>"
      ]
     },
     "metadata": {
      "needs_background": "light"
     },
     "output_type": "display_data"
    },
    {
     "name": "stdout",
     "output_type": "stream",
     "text": [
      "beta (blue): [1.  0.5 2. ], x (red): [-0.69601097  1.94807956], y: 4.059108053368506\n"
     ]
    }
   ],
   "source": [
    "print(sim_linmod())"
   ]
  },
  {
   "cell_type": "code",
   "execution_count": 4,
   "metadata": {
    "slideshow": {
     "slide_type": "slide"
    }
   },
   "outputs": [
    {
     "data": {
      "image/png": "[encoded data removed]",
      "text/plain": [
       "<Figure size 432x288 with 1 Axes>"
      ]
     },
     "metadata": {
      "needs_background": "light"
     },
     "output_type": "display_data"
    },
    {
     "name": "stdout",
     "output_type": "stream",
     "text": [
      "beta (blue): [1.  0.5 2. ], x (red): [ 0.27679599 -0.97205039], y: -0.6130490432151816\n"
     ]
    }
   ],
   "source": [
    "print(sim_linmod())"
   ]
  },
  {
   "cell_type": "code",
   "execution_count": 5,
   "metadata": {
    "slideshow": {
     "slide_type": "slide"
    }
   },
   "outputs": [],
   "source": [
    "def sim_linfit(betahat,p = 2, sigma = .5):\n",
    "    \"\"\"Simulate and draw a single sample from a linear model with prediction\"\"\"\n",
    "    beta = np.array([1,.5,2])\n",
    "    x = np.random.normal(0,1,p)\n",
    "    y = beta[0] + beta[1:] @ x + np.random.normal(0,sigma)\n",
    "    plt.arrow(0,0,x[0],x[1],color='r',width=.05)\n",
    "    plt.arrow(0,0,beta[1],beta[2],color='b',width=.05)\n",
    "    plt.arrow(0,0,betahat[1],betahat[2],color='y',width=.05)\n",
    "    yhat = betahat[0] + betahat[1:] @ x\n",
    "    plt.xlim([-2,2])\n",
    "    plt.ylim([-3,3])\n",
    "    plt.show()\n",
    "    return \"\"\"beta (blue): {}, x (red): {}, y: {}\n",
    "betahat (yellow): {}, yhat: {}\"\"\".format(beta,x,y,betahat,yhat)"
   ]
  },
  {
   "cell_type": "code",
   "execution_count": 28,
   "metadata": {
    "slideshow": {
     "slide_type": "slide"
    }
   },
   "outputs": [
    {
     "data": {
      "image/png": "[encoded data removed]",
      "text/plain": [
       "<Figure size 432x288 with 1 Axes>"
      ]
     },
     "metadata": {
      "needs_background": "light"
     },
     "output_type": "display_data"
    },
    {
     "name": "stdout",
     "output_type": "stream",
     "text": [
      "beta (blue): [1.  0.5 2. ], x (red): [-1.21184627  0.65024589], y: 1.642291098096198\n",
      "betahat (yellow): [-1, 1, 1], yhat: -1.5616003803208676\n"
     ]
    }
   ],
   "source": [
    "betahat = [-1,1,1]\n",
    "print(sim_linfit(betahat))"
   ]
  },
  {
   "cell_type": "code",
   "execution_count": 7,
   "metadata": {
    "slideshow": {
     "slide_type": "slide"
    }
   },
   "outputs": [
    {
     "data": {
      "image/png": "[encoded data removed]",
      "text/plain": [
       "<Figure size 432x288 with 1 Axes>"
      ]
     },
     "metadata": {
      "needs_background": "light"
     },
     "output_type": "display_data"
    },
    {
     "name": "stdout",
     "output_type": "stream",
     "text": [
      "beta (blue): [1.  0.5 2. ], x (red): [1.7246148  0.75343014], y: 3.6828466575704555\n",
      "betahat (yellow): [-1, 1, 1], yhat: 1.4780449381863248\n"
     ]
    }
   ],
   "source": [
    "betahat = [-1,1,1]\n",
    "print(sim_linfit(betahat))"
   ]
  },
  {
   "cell_type": "markdown",
   "metadata": {
    "collapsed": true,
    "slideshow": {
     "slide_type": "slide"
    }
   },
   "source": [
    "- **Loss**: $$\\ell(\\hat y_i,y_i) = \\left(\\beta_0 + \\sum_j \\beta_j x_{i,j} - y_i \\right)^2$$\n",
    "\n",
    "- **Gradient**: $$\\frac{\\partial}{\\partial \\beta_j} \\ell(\\hat y_i,y_i) = 2 \\left(\\beta_0 + \\sum_j \\beta_j x_{i,j} - y_i\\right) x_{i,j}  = \\eta_i x_{i,j}$$\n",
    "$$\\frac{\\partial}{\\partial \\beta_0} \\ell(\\hat y_i,y_i) = 2 \\left(\\beta_0 + \\sum_j \\beta_j x_{i,j} - y_i\\right)  = \\eta_i$$\n",
    "$$ \\eta_i = 2 \\left(\\hat y_i - y_i \\right)$$\n",
    "\n",
    "- **Update**: choose some multiplier $\\mu$, $$\\beta \\gets \\beta - \\mu \\eta_i x_i$$\n",
    "$$\\beta_0 \\gets \\beta_0 - \\mu \\eta_i$$"
   ]
  },
  {
   "cell_type": "code",
   "execution_count": 8,
   "metadata": {
    "slideshow": {
     "slide_type": "slide"
    }
   },
   "outputs": [],
   "source": [
    "## open wine data\n",
    "with open('../data/winequality-red.csv','r') as winefile:\n",
    "    header = winefile.readline()\n",
    "    wine_list = [line.strip().split(';') for line in winefile]"
   ]
  },
  {
   "cell_type": "code",
   "execution_count": 9,
   "metadata": {
    "slideshow": {
     "slide_type": "fragment"
    }
   },
   "outputs": [],
   "source": [
    "## array and standardize wine data\n",
    "wine_ar = np.array(wine_list,dtype=np.float64)\n",
    "Y = wine_ar[:,-1]\n",
    "X = wine_ar[:,:-1]\n",
    "n,p = X.shape\n",
    "\n",
    "X = n**0.5 * (X - X.mean(axis=0)) / X.std(axis=0)"
   ]
  },
  {
   "cell_type": "code",
   "execution_count": 10,
   "metadata": {
    "slideshow": {
     "slide_type": "slide"
    }
   },
   "outputs": [],
   "source": [
    "## import online linear reg\n",
    "from LROnline import *\n",
    "\n",
    "learner = LROnline(p,loss='sqr',decay=-1.)"
   ]
  },
  {
   "cell_type": "code",
   "execution_count": 11,
   "metadata": {
    "slideshow": {
     "slide_type": "fragment"
    }
   },
   "outputs": [
    {
     "name": "stdout",
     "output_type": "stream",
     "text": [
      "Help on method update_beta in module LROnline:\n",
      "\n",
      "update_beta(x, y) method of LROnline.LROnline instance\n",
      "    single step update, output loss\n",
      "    args: x,y\n",
      "\n"
     ]
    }
   ],
   "source": [
    "help(learner.update_beta) # why we do docstrings"
   ]
  },
  {
   "cell_type": "code",
   "execution_count": 12,
   "metadata": {
    "slideshow": {
     "slide_type": "slide"
    }
   },
   "outputs": [],
   "source": [
    "yx_it = zip(Y,X) # iterator giving data\n",
    "y,x = next(yx_it) # first datum"
   ]
  },
  {
   "cell_type": "code",
   "execution_count": 13,
   "metadata": {
    "slideshow": {
     "slide_type": "fragment"
    }
   },
   "outputs": [
    {
     "data": {
      "text/plain": [
       "(array([0., 0., 0., 0., 0., 0., 0., 0., 0., 0., 0.]),\n",
       " 5.0,\n",
       " array([-21.12777894,  38.46304151, -55.64149498, -18.12307015,\n",
       "         -9.74522065, -18.64187237, -15.16056766,  22.32399898,\n",
       "         51.52960611, -23.16101967, -38.39783932]))"
      ]
     },
     "execution_count": 13,
     "metadata": {},
     "output_type": "execute_result"
    }
   ],
   "source": [
    "learner.beta, y, x # init beta, first datum"
   ]
  },
  {
   "cell_type": "code",
   "execution_count": 14,
   "metadata": {
    "slideshow": {
     "slide_type": "slide"
    }
   },
   "outputs": [
    {
     "data": {
      "text/plain": [
       "25.0"
      ]
     },
     "execution_count": 14,
     "metadata": {},
     "output_type": "execute_result"
    }
   ],
   "source": [
    "learner.update_beta(x,y) # return loss"
   ]
  },
  {
   "cell_type": "code",
   "execution_count": 15,
   "metadata": {
    "slideshow": {
     "slide_type": "fragment"
    }
   },
   "outputs": [
    {
     "data": {
      "text/plain": [
       "(array([-211.27778942,  384.63041512, -556.41494984, -181.23070154,\n",
       "         -97.45220654, -186.41872368, -151.60567657,  223.2399898 ,\n",
       "         515.29606114, -231.61019672, -383.97839323]),\n",
       " 5.0,\n",
       " array([-21.12777894,  38.46304151, -55.64149498, -18.12307015,\n",
       "         -9.74522065, -18.64187237, -15.16056766,  22.32399898,\n",
       "         51.52960611, -23.16101967, -38.39783932]))"
      ]
     },
     "execution_count": 15,
     "metadata": {},
     "output_type": "execute_result"
    }
   ],
   "source": [
    "learner.beta, y, x # new beta, first datum"
   ]
  },
  {
   "cell_type": "code",
   "execution_count": 16,
   "metadata": {
    "slideshow": {
     "slide_type": "slide"
    }
   },
   "outputs": [
    {
     "name": "stderr",
     "output_type": "stream",
     "text": [
      "/home/jsharpna/Documents/141Blectures/lecture8/LROnline.py:61: RuntimeWarning: overflow encountered in double_scalars\n",
      "  return (yhat - y)**2.\n"
     ]
    }
   ],
   "source": [
    "losses = [learner.update_beta(x,y) for y,x in yx_it] # run online learning"
   ]
  },
  {
   "cell_type": "code",
   "execution_count": 19,
   "metadata": {
    "slideshow": {
     "slide_type": "fragment"
    }
   },
   "outputs": [
    {
     "data": {
      "image/png": "[encoded data removed]",
      "text/plain": [
       "<Figure size 432x288 with 1 Axes>"
      ]
     },
     "metadata": {
      "needs_background": "light"
     },
     "output_type": "display_data"
    }
   ],
   "source": [
    "plt.plot(losses)\n",
    "_ = plt.title('Losses with sqr error gradient descent')"
   ]
  },
  {
   "cell_type": "code",
   "execution_count": 18,
   "metadata": {
    "slideshow": {
     "slide_type": "slide"
    }
   },
   "outputs": [
    {
     "data": {
      "text/plain": [
       "[2067729527.0887518,\n",
       " 1.2972286475708698e+17,\n",
       " 1.4484210746218208e+24,\n",
       " 1.6862015370055045e+31,\n",
       " 3.0592547367922106e+38,\n",
       " 1.2139432592209116e+45,\n",
       " 4.6972074272865694e+51,\n",
       " 1.488167054648011e+58,\n",
       " 2.0253212864752874e+64,\n",
       " 4.4936114827916035e+69,\n",
       " 7.984660543274198e+74,\n",
       " 2.302756038514625e+80,\n",
       " 2.169052862390691e+86,\n",
       " 3.741028761437904e+92,\n",
       " 1.619810075206481e+100,\n",
       " 7.477687139133545e+106,\n",
       " 2.732892602772651e+112,\n",
       " 1.137326138353174e+118,\n",
       " 5.329103551233114e+123,\n",
       " 1.0696793225108389e+128]"
      ]
     },
     "execution_count": 18,
     "metadata": {},
     "output_type": "execute_result"
    }
   ],
   "source": [
    "losses[:10]"
   ]
  },
  {
   "cell_type": "markdown",
   "metadata": {
    "collapsed": true,
    "slideshow": {
     "slide_type": "slide"
    }
   },
   "source": [
    "- **Loss**: $$\\ell(\\hat y_i,y_i) = \\left| \\beta_0 + \\sum_j \\beta_j x_{i,j} - y_i \\right|$$\n",
    "\n",
    "- **(sub-)Gradient**: $$\\frac{\\partial}{\\partial \\beta_j} \\ell(\\hat y_i,y_i) = {\\rm sign} \\left(\\beta_0 + \\sum_j \\beta_j x_{i,j} - y_i\\right) x_{i,j}  = \\eta_i x_{i,j}$$\n",
    "$$\\frac{\\partial}{\\partial \\beta_0} \\ell(\\hat y_i,y_i) = {\\rm sign} \\left(\\beta_0 + \\sum_j \\beta_j x_{i,j} - y_i\\right)  = \\eta_i$$\n",
    "$$ \\eta_i = {\\rm sign} \\left(\\hat y_i - y_i \\right)$$\n",
    "\n",
    "- **Update**: choose some multiplier $\\mu$, $$\\beta \\gets \\beta - \\mu \\eta_i x_i$$\n",
    "$$\\beta_0 \\gets \\beta_0 - \\mu \\eta_i$$"
   ]
  },
  {
   "cell_type": "code",
   "execution_count": 94,
   "metadata": {
    "slideshow": {
     "slide_type": "slide"
    }
   },
   "outputs": [
    {
     "data": {
      "text/plain": [
       "array([ 2.19262545, -0.43849604, -0.43632342,  0.6404891 , -0.20420907,\n",
       "        0.08103325,  0.28162537, -1.85430897,  1.24673039,  0.31199578,\n",
       "       -0.86939119])"
      ]
     },
     "execution_count": 94,
     "metadata": {},
     "output_type": "execute_result"
    }
   ],
   "source": [
    "learner.beta"
   ]
  },
  {
   "cell_type": "code",
   "execution_count": 20,
   "metadata": {
    "slideshow": {
     "slide_type": "fragment"
    }
   },
   "outputs": [],
   "source": [
    "learner = LROnline(p,loss='abs',decay=-1.)\n",
    "losses = [learner.update_beta(x,y) for y,x in zip(Y,X)]"
   ]
  },
  {
   "cell_type": "code",
   "execution_count": 21,
   "metadata": {
    "slideshow": {
     "slide_type": "slide"
    }
   },
   "outputs": [
    {
     "data": {
      "image/png": "[encoded data removed]",
      "text/plain": [
       "<Figure size 432x288 with 1 Axes>"
      ]
     },
     "metadata": {
      "needs_background": "light"
     },
     "output_type": "display_data"
    }
   ],
   "source": [
    "plt.plot(losses)\n",
    "_ = plt.title('Losses with abs error gradient descent')"
   ]
  }
 ],
 "metadata": {
  "celltoolbar": "Slideshow",
  "kernelspec": {
   "display_name": "Python 3",
   "language": "python",
   "name": "python3"
  },
  "language_info": {
   "codemirror_mode": {
    "name": "ipython",
    "version": 3
   },
   "file_extension": ".py",
   "mimetype": "text/x-python",
   "name": "python",
   "nbconvert_exporter": "python",
   "pygments_lexer": "ipython3",
   "version": "3.7.0"
  }
 },
 "nbformat": 4,
 "nbformat_minor": 2
}
